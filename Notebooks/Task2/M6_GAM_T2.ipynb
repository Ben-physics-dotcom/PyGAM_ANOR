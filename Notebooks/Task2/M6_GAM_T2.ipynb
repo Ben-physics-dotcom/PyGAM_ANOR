{
 "cells": [
  {
   "cell_type": "code",
   "execution_count": null,
   "id": "194c5915",
   "metadata": {},
   "outputs": [],
   "source": [
    "%run Imports.ipynb\n",
    "name = 'Kred'"
   ]
  },
  {
   "cell_type": "code",
   "execution_count": null,
   "id": "69ee4660",
   "metadata": {},
   "outputs": [],
   "source": [
    "from pygam import LinearGAM, LogisticGAM, PoissonGAM, GammaGAM, s"
   ]
  },
  {
   "cell_type": "code",
   "execution_count": null,
   "id": "6cb78ec7",
   "metadata": {},
   "outputs": [],
   "source": [
    "import time\n",
    "from copy import deepcopy\n",
    "from itertools import product\n",
    "\n",
    "from sklearn.model_selection import ParameterGrid, cross_val_predict\n",
    "from sklearn.metrics import (\n",
    "    confusion_matrix, accuracy_score, f1_score, roc_auc_score,\n",
    "    mean_squared_error, mean_absolute_error, r2_score\n",
    ")\n"
   ]
  },
  {
   "cell_type": "code",
   "execution_count": null,
   "id": "08cec0f4",
   "metadata": {},
   "outputs": [],
   "source": [
    "# -------------------------------------------------------------------------\n",
    "# 1. PARAM GRID  –  now also hosts `cv` and `verbose`\n",
    "# -------------------------------------------------------------------------\n",
    "param_grid = {\n",
    "    \"model_cls\": [LinearGAM, LogisticGAM, PoissonGAM, GammaGAM],\n",
    "    \"n_splines\": [406],          # constant but explicit\n",
    "    \"lam\":       [1, 10, 50, 60, 75, 85, 90, 100],\n",
    "    \"max_iter\":  [50, 100, 150, 200, 300, 400, 500],\n",
    "    \"cv\":        [5],            # ← here\n",
    "    \"verbose\":   [True],         # ← and here\n",
    "}"
   ]
  },
  {
   "cell_type": "markdown",
   "id": "9ab37877",
   "metadata": {},
   "source": [
    "# 1) Read in Files"
   ]
  },
  {
   "cell_type": "code",
   "execution_count": null,
   "id": "8533962d",
   "metadata": {},
   "outputs": [],
   "source": [
    "key_featsubgroups = pd.read_json('../pickle/2_FS/' + name + '/key_featsubgroups.json', orient='records', lines=True)\n",
    "df = pd.read_json('../pickle/2_FS/' + name + '/2_df_new_.json', orient='records', lines=True)"
   ]
  },
  {
   "cell_type": "code",
   "execution_count": null,
   "id": "9484f722",
   "metadata": {},
   "outputs": [],
   "source": [
    "print(df[target].value_counts()/df.shape[0])\n",
    "print('df_shape: ', df.shape)"
   ]
  }
 ],
 "metadata": {
  "kernelspec": {
   "display_name": "gam",
   "language": "python",
   "name": "python3"
  },
  "language_info": {
   "name": "python",
   "version": "3.12.11"
  }
 },
 "nbformat": 4,
 "nbformat_minor": 5
}
