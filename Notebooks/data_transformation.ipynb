{
 "cells": [
  {
   "cell_type": "markdown",
   "id": "349b9720",
   "metadata": {},
   "source": [
    "using the env Work at the server. After that use gam env."
   ]
  },
  {
   "cell_type": "code",
   "execution_count": null,
   "id": "146e0890",
   "metadata": {},
   "outputs": [],
   "source": [
    "%run Imports.ipynb\n",
    "name = 'Kred'"
   ]
  },
  {
   "cell_type": "code",
   "execution_count": null,
   "id": "fe0b63fc",
   "metadata": {},
   "outputs": [],
   "source": [
    "import time\n",
    "from copy import deepcopy\n",
    "from sklearn.model_selection import cross_val_predict\n",
    "from sklearn.metrics import confusion_matrix, accuracy_score, f1_score, roc_auc_score\n",
    "import json\n"
   ]
  },
  {
   "cell_type": "code",
   "execution_count": null,
   "id": "963b1e62",
   "metadata": {},
   "outputs": [],
   "source": [
    "key_featsubgroups = pd.read_pickle('../pickle/2_FS/' + name + '/key_featsubgroups.pkl')\n",
    "df = pd.read_pickle('../pickle/2_FS/' + name + '/2_df_new_.pkl')"
   ]
  },
  {
   "cell_type": "code",
   "execution_count": null,
   "id": "02f61e17",
   "metadata": {},
   "outputs": [],
   "source": [
    "df.to_json('../pickle/2_FS/' + name + '/2_df_new_.json', orient='records', lines=True)\n",
    "key_featsubgroups.to_json('../pickle/2_FS/' + name + '/key_featsubgroups.json', orient='records', lines=True)"
   ]
  },
  {
   "cell_type": "code",
   "execution_count": null,
   "id": "f2a0e55e",
   "metadata": {},
   "outputs": [],
   "source": [
    "print(df[target].value_counts()/df.shape[0])\n",
    "print('df_shape: ', df.shape)"
   ]
  },
  {
   "cell_type": "code",
   "execution_count": null,
   "id": "93675228",
   "metadata": {},
   "outputs": [],
   "source": [
    "with open('../pickle/4_Model_Optuna/results_dict_updated.pkl', 'rb') as f:\n",
    "    results_dict = pickle.load(f)"
   ]
  },
  {
   "cell_type": "code",
   "execution_count": null,
   "id": "31972777",
   "metadata": {},
   "outputs": [],
   "source": [
    "np.savez_compressed(\"../pickle/4_Model_Optuna/results_dict_updated.npz\", **results_dict)\n",
    "print(\"Wrote ../pickle/4_Model_Optuna/results_dict_updated.npz\")"
   ]
  },
  {
   "cell_type": "code",
   "execution_count": null,
   "id": "2250b3df",
   "metadata": {},
   "outputs": [],
   "source": [
    "with open('../pickle/3_Model/results_dict_updated_pre-Bayes.pkl', 'rb') as f:\n",
    "    pre_bayes = pickle.load(f)\n",
    "\n",
    "with open('../pickle/3_Model/xgb_default_params.pkl', 'rb') as f:\n",
    "    default_params_xgb = pickle.load(f)"
   ]
  },
  {
   "cell_type": "code",
   "execution_count": null,
   "id": "7e8b36da",
   "metadata": {},
   "outputs": [],
   "source": [
    "np.savez_compressed(\"../pickle/3_Model/results_dict_updated_pre-Bayes.npz\", **pre_bayes)\n",
    "np.savez_compressed(\"../pickle/3_Model/xgb_default_params.npz\", **default_params_xgb)"
   ]
  }
 ],
 "metadata": {
  "language_info": {
   "name": "python"
  }
 },
 "nbformat": 4,
 "nbformat_minor": 5
}
