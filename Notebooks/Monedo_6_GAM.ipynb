{
 "cells": [
  {
   "cell_type": "markdown",
   "id": "be4077b7",
   "metadata": {},
   "source": [
    "# Imports"
   ]
  },
  {
   "cell_type": "code",
   "execution_count": 8,
   "id": "f7da0d81",
   "metadata": {},
   "outputs": [
    {
     "ename": "ImportError",
     "evalue": "Numba needs NumPy 2.2 or less. Got NumPy 2.3.",
     "output_type": "error",
     "traceback": [
      "\u001b[31m---------------------------------------------------------------------------\u001b[39m",
      "\u001b[31mImportError\u001b[39m                               Traceback (most recent call last)",
      "\u001b[36mFile \u001b[39m\u001b[32m/tmp/ipykernel_1193650/390046284.py:12\u001b[39m\n\u001b[32m     10\u001b[39m \u001b[38;5;28;01mimport\u001b[39;00m\u001b[38;5;250m \u001b[39m\u001b[34;01mnumpy\u001b[39;00m\u001b[38;5;250m \u001b[39m\u001b[38;5;28;01mas\u001b[39;00m\u001b[38;5;250m \u001b[39m\u001b[34;01mnp\u001b[39;00m\n\u001b[32m     11\u001b[39m \u001b[38;5;28;01mfrom\u001b[39;00m\u001b[38;5;250m \u001b[39m\u001b[34;01mscipy\u001b[39;00m\u001b[38;5;250m \u001b[39m\u001b[38;5;28;01mimport\u001b[39;00m stats\n\u001b[32m---> \u001b[39m\u001b[32m12\u001b[39m \u001b[38;5;28;01mimport\u001b[39;00m\u001b[38;5;250m \u001b[39m\u001b[34;01mshap\u001b[39;00m\n\u001b[32m     13\u001b[39m \u001b[38;5;28;01mfrom\u001b[39;00m\u001b[38;5;250m \u001b[39m\u001b[34;01mscipy\u001b[39;00m\u001b[34;01m.\u001b[39;00m\u001b[34;01mspecial\u001b[39;00m\u001b[38;5;250m \u001b[39m\u001b[38;5;28;01mimport\u001b[39;00m softmax\n\u001b[32m     14\u001b[39m \u001b[38;5;28;01mfrom\u001b[39;00m\u001b[38;5;250m \u001b[39m\u001b[34;01mstatistics\u001b[39;00m\u001b[38;5;250m \u001b[39m\u001b[38;5;28;01mimport\u001b[39;00m mean\n",
      "\u001b[36mFile \u001b[39m\u001b[32m~/.conda/envs/gam/lib/python3.12/site-packages/shap/__init__.py:1\u001b[39m\n\u001b[32m----> \u001b[39m\u001b[32m1\u001b[39m \u001b[38;5;28;01mfrom\u001b[39;00m\u001b[38;5;250m \u001b[39m\u001b[34;01m.\u001b[39;00m\u001b[34;01m_explanation\u001b[39;00m\u001b[38;5;250m \u001b[39m\u001b[38;5;28;01mimport\u001b[39;00m Cohorts, Explanation\n\u001b[32m      3\u001b[39m \u001b[38;5;66;03m# explainers\u001b[39;00m\n\u001b[32m      4\u001b[39m \u001b[38;5;28;01mfrom\u001b[39;00m\u001b[38;5;250m \u001b[39m\u001b[34;01m.\u001b[39;00m\u001b[34;01mexplainers\u001b[39;00m\u001b[38;5;250m \u001b[39m\u001b[38;5;28;01mimport\u001b[39;00m other\n",
      "\u001b[36mFile \u001b[39m\u001b[32m~/.conda/envs/gam/lib/python3.12/site-packages/shap/_explanation.py:16\u001b[39m\n\u001b[32m     13\u001b[39m \u001b[38;5;28;01mimport\u001b[39;00m\u001b[38;5;250m \u001b[39m\u001b[34;01msklearn\u001b[39;00m\n\u001b[32m     14\u001b[39m \u001b[38;5;28;01mfrom\u001b[39;00m\u001b[38;5;250m \u001b[39m\u001b[34;01mslicer\u001b[39;00m\u001b[38;5;250m \u001b[39m\u001b[38;5;28;01mimport\u001b[39;00m Alias, Obj, Slicer\n\u001b[32m---> \u001b[39m\u001b[32m16\u001b[39m \u001b[38;5;28;01mfrom\u001b[39;00m\u001b[38;5;250m \u001b[39m\u001b[34;01m.\u001b[39;00m\u001b[34;01mutils\u001b[39;00m\u001b[34;01m.\u001b[39;00m\u001b[34;01m_clustering\u001b[39;00m\u001b[38;5;250m \u001b[39m\u001b[38;5;28;01mimport\u001b[39;00m hclust_ordering\n\u001b[32m     17\u001b[39m \u001b[38;5;28;01mfrom\u001b[39;00m\u001b[38;5;250m \u001b[39m\u001b[34;01m.\u001b[39;00m\u001b[34;01mutils\u001b[39;00m\u001b[34;01m.\u001b[39;00m\u001b[34;01m_exceptions\u001b[39;00m\u001b[38;5;250m \u001b[39m\u001b[38;5;28;01mimport\u001b[39;00m DimensionError\n\u001b[32m     18\u001b[39m \u001b[38;5;28;01mfrom\u001b[39;00m\u001b[38;5;250m \u001b[39m\u001b[34;01m.\u001b[39;00m\u001b[34;01mutils\u001b[39;00m\u001b[34;01m.\u001b[39;00m\u001b[34;01m_general\u001b[39;00m\u001b[38;5;250m \u001b[39m\u001b[38;5;28;01mimport\u001b[39;00m OpChain\n",
      "\u001b[36mFile \u001b[39m\u001b[32m~/.conda/envs/gam/lib/python3.12/site-packages/shap/utils/__init__.py:1\u001b[39m\n\u001b[32m----> \u001b[39m\u001b[32m1\u001b[39m \u001b[38;5;28;01mfrom\u001b[39;00m\u001b[38;5;250m \u001b[39m\u001b[34;01m.\u001b[39;00m\u001b[34;01m_clustering\u001b[39;00m\u001b[38;5;250m \u001b[39m\u001b[38;5;28;01mimport\u001b[39;00m (\n\u001b[32m      2\u001b[39m     delta_minimization_order,\n\u001b[32m      3\u001b[39m     hclust,\n\u001b[32m      4\u001b[39m     hclust_ordering,\n\u001b[32m      5\u001b[39m     partition_tree,\n\u001b[32m      6\u001b[39m     partition_tree_shuffle,\n\u001b[32m      7\u001b[39m )\n\u001b[32m      8\u001b[39m \u001b[38;5;28;01mfrom\u001b[39;00m\u001b[38;5;250m \u001b[39m\u001b[34;01m.\u001b[39;00m\u001b[34;01m_general\u001b[39;00m\u001b[38;5;250m \u001b[39m\u001b[38;5;28;01mimport\u001b[39;00m (\n\u001b[32m      9\u001b[39m     OpChain,\n\u001b[32m     10\u001b[39m     approximate_interactions,\n\u001b[32m   (...)\u001b[39m\u001b[32m     20\u001b[39m     suppress_stderr,\n\u001b[32m     21\u001b[39m )\n\u001b[32m     22\u001b[39m \u001b[38;5;28;01mfrom\u001b[39;00m\u001b[38;5;250m \u001b[39m\u001b[34;01m.\u001b[39;00m\u001b[34;01m_masked_model\u001b[39;00m\u001b[38;5;250m \u001b[39m\u001b[38;5;28;01mimport\u001b[39;00m MaskedModel, make_masks\n",
      "\u001b[36mFile \u001b[39m\u001b[32m~/.conda/envs/gam/lib/python3.12/site-packages/shap/utils/_clustering.py:12\u001b[39m\n\u001b[32m     10\u001b[39m \u001b[38;5;28;01mimport\u001b[39;00m\u001b[38;5;250m \u001b[39m\u001b[34;01mscipy\u001b[39;00m\u001b[34;01m.\u001b[39;00m\u001b[34;01mspatial\u001b[39;00m\n\u001b[32m     11\u001b[39m \u001b[38;5;28;01mimport\u001b[39;00m\u001b[38;5;250m \u001b[39m\u001b[34;01msklearn\u001b[39;00m\n\u001b[32m---> \u001b[39m\u001b[32m12\u001b[39m \u001b[38;5;28;01mfrom\u001b[39;00m\u001b[38;5;250m \u001b[39m\u001b[34;01mnumba\u001b[39;00m\u001b[38;5;250m \u001b[39m\u001b[38;5;28;01mimport\u001b[39;00m njit\n\u001b[32m     14\u001b[39m \u001b[38;5;28;01mfrom\u001b[39;00m\u001b[38;5;250m \u001b[39m\u001b[34;01m.\u001b[39;00m\u001b[34;01m.\u001b[39;00m\u001b[34;01mutils\u001b[39;00m\u001b[34;01m.\u001b[39;00m\u001b[34;01m_exceptions\u001b[39;00m\u001b[38;5;250m \u001b[39m\u001b[38;5;28;01mimport\u001b[39;00m DimensionError\n\u001b[32m     15\u001b[39m \u001b[38;5;28;01mfrom\u001b[39;00m\u001b[38;5;250m \u001b[39m\u001b[34;01m.\u001b[39;00m\u001b[34;01m_show_progress\u001b[39;00m\u001b[38;5;250m \u001b[39m\u001b[38;5;28;01mimport\u001b[39;00m show_progress\n",
      "\u001b[36mFile \u001b[39m\u001b[32m~/.conda/envs/gam/lib/python3.12/site-packages/numba/__init__.py:59\u001b[39m\n\u001b[32m     54\u001b[39m             msg = (\u001b[33m\"\u001b[39m\u001b[33mNumba requires SciPy version 1.0 or greater. Got SciPy \u001b[39m\u001b[33m\"\u001b[39m\n\u001b[32m     55\u001b[39m                    \u001b[33mf\u001b[39m\u001b[33m\"\u001b[39m\u001b[38;5;132;01m{\u001b[39;00mscipy.__version__\u001b[38;5;132;01m}\u001b[39;00m\u001b[33m.\u001b[39m\u001b[33m\"\u001b[39m)\n\u001b[32m     56\u001b[39m             \u001b[38;5;28;01mraise\u001b[39;00m \u001b[38;5;167;01mImportError\u001b[39;00m(msg)\n\u001b[32m---> \u001b[39m\u001b[32m59\u001b[39m \u001b[43m_ensure_critical_deps\u001b[49m\u001b[43m(\u001b[49m\u001b[43m)\u001b[49m\n\u001b[32m     60\u001b[39m \u001b[38;5;66;03m# END DO NOT MOVE\u001b[39;00m\n\u001b[32m     61\u001b[39m \u001b[38;5;66;03m# ---------------------- WARNING WARNING WARNING ----------------------------\u001b[39;00m\n\u001b[32m     64\u001b[39m \u001b[38;5;28;01mfrom\u001b[39;00m\u001b[38;5;250m \u001b[39m\u001b[34;01m.\u001b[39;00m\u001b[34;01m_version\u001b[39;00m\u001b[38;5;250m \u001b[39m\u001b[38;5;28;01mimport\u001b[39;00m get_versions\n",
      "\u001b[36mFile \u001b[39m\u001b[32m~/.conda/envs/gam/lib/python3.12/site-packages/numba/__init__.py:45\u001b[39m, in \u001b[36m_ensure_critical_deps\u001b[39m\u001b[34m()\u001b[39m\n\u001b[32m     42\u001b[39m \u001b[38;5;28;01mif\u001b[39;00m numpy_version > (\u001b[32m2\u001b[39m, \u001b[32m2\u001b[39m):\n\u001b[32m     43\u001b[39m     msg = (\u001b[33mf\u001b[39m\u001b[33m\"\u001b[39m\u001b[33mNumba needs NumPy 2.2 or less. Got NumPy \u001b[39m\u001b[33m\"\u001b[39m\n\u001b[32m     44\u001b[39m            \u001b[33mf\u001b[39m\u001b[33m\"\u001b[39m\u001b[38;5;132;01m{\u001b[39;00mnumpy_version[\u001b[32m0\u001b[39m]\u001b[38;5;132;01m}\u001b[39;00m\u001b[33m.\u001b[39m\u001b[38;5;132;01m{\u001b[39;00mnumpy_version[\u001b[32m1\u001b[39m]\u001b[38;5;132;01m}\u001b[39;00m\u001b[33m.\u001b[39m\u001b[33m\"\u001b[39m)\n\u001b[32m---> \u001b[39m\u001b[32m45\u001b[39m     \u001b[38;5;28;01mraise\u001b[39;00m \u001b[38;5;167;01mImportError\u001b[39;00m(msg)\n\u001b[32m     47\u001b[39m \u001b[38;5;28;01mtry\u001b[39;00m:\n\u001b[32m     48\u001b[39m     \u001b[38;5;28;01mimport\u001b[39;00m\u001b[38;5;250m \u001b[39m\u001b[34;01mscipy\u001b[39;00m\n",
      "\u001b[31mImportError\u001b[39m: Numba needs NumPy 2.2 or less. Got NumPy 2.3."
     ]
    },
    {
     "ename": "ImportError",
     "evalue": "Numba needs NumPy 2.2 or less. Got NumPy 2.3.",
     "output_type": "error",
     "traceback": [
      "\u001b[31m---------------------------------------------------------------------------\u001b[39m",
      "\u001b[31mImportError\u001b[39m                               Traceback (most recent call last)",
      "\u001b[36mCell\u001b[39m\u001b[36m \u001b[39m\u001b[32mIn[8]\u001b[39m\u001b[32m, line 1\u001b[39m\n\u001b[32m----> \u001b[39m\u001b[32m1\u001b[39m \u001b[43mget_ipython\u001b[49m\u001b[43m(\u001b[49m\u001b[43m)\u001b[49m\u001b[43m.\u001b[49m\u001b[43mrun_line_magic\u001b[49m\u001b[43m(\u001b[49m\u001b[33;43m'\u001b[39;49m\u001b[33;43mrun\u001b[39;49m\u001b[33;43m'\u001b[39;49m\u001b[43m,\u001b[49m\u001b[43m \u001b[49m\u001b[33;43m'\u001b[39;49m\u001b[33;43mImports.ipynb\u001b[39;49m\u001b[33;43m'\u001b[39;49m\u001b[43m)\u001b[49m\n\u001b[32m      2\u001b[39m name = \u001b[33m'\u001b[39m\u001b[33mKred\u001b[39m\u001b[33m'\u001b[39m\n",
      "\u001b[36mFile \u001b[39m\u001b[32m~/.conda/envs/gam/lib/python3.12/site-packages/IPython/core/interactiveshell.py:2504\u001b[39m, in \u001b[36mInteractiveShell.run_line_magic\u001b[39m\u001b[34m(self, magic_name, line, _stack_depth)\u001b[39m\n\u001b[32m   2502\u001b[39m     kwargs[\u001b[33m'\u001b[39m\u001b[33mlocal_ns\u001b[39m\u001b[33m'\u001b[39m] = \u001b[38;5;28mself\u001b[39m.get_local_scope(stack_depth)\n\u001b[32m   2503\u001b[39m \u001b[38;5;28;01mwith\u001b[39;00m \u001b[38;5;28mself\u001b[39m.builtin_trap:\n\u001b[32m-> \u001b[39m\u001b[32m2504\u001b[39m     result = \u001b[43mfn\u001b[49m\u001b[43m(\u001b[49m\u001b[43m*\u001b[49m\u001b[43margs\u001b[49m\u001b[43m,\u001b[49m\u001b[43m \u001b[49m\u001b[43m*\u001b[49m\u001b[43m*\u001b[49m\u001b[43mkwargs\u001b[49m\u001b[43m)\u001b[49m\n\u001b[32m   2506\u001b[39m \u001b[38;5;66;03m# The code below prevents the output from being displayed\u001b[39;00m\n\u001b[32m   2507\u001b[39m \u001b[38;5;66;03m# when using magics with decorator @output_can_be_silenced\u001b[39;00m\n\u001b[32m   2508\u001b[39m \u001b[38;5;66;03m# when the last Python token in the expression is a ';'.\u001b[39;00m\n\u001b[32m   2509\u001b[39m \u001b[38;5;28;01mif\u001b[39;00m \u001b[38;5;28mgetattr\u001b[39m(fn, magic.MAGIC_OUTPUT_CAN_BE_SILENCED, \u001b[38;5;28;01mFalse\u001b[39;00m):\n",
      "\u001b[36mFile \u001b[39m\u001b[32m~/.conda/envs/gam/lib/python3.12/site-packages/IPython/core/magics/execution.py:749\u001b[39m, in \u001b[36mExecutionMagics.run\u001b[39m\u001b[34m(self, parameter_s, runner, file_finder)\u001b[39m\n\u001b[32m    747\u001b[39m     \u001b[38;5;28;01mwith\u001b[39;00m preserve_keys(\u001b[38;5;28mself\u001b[39m.shell.user_ns, \u001b[33m'\u001b[39m\u001b[33m__file__\u001b[39m\u001b[33m'\u001b[39m):\n\u001b[32m    748\u001b[39m         \u001b[38;5;28mself\u001b[39m.shell.user_ns[\u001b[33m'\u001b[39m\u001b[33m__file__\u001b[39m\u001b[33m'\u001b[39m] = filename\n\u001b[32m--> \u001b[39m\u001b[32m749\u001b[39m         \u001b[38;5;28;43mself\u001b[39;49m\u001b[43m.\u001b[49m\u001b[43mshell\u001b[49m\u001b[43m.\u001b[49m\u001b[43msafe_execfile_ipy\u001b[49m\u001b[43m(\u001b[49m\u001b[43mfilename\u001b[49m\u001b[43m,\u001b[49m\u001b[43m \u001b[49m\u001b[43mraise_exceptions\u001b[49m\u001b[43m=\u001b[49m\u001b[38;5;28;43;01mTrue\u001b[39;49;00m\u001b[43m)\u001b[49m\n\u001b[32m    750\u001b[39m     \u001b[38;5;28;01mreturn\u001b[39;00m\n\u001b[32m    752\u001b[39m \u001b[38;5;66;03m# Control the response to exit() calls made by the script being run\u001b[39;00m\n",
      "\u001b[36mFile \u001b[39m\u001b[32m~/.conda/envs/gam/lib/python3.12/site-packages/IPython/core/interactiveshell.py:2995\u001b[39m, in \u001b[36mInteractiveShell.safe_execfile_ipy\u001b[39m\u001b[34m(self, fname, shell_futures, raise_exceptions)\u001b[39m\n\u001b[32m   2993\u001b[39m result = \u001b[38;5;28mself\u001b[39m.run_cell(cell, silent=\u001b[38;5;28;01mTrue\u001b[39;00m, shell_futures=shell_futures)\n\u001b[32m   2994\u001b[39m \u001b[38;5;28;01mif\u001b[39;00m raise_exceptions:\n\u001b[32m-> \u001b[39m\u001b[32m2995\u001b[39m     \u001b[43mresult\u001b[49m\u001b[43m.\u001b[49m\u001b[43mraise_error\u001b[49m\u001b[43m(\u001b[49m\u001b[43m)\u001b[49m\n\u001b[32m   2996\u001b[39m \u001b[38;5;28;01melif\u001b[39;00m \u001b[38;5;129;01mnot\u001b[39;00m result.success:\n\u001b[32m   2997\u001b[39m     \u001b[38;5;28;01mbreak\u001b[39;00m\n",
      "\u001b[36mFile \u001b[39m\u001b[32m~/.conda/envs/gam/lib/python3.12/site-packages/IPython/core/interactiveshell.py:326\u001b[39m, in \u001b[36mExecutionResult.raise_error\u001b[39m\u001b[34m(self)\u001b[39m\n\u001b[32m    324\u001b[39m     \u001b[38;5;28;01mraise\u001b[39;00m \u001b[38;5;28mself\u001b[39m.error_before_exec\n\u001b[32m    325\u001b[39m \u001b[38;5;28;01mif\u001b[39;00m \u001b[38;5;28mself\u001b[39m.error_in_exec \u001b[38;5;129;01mis\u001b[39;00m \u001b[38;5;129;01mnot\u001b[39;00m \u001b[38;5;28;01mNone\u001b[39;00m:\n\u001b[32m--> \u001b[39m\u001b[32m326\u001b[39m     \u001b[38;5;28;01mraise\u001b[39;00m \u001b[38;5;28mself\u001b[39m.error_in_exec\n",
      "    \u001b[31m[... skipping hidden 1 frame]\u001b[39m\n",
      "\u001b[36mFile \u001b[39m\u001b[32m/tmp/ipykernel_1193650/390046284.py:12\u001b[39m\n\u001b[32m     10\u001b[39m \u001b[38;5;28;01mimport\u001b[39;00m\u001b[38;5;250m \u001b[39m\u001b[34;01mnumpy\u001b[39;00m\u001b[38;5;250m \u001b[39m\u001b[38;5;28;01mas\u001b[39;00m\u001b[38;5;250m \u001b[39m\u001b[34;01mnp\u001b[39;00m\n\u001b[32m     11\u001b[39m \u001b[38;5;28;01mfrom\u001b[39;00m\u001b[38;5;250m \u001b[39m\u001b[34;01mscipy\u001b[39;00m\u001b[38;5;250m \u001b[39m\u001b[38;5;28;01mimport\u001b[39;00m stats\n\u001b[32m---> \u001b[39m\u001b[32m12\u001b[39m \u001b[38;5;28;01mimport\u001b[39;00m\u001b[38;5;250m \u001b[39m\u001b[34;01mshap\u001b[39;00m\n\u001b[32m     13\u001b[39m \u001b[38;5;28;01mfrom\u001b[39;00m\u001b[38;5;250m \u001b[39m\u001b[34;01mscipy\u001b[39;00m\u001b[34;01m.\u001b[39;00m\u001b[34;01mspecial\u001b[39;00m\u001b[38;5;250m \u001b[39m\u001b[38;5;28;01mimport\u001b[39;00m softmax\n\u001b[32m     14\u001b[39m \u001b[38;5;28;01mfrom\u001b[39;00m\u001b[38;5;250m \u001b[39m\u001b[34;01mstatistics\u001b[39;00m\u001b[38;5;250m \u001b[39m\u001b[38;5;28;01mimport\u001b[39;00m mean\n",
      "\u001b[36mFile \u001b[39m\u001b[32m~/.conda/envs/gam/lib/python3.12/site-packages/shap/__init__.py:1\u001b[39m\n\u001b[32m----> \u001b[39m\u001b[32m1\u001b[39m \u001b[38;5;28;01mfrom\u001b[39;00m\u001b[38;5;250m \u001b[39m\u001b[34;01m.\u001b[39;00m\u001b[34;01m_explanation\u001b[39;00m\u001b[38;5;250m \u001b[39m\u001b[38;5;28;01mimport\u001b[39;00m Cohorts, Explanation\n\u001b[32m      3\u001b[39m \u001b[38;5;66;03m# explainers\u001b[39;00m\n\u001b[32m      4\u001b[39m \u001b[38;5;28;01mfrom\u001b[39;00m\u001b[38;5;250m \u001b[39m\u001b[34;01m.\u001b[39;00m\u001b[34;01mexplainers\u001b[39;00m\u001b[38;5;250m \u001b[39m\u001b[38;5;28;01mimport\u001b[39;00m other\n",
      "\u001b[36mFile \u001b[39m\u001b[32m~/.conda/envs/gam/lib/python3.12/site-packages/shap/_explanation.py:16\u001b[39m\n\u001b[32m     13\u001b[39m \u001b[38;5;28;01mimport\u001b[39;00m\u001b[38;5;250m \u001b[39m\u001b[34;01msklearn\u001b[39;00m\n\u001b[32m     14\u001b[39m \u001b[38;5;28;01mfrom\u001b[39;00m\u001b[38;5;250m \u001b[39m\u001b[34;01mslicer\u001b[39;00m\u001b[38;5;250m \u001b[39m\u001b[38;5;28;01mimport\u001b[39;00m Alias, Obj, Slicer\n\u001b[32m---> \u001b[39m\u001b[32m16\u001b[39m \u001b[38;5;28;01mfrom\u001b[39;00m\u001b[38;5;250m \u001b[39m\u001b[34;01m.\u001b[39;00m\u001b[34;01mutils\u001b[39;00m\u001b[34;01m.\u001b[39;00m\u001b[34;01m_clustering\u001b[39;00m\u001b[38;5;250m \u001b[39m\u001b[38;5;28;01mimport\u001b[39;00m hclust_ordering\n\u001b[32m     17\u001b[39m \u001b[38;5;28;01mfrom\u001b[39;00m\u001b[38;5;250m \u001b[39m\u001b[34;01m.\u001b[39;00m\u001b[34;01mutils\u001b[39;00m\u001b[34;01m.\u001b[39;00m\u001b[34;01m_exceptions\u001b[39;00m\u001b[38;5;250m \u001b[39m\u001b[38;5;28;01mimport\u001b[39;00m DimensionError\n\u001b[32m     18\u001b[39m \u001b[38;5;28;01mfrom\u001b[39;00m\u001b[38;5;250m \u001b[39m\u001b[34;01m.\u001b[39;00m\u001b[34;01mutils\u001b[39;00m\u001b[34;01m.\u001b[39;00m\u001b[34;01m_general\u001b[39;00m\u001b[38;5;250m \u001b[39m\u001b[38;5;28;01mimport\u001b[39;00m OpChain\n",
      "\u001b[36mFile \u001b[39m\u001b[32m~/.conda/envs/gam/lib/python3.12/site-packages/shap/utils/__init__.py:1\u001b[39m\n\u001b[32m----> \u001b[39m\u001b[32m1\u001b[39m \u001b[38;5;28;01mfrom\u001b[39;00m\u001b[38;5;250m \u001b[39m\u001b[34;01m.\u001b[39;00m\u001b[34;01m_clustering\u001b[39;00m\u001b[38;5;250m \u001b[39m\u001b[38;5;28;01mimport\u001b[39;00m (\n\u001b[32m      2\u001b[39m     delta_minimization_order,\n\u001b[32m      3\u001b[39m     hclust,\n\u001b[32m      4\u001b[39m     hclust_ordering,\n\u001b[32m      5\u001b[39m     partition_tree,\n\u001b[32m      6\u001b[39m     partition_tree_shuffle,\n\u001b[32m      7\u001b[39m )\n\u001b[32m      8\u001b[39m \u001b[38;5;28;01mfrom\u001b[39;00m\u001b[38;5;250m \u001b[39m\u001b[34;01m.\u001b[39;00m\u001b[34;01m_general\u001b[39;00m\u001b[38;5;250m \u001b[39m\u001b[38;5;28;01mimport\u001b[39;00m (\n\u001b[32m      9\u001b[39m     OpChain,\n\u001b[32m     10\u001b[39m     approximate_interactions,\n\u001b[32m   (...)\u001b[39m\u001b[32m     20\u001b[39m     suppress_stderr,\n\u001b[32m     21\u001b[39m )\n\u001b[32m     22\u001b[39m \u001b[38;5;28;01mfrom\u001b[39;00m\u001b[38;5;250m \u001b[39m\u001b[34;01m.\u001b[39;00m\u001b[34;01m_masked_model\u001b[39;00m\u001b[38;5;250m \u001b[39m\u001b[38;5;28;01mimport\u001b[39;00m MaskedModel, make_masks\n",
      "\u001b[36mFile \u001b[39m\u001b[32m~/.conda/envs/gam/lib/python3.12/site-packages/shap/utils/_clustering.py:12\u001b[39m\n\u001b[32m     10\u001b[39m \u001b[38;5;28;01mimport\u001b[39;00m\u001b[38;5;250m \u001b[39m\u001b[34;01mscipy\u001b[39;00m\u001b[34;01m.\u001b[39;00m\u001b[34;01mspatial\u001b[39;00m\n\u001b[32m     11\u001b[39m \u001b[38;5;28;01mimport\u001b[39;00m\u001b[38;5;250m \u001b[39m\u001b[34;01msklearn\u001b[39;00m\n\u001b[32m---> \u001b[39m\u001b[32m12\u001b[39m \u001b[38;5;28;01mfrom\u001b[39;00m\u001b[38;5;250m \u001b[39m\u001b[34;01mnumba\u001b[39;00m\u001b[38;5;250m \u001b[39m\u001b[38;5;28;01mimport\u001b[39;00m njit\n\u001b[32m     14\u001b[39m \u001b[38;5;28;01mfrom\u001b[39;00m\u001b[38;5;250m \u001b[39m\u001b[34;01m.\u001b[39;00m\u001b[34;01m.\u001b[39;00m\u001b[34;01mutils\u001b[39;00m\u001b[34;01m.\u001b[39;00m\u001b[34;01m_exceptions\u001b[39;00m\u001b[38;5;250m \u001b[39m\u001b[38;5;28;01mimport\u001b[39;00m DimensionError\n\u001b[32m     15\u001b[39m \u001b[38;5;28;01mfrom\u001b[39;00m\u001b[38;5;250m \u001b[39m\u001b[34;01m.\u001b[39;00m\u001b[34;01m_show_progress\u001b[39;00m\u001b[38;5;250m \u001b[39m\u001b[38;5;28;01mimport\u001b[39;00m show_progress\n",
      "\u001b[36mFile \u001b[39m\u001b[32m~/.conda/envs/gam/lib/python3.12/site-packages/numba/__init__.py:59\u001b[39m\n\u001b[32m     54\u001b[39m             msg = (\u001b[33m\"\u001b[39m\u001b[33mNumba requires SciPy version 1.0 or greater. Got SciPy \u001b[39m\u001b[33m\"\u001b[39m\n\u001b[32m     55\u001b[39m                    \u001b[33mf\u001b[39m\u001b[33m\"\u001b[39m\u001b[38;5;132;01m{\u001b[39;00mscipy.__version__\u001b[38;5;132;01m}\u001b[39;00m\u001b[33m.\u001b[39m\u001b[33m\"\u001b[39m)\n\u001b[32m     56\u001b[39m             \u001b[38;5;28;01mraise\u001b[39;00m \u001b[38;5;167;01mImportError\u001b[39;00m(msg)\n\u001b[32m---> \u001b[39m\u001b[32m59\u001b[39m \u001b[43m_ensure_critical_deps\u001b[49m\u001b[43m(\u001b[49m\u001b[43m)\u001b[49m\n\u001b[32m     60\u001b[39m \u001b[38;5;66;03m# END DO NOT MOVE\u001b[39;00m\n\u001b[32m     61\u001b[39m \u001b[38;5;66;03m# ---------------------- WARNING WARNING WARNING ----------------------------\u001b[39;00m\n\u001b[32m     64\u001b[39m \u001b[38;5;28;01mfrom\u001b[39;00m\u001b[38;5;250m \u001b[39m\u001b[34;01m.\u001b[39;00m\u001b[34;01m_version\u001b[39;00m\u001b[38;5;250m \u001b[39m\u001b[38;5;28;01mimport\u001b[39;00m get_versions\n",
      "\u001b[36mFile \u001b[39m\u001b[32m~/.conda/envs/gam/lib/python3.12/site-packages/numba/__init__.py:45\u001b[39m, in \u001b[36m_ensure_critical_deps\u001b[39m\u001b[34m()\u001b[39m\n\u001b[32m     42\u001b[39m \u001b[38;5;28;01mif\u001b[39;00m numpy_version > (\u001b[32m2\u001b[39m, \u001b[32m2\u001b[39m):\n\u001b[32m     43\u001b[39m     msg = (\u001b[33mf\u001b[39m\u001b[33m\"\u001b[39m\u001b[33mNumba needs NumPy 2.2 or less. Got NumPy \u001b[39m\u001b[33m\"\u001b[39m\n\u001b[32m     44\u001b[39m            \u001b[33mf\u001b[39m\u001b[33m\"\u001b[39m\u001b[38;5;132;01m{\u001b[39;00mnumpy_version[\u001b[32m0\u001b[39m]\u001b[38;5;132;01m}\u001b[39;00m\u001b[33m.\u001b[39m\u001b[38;5;132;01m{\u001b[39;00mnumpy_version[\u001b[32m1\u001b[39m]\u001b[38;5;132;01m}\u001b[39;00m\u001b[33m.\u001b[39m\u001b[33m\"\u001b[39m)\n\u001b[32m---> \u001b[39m\u001b[32m45\u001b[39m     \u001b[38;5;28;01mraise\u001b[39;00m \u001b[38;5;167;01mImportError\u001b[39;00m(msg)\n\u001b[32m     47\u001b[39m \u001b[38;5;28;01mtry\u001b[39;00m:\n\u001b[32m     48\u001b[39m     \u001b[38;5;28;01mimport\u001b[39;00m\u001b[38;5;250m \u001b[39m\u001b[34;01mscipy\u001b[39;00m\n",
      "\u001b[31mImportError\u001b[39m: Numba needs NumPy 2.2 or less. Got NumPy 2.3."
     ]
    }
   ],
   "source": [
    "%run Imports.ipynb\n",
    "name = 'Kred'"
   ]
  },
  {
   "cell_type": "code",
   "execution_count": 2,
   "id": "23285593",
   "metadata": {},
   "outputs": [],
   "source": [
    "from pygam import LinearGAM, LogisticGAM, PoissonGAM, GammaGAM, s"
   ]
  },
  {
   "cell_type": "code",
   "execution_count": 3,
   "id": "dce73e26",
   "metadata": {},
   "outputs": [],
   "source": [
    "import time\n",
    "from copy import deepcopy\n",
    "from itertools import product\n",
    "\n",
    "from sklearn.model_selection import ParameterGrid, cross_val_predict\n",
    "from sklearn.metrics import (\n",
    "    confusion_matrix, accuracy_score, f1_score, roc_auc_score,\n",
    "    mean_squared_error, mean_absolute_error, r2_score\n",
    ")\n"
   ]
  },
  {
   "cell_type": "code",
   "execution_count": 4,
   "id": "36690586",
   "metadata": {},
   "outputs": [],
   "source": [
    "# -------------------------------------------------------------------------\n",
    "# 1. PARAM GRID  –  now also hosts `cv` and `verbose`\n",
    "# -------------------------------------------------------------------------\n",
    "param_grid = {\n",
    "    \"model_cls\": [LinearGAM, LogisticGAM, PoissonGAM, GammaGAM],\n",
    "    \"n_splines\": [406],          # constant but explicit\n",
    "    \"lam\":       [1, 10, 50, 60, 75, 85, 90, 100],\n",
    "    \"max_iter\":  [50, 100, 150, 200, 300, 400, 500],\n",
    "    \"cv\":        [5],            # ← here\n",
    "    \"verbose\":   [True],         # ← and here\n",
    "}"
   ]
  },
  {
   "cell_type": "code",
   "execution_count": 30,
   "id": "497641b8",
   "metadata": {},
   "outputs": [
    {
     "data": {
      "text/plain": [
       "406"
      ]
     },
     "execution_count": 30,
     "metadata": {},
     "output_type": "execute_result"
    }
   ],
   "source": [
    "param_grid['n_splines'][0]"
   ]
  },
  {
   "cell_type": "markdown",
   "id": "50e7dbc4",
   "metadata": {},
   "source": [
    "# 1) Read in Files"
   ]
  },
  {
   "cell_type": "code",
   "execution_count": 5,
   "id": "ff639ca0",
   "metadata": {},
   "outputs": [],
   "source": [
    "key_featsubgroups = pd.read_json('../pickle/2_FS/' + name + '/key_featsubgroups.json', orient='records', lines=True)\n",
    "df = pd.read_json('../pickle/2_FS/' + name + '/2_df_new_.json', orient='records', lines=True)"
   ]
  },
  {
   "cell_type": "code",
   "execution_count": 6,
   "id": "313b717e",
   "metadata": {},
   "outputs": [
    {
     "name": "stdout",
     "output_type": "stream",
     "text": [
      "arrears\n",
      "1   0.646\n",
      "0   0.354\n",
      "Name: count, dtype: float64\n",
      "df_shape:  (129457, 418)\n"
     ]
    }
   ],
   "source": [
    "print(df[target].value_counts()/df.shape[0])\n",
    "print('df_shape: ', df.shape)"
   ]
  },
  {
   "cell_type": "code",
   "execution_count": null,
   "id": "fb8bebd7",
   "metadata": {},
   "outputs": [],
   "source": [
    "# # 1️⃣  read the archive\n",
    "# #     ─────────────────\n",
    "# # * `allow_pickle=True` is **required** if any value in the original\n",
    "# #   dictionary was not a pure NumPy array (e.g. a list, a Python object,\n",
    "# #   a scalar, a scikit-learn model wrapped in an object array, …).\n",
    "# npz = np.load(\"../pickle/4_Model_Optuna/results_dict_updated.npz\",\n",
    "#               allow_pickle=True)\n",
    "\n",
    "# # 2️⃣  turn it back into an ordinary Python dict\n",
    "# #     ──────────────────────────────────────────\n",
    "# # * Each entry in an .npz file is a NumPy array.\n",
    "# # * If the array is 0-D (`shape == ()`) and has dtype=object,\n",
    "# #   call `.item()` to extract the original Python object / scalar.\n",
    "# results_dict = {\n",
    "#     key: (arr.item()        # unwrap 0-D object array\n",
    "#           if arr.shape == () and arr.dtype == object\n",
    "#           else arr)         # leave normal arrays as-is\n",
    "#     for key, arr in npz.items()\n",
    "# }"
   ]
  },
  {
   "cell_type": "code",
   "execution_count": null,
   "id": "a84fff21",
   "metadata": {},
   "outputs": [],
   "source": [
    "# with open('../pickle/4_Model_Optuna/results_dict_updated.pkl', 'rb') as f:\n",
    "#     results_dict = pickle.load(f)"
   ]
  },
  {
   "cell_type": "code",
   "execution_count": null,
   "id": "ea06bebf",
   "metadata": {},
   "outputs": [],
   "source": [
    "with open('../../ANOR1/pickle/4_Model_Optuna/results_dict_updated_5.pkl', 'rb') as f:\n",
    "    results_dict = pickle.load(f)"
   ]
  },
  {
   "cell_type": "code",
   "execution_count": 16,
   "id": "999ee737",
   "metadata": {},
   "outputs": [
    {
     "data": {
      "text/plain": [
       "dict"
      ]
     },
     "execution_count": 16,
     "metadata": {},
     "output_type": "execute_result"
    }
   ],
   "source": [
    "type(results_dict)"
   ]
  },
  {
   "cell_type": "code",
   "execution_count": 22,
   "id": "cd3b003e",
   "metadata": {},
   "outputs": [
    {
     "ename": "AttributeError",
     "evalue": "'XGBModel' object has no attribute 'feature_weights'",
     "output_type": "error",
     "traceback": [
      "\u001b[31m---------------------------------------------------------------------------\u001b[39m",
      "\u001b[31mAttributeError\u001b[39m                            Traceback (most recent call last)",
      "\u001b[36mFile \u001b[39m\u001b[32mc:\\Users\\benjf\\anaconda3\\envs\\gam\\Lib\\site-packages\\IPython\\core\\formatters.py:1036\u001b[39m, in \u001b[36mMimeBundleFormatter.__call__\u001b[39m\u001b[34m(self, obj, include, exclude)\u001b[39m\n\u001b[32m   1033\u001b[39m     method = get_real_method(obj, \u001b[38;5;28mself\u001b[39m.print_method)\n\u001b[32m   1035\u001b[39m     \u001b[38;5;28;01mif\u001b[39;00m method \u001b[38;5;129;01mis\u001b[39;00m \u001b[38;5;129;01mnot\u001b[39;00m \u001b[38;5;28;01mNone\u001b[39;00m:\n\u001b[32m-> \u001b[39m\u001b[32m1036\u001b[39m         \u001b[38;5;28;01mreturn\u001b[39;00m \u001b[43mmethod\u001b[49m\u001b[43m(\u001b[49m\u001b[43minclude\u001b[49m\u001b[43m=\u001b[49m\u001b[43minclude\u001b[49m\u001b[43m,\u001b[49m\u001b[43m \u001b[49m\u001b[43mexclude\u001b[49m\u001b[43m=\u001b[49m\u001b[43mexclude\u001b[49m\u001b[43m)\u001b[49m\n\u001b[32m   1037\u001b[39m     \u001b[38;5;28;01mreturn\u001b[39;00m \u001b[38;5;28;01mNone\u001b[39;00m\n\u001b[32m   1038\u001b[39m \u001b[38;5;28;01melse\u001b[39;00m:\n",
      "\u001b[36mFile \u001b[39m\u001b[32mc:\\Users\\benjf\\anaconda3\\envs\\gam\\Lib\\site-packages\\sklearn\\utils\\_repr_html\\base.py:149\u001b[39m, in \u001b[36mReprHTMLMixin._repr_mimebundle_\u001b[39m\u001b[34m(self, **kwargs)\u001b[39m\n\u001b[32m    147\u001b[39m \u001b[38;5;28;01mdef\u001b[39;00m\u001b[38;5;250m \u001b[39m\u001b[34m_repr_mimebundle_\u001b[39m(\u001b[38;5;28mself\u001b[39m, **kwargs):\n\u001b[32m    148\u001b[39m \u001b[38;5;250m    \u001b[39m\u001b[33;03m\"\"\"Mime bundle used by jupyter kernels to display estimator\"\"\"\u001b[39;00m\n\u001b[32m--> \u001b[39m\u001b[32m149\u001b[39m     output = {\u001b[33m\"\u001b[39m\u001b[33mtext/plain\u001b[39m\u001b[33m\"\u001b[39m: \u001b[38;5;28;43mrepr\u001b[39;49m\u001b[43m(\u001b[49m\u001b[38;5;28;43mself\u001b[39;49m\u001b[43m)\u001b[49m}\n\u001b[32m    150\u001b[39m     \u001b[38;5;28;01mif\u001b[39;00m get_config()[\u001b[33m\"\u001b[39m\u001b[33mdisplay\u001b[39m\u001b[33m\"\u001b[39m] == \u001b[33m\"\u001b[39m\u001b[33mdiagram\u001b[39m\u001b[33m\"\u001b[39m:\n\u001b[32m    151\u001b[39m         output[\u001b[33m\"\u001b[39m\u001b[33mtext/html\u001b[39m\u001b[33m\"\u001b[39m] = \u001b[38;5;28mself\u001b[39m._html_repr()\n",
      "\u001b[36mFile \u001b[39m\u001b[32mc:\\Users\\benjf\\anaconda3\\envs\\gam\\Lib\\site-packages\\sklearn\\base.py:379\u001b[39m, in \u001b[36mBaseEstimator.__repr__\u001b[39m\u001b[34m(self, N_CHAR_MAX)\u001b[39m\n\u001b[32m    371\u001b[39m \u001b[38;5;66;03m# use ellipsis for sequences with a lot of elements\u001b[39;00m\n\u001b[32m    372\u001b[39m pp = _EstimatorPrettyPrinter(\n\u001b[32m    373\u001b[39m     compact=\u001b[38;5;28;01mTrue\u001b[39;00m,\n\u001b[32m    374\u001b[39m     indent=\u001b[32m1\u001b[39m,\n\u001b[32m    375\u001b[39m     indent_at_name=\u001b[38;5;28;01mTrue\u001b[39;00m,\n\u001b[32m    376\u001b[39m     n_max_elements_to_show=N_MAX_ELEMENTS_TO_SHOW,\n\u001b[32m    377\u001b[39m )\n\u001b[32m--> \u001b[39m\u001b[32m379\u001b[39m repr_ = \u001b[43mpp\u001b[49m\u001b[43m.\u001b[49m\u001b[43mpformat\u001b[49m\u001b[43m(\u001b[49m\u001b[38;5;28;43mself\u001b[39;49m\u001b[43m)\u001b[49m\n\u001b[32m    381\u001b[39m \u001b[38;5;66;03m# Use bruteforce ellipsis when there are a lot of non-blank characters\u001b[39;00m\n\u001b[32m    382\u001b[39m n_nonblank = \u001b[38;5;28mlen\u001b[39m(\u001b[33m\"\u001b[39m\u001b[33m\"\u001b[39m.join(repr_.split()))\n",
      "\u001b[36mFile \u001b[39m\u001b[32mc:\\Users\\benjf\\anaconda3\\envs\\gam\\Lib\\pprint.py:161\u001b[39m, in \u001b[36mPrettyPrinter.pformat\u001b[39m\u001b[34m(self, object)\u001b[39m\n\u001b[32m    159\u001b[39m \u001b[38;5;28;01mdef\u001b[39;00m\u001b[38;5;250m \u001b[39m\u001b[34mpformat\u001b[39m(\u001b[38;5;28mself\u001b[39m, \u001b[38;5;28mobject\u001b[39m):\n\u001b[32m    160\u001b[39m     sio = _StringIO()\n\u001b[32m--> \u001b[39m\u001b[32m161\u001b[39m     \u001b[38;5;28;43mself\u001b[39;49m\u001b[43m.\u001b[49m\u001b[43m_format\u001b[49m\u001b[43m(\u001b[49m\u001b[38;5;28;43mobject\u001b[39;49m\u001b[43m,\u001b[49m\u001b[43m \u001b[49m\u001b[43msio\u001b[49m\u001b[43m,\u001b[49m\u001b[43m \u001b[49m\u001b[32;43m0\u001b[39;49m\u001b[43m,\u001b[49m\u001b[43m \u001b[49m\u001b[32;43m0\u001b[39;49m\u001b[43m,\u001b[49m\u001b[43m \u001b[49m\u001b[43m{\u001b[49m\u001b[43m}\u001b[49m\u001b[43m,\u001b[49m\u001b[43m \u001b[49m\u001b[32;43m0\u001b[39;49m\u001b[43m)\u001b[49m\n\u001b[32m    162\u001b[39m     \u001b[38;5;28;01mreturn\u001b[39;00m sio.getvalue()\n",
      "\u001b[36mFile \u001b[39m\u001b[32mc:\\Users\\benjf\\anaconda3\\envs\\gam\\Lib\\pprint.py:178\u001b[39m, in \u001b[36mPrettyPrinter._format\u001b[39m\u001b[34m(self, object, stream, indent, allowance, context, level)\u001b[39m\n\u001b[32m    176\u001b[39m     \u001b[38;5;28mself\u001b[39m._readable = \u001b[38;5;28;01mFalse\u001b[39;00m\n\u001b[32m    177\u001b[39m     \u001b[38;5;28;01mreturn\u001b[39;00m\n\u001b[32m--> \u001b[39m\u001b[32m178\u001b[39m rep = \u001b[38;5;28;43mself\u001b[39;49m\u001b[43m.\u001b[49m\u001b[43m_repr\u001b[49m\u001b[43m(\u001b[49m\u001b[38;5;28;43mobject\u001b[39;49m\u001b[43m,\u001b[49m\u001b[43m \u001b[49m\u001b[43mcontext\u001b[49m\u001b[43m,\u001b[49m\u001b[43m \u001b[49m\u001b[43mlevel\u001b[49m\u001b[43m)\u001b[49m\n\u001b[32m    179\u001b[39m max_width = \u001b[38;5;28mself\u001b[39m._width - indent - allowance\n\u001b[32m    180\u001b[39m \u001b[38;5;28;01mif\u001b[39;00m \u001b[38;5;28mlen\u001b[39m(rep) > max_width:\n",
      "\u001b[36mFile \u001b[39m\u001b[32mc:\\Users\\benjf\\anaconda3\\envs\\gam\\Lib\\pprint.py:458\u001b[39m, in \u001b[36mPrettyPrinter._repr\u001b[39m\u001b[34m(self, object, context, level)\u001b[39m\n\u001b[32m    457\u001b[39m \u001b[38;5;28;01mdef\u001b[39;00m\u001b[38;5;250m \u001b[39m\u001b[34m_repr\u001b[39m(\u001b[38;5;28mself\u001b[39m, \u001b[38;5;28mobject\u001b[39m, context, level):\n\u001b[32m--> \u001b[39m\u001b[32m458\u001b[39m     \u001b[38;5;28mrepr\u001b[39m, readable, recursive = \u001b[38;5;28;43mself\u001b[39;49m\u001b[43m.\u001b[49m\u001b[43mformat\u001b[49m\u001b[43m(\u001b[49m\u001b[38;5;28;43mobject\u001b[39;49m\u001b[43m,\u001b[49m\u001b[43m \u001b[49m\u001b[43mcontext\u001b[49m\u001b[43m.\u001b[49m\u001b[43mcopy\u001b[49m\u001b[43m(\u001b[49m\u001b[43m)\u001b[49m\u001b[43m,\u001b[49m\n\u001b[32m    459\u001b[39m \u001b[43m                                            \u001b[49m\u001b[38;5;28;43mself\u001b[39;49m\u001b[43m.\u001b[49m\u001b[43m_depth\u001b[49m\u001b[43m,\u001b[49m\u001b[43m \u001b[49m\u001b[43mlevel\u001b[49m\u001b[43m)\u001b[49m\n\u001b[32m    460\u001b[39m     \u001b[38;5;28;01mif\u001b[39;00m \u001b[38;5;129;01mnot\u001b[39;00m readable:\n\u001b[32m    461\u001b[39m         \u001b[38;5;28mself\u001b[39m._readable = \u001b[38;5;28;01mFalse\u001b[39;00m\n",
      "\u001b[36mFile \u001b[39m\u001b[32mc:\\Users\\benjf\\anaconda3\\envs\\gam\\Lib\\site-packages\\sklearn\\utils\\_pprint.py:191\u001b[39m, in \u001b[36m_EstimatorPrettyPrinter.format\u001b[39m\u001b[34m(self, object, context, maxlevels, level)\u001b[39m\n\u001b[32m    190\u001b[39m \u001b[38;5;28;01mdef\u001b[39;00m\u001b[38;5;250m \u001b[39m\u001b[34mformat\u001b[39m(\u001b[38;5;28mself\u001b[39m, \u001b[38;5;28mobject\u001b[39m, context, maxlevels, level):\n\u001b[32m--> \u001b[39m\u001b[32m191\u001b[39m     \u001b[38;5;28;01mreturn\u001b[39;00m \u001b[43m_safe_repr\u001b[49m\u001b[43m(\u001b[49m\n\u001b[32m    192\u001b[39m \u001b[43m        \u001b[49m\u001b[38;5;28;43mobject\u001b[39;49m\u001b[43m,\u001b[49m\u001b[43m \u001b[49m\u001b[43mcontext\u001b[49m\u001b[43m,\u001b[49m\u001b[43m \u001b[49m\u001b[43mmaxlevels\u001b[49m\u001b[43m,\u001b[49m\u001b[43m \u001b[49m\u001b[43mlevel\u001b[49m\u001b[43m,\u001b[49m\u001b[43m \u001b[49m\u001b[43mchanged_only\u001b[49m\u001b[43m=\u001b[49m\u001b[38;5;28;43mself\u001b[39;49m\u001b[43m.\u001b[49m\u001b[43m_changed_only\u001b[49m\n\u001b[32m    193\u001b[39m \u001b[43m    \u001b[49m\u001b[43m)\u001b[49m\n",
      "\u001b[36mFile \u001b[39m\u001b[32mc:\\Users\\benjf\\anaconda3\\envs\\gam\\Lib\\site-packages\\sklearn\\utils\\_pprint.py:452\u001b[39m, in \u001b[36m_safe_repr\u001b[39m\u001b[34m(object, context, maxlevels, level, changed_only)\u001b[39m\n\u001b[32m    448\u001b[39m \u001b[38;5;28;01mfor\u001b[39;00m k, v \u001b[38;5;129;01min\u001b[39;00m items:\n\u001b[32m    449\u001b[39m     krepr, kreadable, krecur = saferepr(\n\u001b[32m    450\u001b[39m         k, context, maxlevels, level, changed_only=changed_only\n\u001b[32m    451\u001b[39m     )\n\u001b[32m--> \u001b[39m\u001b[32m452\u001b[39m     vrepr, vreadable, vrecur = \u001b[43msaferepr\u001b[49m\u001b[43m(\u001b[49m\n\u001b[32m    453\u001b[39m \u001b[43m        \u001b[49m\u001b[43mv\u001b[49m\u001b[43m,\u001b[49m\u001b[43m \u001b[49m\u001b[43mcontext\u001b[49m\u001b[43m,\u001b[49m\u001b[43m \u001b[49m\u001b[43mmaxlevels\u001b[49m\u001b[43m,\u001b[49m\u001b[43m \u001b[49m\u001b[43mlevel\u001b[49m\u001b[43m,\u001b[49m\u001b[43m \u001b[49m\u001b[43mchanged_only\u001b[49m\u001b[43m=\u001b[49m\u001b[43mchanged_only\u001b[49m\n\u001b[32m    454\u001b[39m \u001b[43m    \u001b[49m\u001b[43m)\u001b[49m\n\u001b[32m    455\u001b[39m     append(\u001b[33m\"\u001b[39m\u001b[38;5;132;01m%s\u001b[39;00m\u001b[33m=\u001b[39m\u001b[38;5;132;01m%s\u001b[39;00m\u001b[33m\"\u001b[39m % (krepr.strip(\u001b[33m\"\u001b[39m\u001b[33m'\u001b[39m\u001b[33m\"\u001b[39m), vrepr))\n\u001b[32m    456\u001b[39m     readable = readable \u001b[38;5;129;01mand\u001b[39;00m kreadable \u001b[38;5;129;01mand\u001b[39;00m vreadable\n",
      "\u001b[36mFile \u001b[39m\u001b[32mc:\\Users\\benjf\\anaconda3\\envs\\gam\\Lib\\site-packages\\sklearn\\utils\\_pprint.py:440\u001b[39m, in \u001b[36m_safe_repr\u001b[39m\u001b[34m(object, context, maxlevels, level, changed_only)\u001b[39m\n\u001b[32m    438\u001b[39m recursive = \u001b[38;5;28;01mFalse\u001b[39;00m\n\u001b[32m    439\u001b[39m \u001b[38;5;28;01mif\u001b[39;00m changed_only:\n\u001b[32m--> \u001b[39m\u001b[32m440\u001b[39m     params = \u001b[43m_changed_params\u001b[49m\u001b[43m(\u001b[49m\u001b[38;5;28;43mobject\u001b[39;49m\u001b[43m)\u001b[49m\n\u001b[32m    441\u001b[39m \u001b[38;5;28;01melse\u001b[39;00m:\n\u001b[32m    442\u001b[39m     params = \u001b[38;5;28mobject\u001b[39m.get_params(deep=\u001b[38;5;28;01mFalse\u001b[39;00m)\n",
      "\u001b[36mFile \u001b[39m\u001b[32mc:\\Users\\benjf\\anaconda3\\envs\\gam\\Lib\\site-packages\\sklearn\\utils\\_pprint.py:95\u001b[39m, in \u001b[36m_changed_params\u001b[39m\u001b[34m(estimator)\u001b[39m\n\u001b[32m     91\u001b[39m \u001b[38;5;28;01mdef\u001b[39;00m\u001b[38;5;250m \u001b[39m\u001b[34m_changed_params\u001b[39m(estimator):\n\u001b[32m     92\u001b[39m \u001b[38;5;250m    \u001b[39m\u001b[33;03m\"\"\"Return dict (param_name: value) of parameters that were given to\u001b[39;00m\n\u001b[32m     93\u001b[39m \u001b[33;03m    estimator with non-default values.\"\"\"\u001b[39;00m\n\u001b[32m---> \u001b[39m\u001b[32m95\u001b[39m     params = \u001b[43mestimator\u001b[49m\u001b[43m.\u001b[49m\u001b[43mget_params\u001b[49m\u001b[43m(\u001b[49m\u001b[43mdeep\u001b[49m\u001b[43m=\u001b[49m\u001b[38;5;28;43;01mFalse\u001b[39;49;00m\u001b[43m)\u001b[49m\n\u001b[32m     96\u001b[39m     init_func = \u001b[38;5;28mgetattr\u001b[39m(estimator.\u001b[34m__init__\u001b[39m, \u001b[33m\"\u001b[39m\u001b[33mdeprecated_original\u001b[39m\u001b[33m\"\u001b[39m, estimator.\u001b[34m__init__\u001b[39m)\n\u001b[32m     97\u001b[39m     init_params = inspect.signature(init_func).parameters\n",
      "\u001b[36mFile \u001b[39m\u001b[32mc:\\Users\\benjf\\anaconda3\\envs\\gam\\Lib\\site-packages\\xgboost\\sklearn.py:982\u001b[39m, in \u001b[36mXGBModel.get_params\u001b[39m\u001b[34m(self, deep)\u001b[39m\n\u001b[32m    978\u001b[39m \u001b[38;5;66;03m# Otherwise, skip it and assume the next class will have it.\u001b[39;00m\n\u001b[32m    979\u001b[39m \u001b[38;5;66;03m# This is here primarily for cases where the first class in MRO is a scikit-learn mixin.\u001b[39;00m\n\u001b[32m    980\u001b[39m \u001b[38;5;28;01melse\u001b[39;00m:\n\u001b[32m    981\u001b[39m     cp.\u001b[34m__class__\u001b[39m = cp.\u001b[34m__class__\u001b[39m.\u001b[34m__bases__\u001b[39m[\u001b[32m1\u001b[39m]\n\u001b[32m--> \u001b[39m\u001b[32m982\u001b[39m params.update(\u001b[43mcp\u001b[49m\u001b[43m.\u001b[49m\u001b[34;43m__class__\u001b[39;49m\u001b[43m.\u001b[49m\u001b[43mget_params\u001b[49m\u001b[43m(\u001b[49m\u001b[43mcp\u001b[49m\u001b[43m,\u001b[49m\u001b[43m \u001b[49m\u001b[43mdeep\u001b[49m\u001b[43m)\u001b[49m)\n\u001b[32m    983\u001b[39m \u001b[38;5;66;03m# if kwargs is a dict, update params accordingly\u001b[39;00m\n\u001b[32m    984\u001b[39m \u001b[38;5;28;01mif\u001b[39;00m \u001b[38;5;28mhasattr\u001b[39m(\u001b[38;5;28mself\u001b[39m, \u001b[33m\"\u001b[39m\u001b[33mkwargs\u001b[39m\u001b[33m\"\u001b[39m) \u001b[38;5;129;01mand\u001b[39;00m \u001b[38;5;28misinstance\u001b[39m(\u001b[38;5;28mself\u001b[39m.kwargs, \u001b[38;5;28mdict\u001b[39m):\n",
      "\u001b[36mFile \u001b[39m\u001b[32mc:\\Users\\benjf\\anaconda3\\envs\\gam\\Lib\\site-packages\\xgboost\\sklearn.py:973\u001b[39m, in \u001b[36mXGBModel.get_params\u001b[39m\u001b[34m(self, deep)\u001b[39m\n\u001b[32m    958\u001b[39m \u001b[38;5;250m\u001b[39m\u001b[33;03m\"\"\"Get parameters.\"\"\"\u001b[39;00m\n\u001b[32m    959\u001b[39m \u001b[38;5;66;03m# Based on: https://stackoverflow.com/questions/59248211\u001b[39;00m\n\u001b[32m    960\u001b[39m \u001b[38;5;66;03m# The basic flow in `get_params` is:\u001b[39;00m\n\u001b[32m    961\u001b[39m \u001b[38;5;66;03m# 0. Return parameters in subclass (self.__class__) first, by using inspect.\u001b[39;00m\n\u001b[32m   (...)\u001b[39m\u001b[32m    971\u001b[39m \u001b[38;5;66;03m#                                     XGBModel -> BaseEstimator\u001b[39;00m\n\u001b[32m    972\u001b[39m \u001b[38;5;66;03m#\u001b[39;00m\n\u001b[32m--> \u001b[39m\u001b[32m973\u001b[39m params = \u001b[38;5;28;43msuper\u001b[39;49m\u001b[43m(\u001b[49m\u001b[43m)\u001b[49m\u001b[43m.\u001b[49m\u001b[43mget_params\u001b[49m\u001b[43m(\u001b[49m\u001b[43mdeep\u001b[49m\u001b[43m)\u001b[49m\n\u001b[32m    974\u001b[39m cp = copy.copy(\u001b[38;5;28mself\u001b[39m)\n\u001b[32m    975\u001b[39m \u001b[38;5;66;03m# If the immediate parent defines get_params(), use that.\u001b[39;00m\n",
      "\u001b[36mFile \u001b[39m\u001b[32mc:\\Users\\benjf\\anaconda3\\envs\\gam\\Lib\\site-packages\\sklearn\\base.py:250\u001b[39m, in \u001b[36mBaseEstimator.get_params\u001b[39m\u001b[34m(self, deep)\u001b[39m\n\u001b[32m    248\u001b[39m out = \u001b[38;5;28mdict\u001b[39m()\n\u001b[32m    249\u001b[39m \u001b[38;5;28;01mfor\u001b[39;00m key \u001b[38;5;129;01min\u001b[39;00m \u001b[38;5;28mself\u001b[39m._get_param_names():\n\u001b[32m--> \u001b[39m\u001b[32m250\u001b[39m     value = \u001b[38;5;28;43mgetattr\u001b[39;49m\u001b[43m(\u001b[49m\u001b[38;5;28;43mself\u001b[39;49m\u001b[43m,\u001b[49m\u001b[43m \u001b[49m\u001b[43mkey\u001b[49m\u001b[43m)\u001b[49m\n\u001b[32m    251\u001b[39m     \u001b[38;5;28;01mif\u001b[39;00m deep \u001b[38;5;129;01mand\u001b[39;00m \u001b[38;5;28mhasattr\u001b[39m(value, \u001b[33m\"\u001b[39m\u001b[33mget_params\u001b[39m\u001b[33m\"\u001b[39m) \u001b[38;5;129;01mand\u001b[39;00m \u001b[38;5;129;01mnot\u001b[39;00m \u001b[38;5;28misinstance\u001b[39m(value, \u001b[38;5;28mtype\u001b[39m):\n\u001b[32m    252\u001b[39m         deep_items = value.get_params().items()\n",
      "\u001b[31mAttributeError\u001b[39m: 'XGBModel' object has no attribute 'feature_weights'"
     ]
    },
    {
     "ename": "AttributeError",
     "evalue": "'XGBModel' object has no attribute 'feature_weights'",
     "output_type": "error",
     "traceback": [
      "\u001b[31m---------------------------------------------------------------------------\u001b[39m",
      "\u001b[31mAttributeError\u001b[39m                            Traceback (most recent call last)",
      "\u001b[36mFile \u001b[39m\u001b[32mc:\\Users\\benjf\\anaconda3\\envs\\gam\\Lib\\site-packages\\IPython\\core\\formatters.py:770\u001b[39m, in \u001b[36mPlainTextFormatter.__call__\u001b[39m\u001b[34m(self, obj)\u001b[39m\n\u001b[32m    763\u001b[39m stream = StringIO()\n\u001b[32m    764\u001b[39m printer = pretty.RepresentationPrinter(stream, \u001b[38;5;28mself\u001b[39m.verbose,\n\u001b[32m    765\u001b[39m     \u001b[38;5;28mself\u001b[39m.max_width, \u001b[38;5;28mself\u001b[39m.newline,\n\u001b[32m    766\u001b[39m     max_seq_length=\u001b[38;5;28mself\u001b[39m.max_seq_length,\n\u001b[32m    767\u001b[39m     singleton_pprinters=\u001b[38;5;28mself\u001b[39m.singleton_printers,\n\u001b[32m    768\u001b[39m     type_pprinters=\u001b[38;5;28mself\u001b[39m.type_printers,\n\u001b[32m    769\u001b[39m     deferred_pprinters=\u001b[38;5;28mself\u001b[39m.deferred_printers)\n\u001b[32m--> \u001b[39m\u001b[32m770\u001b[39m \u001b[43mprinter\u001b[49m\u001b[43m.\u001b[49m\u001b[43mpretty\u001b[49m\u001b[43m(\u001b[49m\u001b[43mobj\u001b[49m\u001b[43m)\u001b[49m\n\u001b[32m    771\u001b[39m printer.flush()\n\u001b[32m    772\u001b[39m \u001b[38;5;28;01mreturn\u001b[39;00m stream.getvalue()\n",
      "\u001b[36mFile \u001b[39m\u001b[32mc:\\Users\\benjf\\anaconda3\\envs\\gam\\Lib\\site-packages\\IPython\\lib\\pretty.py:411\u001b[39m, in \u001b[36mRepresentationPrinter.pretty\u001b[39m\u001b[34m(self, obj)\u001b[39m\n\u001b[32m    400\u001b[39m                         \u001b[38;5;28;01mreturn\u001b[39;00m meth(obj, \u001b[38;5;28mself\u001b[39m, cycle)\n\u001b[32m    401\u001b[39m                 \u001b[38;5;28;01mif\u001b[39;00m (\n\u001b[32m    402\u001b[39m                     \u001b[38;5;28mcls\u001b[39m \u001b[38;5;129;01mis\u001b[39;00m \u001b[38;5;129;01mnot\u001b[39;00m \u001b[38;5;28mobject\u001b[39m\n\u001b[32m    403\u001b[39m                     \u001b[38;5;66;03m# check if cls defines __repr__\u001b[39;00m\n\u001b[32m   (...)\u001b[39m\u001b[32m    409\u001b[39m                     \u001b[38;5;129;01mand\u001b[39;00m \u001b[38;5;28mcallable\u001b[39m(_safe_getattr(\u001b[38;5;28mcls\u001b[39m, \u001b[33m\"\u001b[39m\u001b[33m__repr__\u001b[39m\u001b[33m\"\u001b[39m, \u001b[38;5;28;01mNone\u001b[39;00m))\n\u001b[32m    410\u001b[39m                 ):\n\u001b[32m--> \u001b[39m\u001b[32m411\u001b[39m                     \u001b[38;5;28;01mreturn\u001b[39;00m \u001b[43m_repr_pprint\u001b[49m\u001b[43m(\u001b[49m\u001b[43mobj\u001b[49m\u001b[43m,\u001b[49m\u001b[43m \u001b[49m\u001b[38;5;28;43mself\u001b[39;49m\u001b[43m,\u001b[49m\u001b[43m \u001b[49m\u001b[43mcycle\u001b[49m\u001b[43m)\u001b[49m\n\u001b[32m    413\u001b[39m     \u001b[38;5;28;01mreturn\u001b[39;00m _default_pprint(obj, \u001b[38;5;28mself\u001b[39m, cycle)\n\u001b[32m    414\u001b[39m \u001b[38;5;28;01mfinally\u001b[39;00m:\n",
      "\u001b[36mFile \u001b[39m\u001b[32mc:\\Users\\benjf\\anaconda3\\envs\\gam\\Lib\\site-packages\\IPython\\lib\\pretty.py:786\u001b[39m, in \u001b[36m_repr_pprint\u001b[39m\u001b[34m(obj, p, cycle)\u001b[39m\n\u001b[32m    784\u001b[39m \u001b[38;5;250m\u001b[39m\u001b[33;03m\"\"\"A pprint that just redirects to the normal repr function.\"\"\"\u001b[39;00m\n\u001b[32m    785\u001b[39m \u001b[38;5;66;03m# Find newlines and replace them with p.break_()\u001b[39;00m\n\u001b[32m--> \u001b[39m\u001b[32m786\u001b[39m output = \u001b[38;5;28;43mrepr\u001b[39;49m\u001b[43m(\u001b[49m\u001b[43mobj\u001b[49m\u001b[43m)\u001b[49m\n\u001b[32m    787\u001b[39m lines = output.splitlines()\n\u001b[32m    788\u001b[39m \u001b[38;5;28;01mwith\u001b[39;00m p.group():\n",
      "\u001b[36mFile \u001b[39m\u001b[32mc:\\Users\\benjf\\anaconda3\\envs\\gam\\Lib\\site-packages\\sklearn\\base.py:379\u001b[39m, in \u001b[36mBaseEstimator.__repr__\u001b[39m\u001b[34m(self, N_CHAR_MAX)\u001b[39m\n\u001b[32m    371\u001b[39m \u001b[38;5;66;03m# use ellipsis for sequences with a lot of elements\u001b[39;00m\n\u001b[32m    372\u001b[39m pp = _EstimatorPrettyPrinter(\n\u001b[32m    373\u001b[39m     compact=\u001b[38;5;28;01mTrue\u001b[39;00m,\n\u001b[32m    374\u001b[39m     indent=\u001b[32m1\u001b[39m,\n\u001b[32m    375\u001b[39m     indent_at_name=\u001b[38;5;28;01mTrue\u001b[39;00m,\n\u001b[32m    376\u001b[39m     n_max_elements_to_show=N_MAX_ELEMENTS_TO_SHOW,\n\u001b[32m    377\u001b[39m )\n\u001b[32m--> \u001b[39m\u001b[32m379\u001b[39m repr_ = \u001b[43mpp\u001b[49m\u001b[43m.\u001b[49m\u001b[43mpformat\u001b[49m\u001b[43m(\u001b[49m\u001b[38;5;28;43mself\u001b[39;49m\u001b[43m)\u001b[49m\n\u001b[32m    381\u001b[39m \u001b[38;5;66;03m# Use bruteforce ellipsis when there are a lot of non-blank characters\u001b[39;00m\n\u001b[32m    382\u001b[39m n_nonblank = \u001b[38;5;28mlen\u001b[39m(\u001b[33m\"\u001b[39m\u001b[33m\"\u001b[39m.join(repr_.split()))\n",
      "\u001b[36mFile \u001b[39m\u001b[32mc:\\Users\\benjf\\anaconda3\\envs\\gam\\Lib\\pprint.py:161\u001b[39m, in \u001b[36mPrettyPrinter.pformat\u001b[39m\u001b[34m(self, object)\u001b[39m\n\u001b[32m    159\u001b[39m \u001b[38;5;28;01mdef\u001b[39;00m\u001b[38;5;250m \u001b[39m\u001b[34mpformat\u001b[39m(\u001b[38;5;28mself\u001b[39m, \u001b[38;5;28mobject\u001b[39m):\n\u001b[32m    160\u001b[39m     sio = _StringIO()\n\u001b[32m--> \u001b[39m\u001b[32m161\u001b[39m     \u001b[38;5;28;43mself\u001b[39;49m\u001b[43m.\u001b[49m\u001b[43m_format\u001b[49m\u001b[43m(\u001b[49m\u001b[38;5;28;43mobject\u001b[39;49m\u001b[43m,\u001b[49m\u001b[43m \u001b[49m\u001b[43msio\u001b[49m\u001b[43m,\u001b[49m\u001b[43m \u001b[49m\u001b[32;43m0\u001b[39;49m\u001b[43m,\u001b[49m\u001b[43m \u001b[49m\u001b[32;43m0\u001b[39;49m\u001b[43m,\u001b[49m\u001b[43m \u001b[49m\u001b[43m{\u001b[49m\u001b[43m}\u001b[49m\u001b[43m,\u001b[49m\u001b[43m \u001b[49m\u001b[32;43m0\u001b[39;49m\u001b[43m)\u001b[49m\n\u001b[32m    162\u001b[39m     \u001b[38;5;28;01mreturn\u001b[39;00m sio.getvalue()\n",
      "\u001b[36mFile \u001b[39m\u001b[32mc:\\Users\\benjf\\anaconda3\\envs\\gam\\Lib\\pprint.py:178\u001b[39m, in \u001b[36mPrettyPrinter._format\u001b[39m\u001b[34m(self, object, stream, indent, allowance, context, level)\u001b[39m\n\u001b[32m    176\u001b[39m     \u001b[38;5;28mself\u001b[39m._readable = \u001b[38;5;28;01mFalse\u001b[39;00m\n\u001b[32m    177\u001b[39m     \u001b[38;5;28;01mreturn\u001b[39;00m\n\u001b[32m--> \u001b[39m\u001b[32m178\u001b[39m rep = \u001b[38;5;28;43mself\u001b[39;49m\u001b[43m.\u001b[49m\u001b[43m_repr\u001b[49m\u001b[43m(\u001b[49m\u001b[38;5;28;43mobject\u001b[39;49m\u001b[43m,\u001b[49m\u001b[43m \u001b[49m\u001b[43mcontext\u001b[49m\u001b[43m,\u001b[49m\u001b[43m \u001b[49m\u001b[43mlevel\u001b[49m\u001b[43m)\u001b[49m\n\u001b[32m    179\u001b[39m max_width = \u001b[38;5;28mself\u001b[39m._width - indent - allowance\n\u001b[32m    180\u001b[39m \u001b[38;5;28;01mif\u001b[39;00m \u001b[38;5;28mlen\u001b[39m(rep) > max_width:\n",
      "\u001b[36mFile \u001b[39m\u001b[32mc:\\Users\\benjf\\anaconda3\\envs\\gam\\Lib\\pprint.py:458\u001b[39m, in \u001b[36mPrettyPrinter._repr\u001b[39m\u001b[34m(self, object, context, level)\u001b[39m\n\u001b[32m    457\u001b[39m \u001b[38;5;28;01mdef\u001b[39;00m\u001b[38;5;250m \u001b[39m\u001b[34m_repr\u001b[39m(\u001b[38;5;28mself\u001b[39m, \u001b[38;5;28mobject\u001b[39m, context, level):\n\u001b[32m--> \u001b[39m\u001b[32m458\u001b[39m     \u001b[38;5;28mrepr\u001b[39m, readable, recursive = \u001b[38;5;28;43mself\u001b[39;49m\u001b[43m.\u001b[49m\u001b[43mformat\u001b[49m\u001b[43m(\u001b[49m\u001b[38;5;28;43mobject\u001b[39;49m\u001b[43m,\u001b[49m\u001b[43m \u001b[49m\u001b[43mcontext\u001b[49m\u001b[43m.\u001b[49m\u001b[43mcopy\u001b[49m\u001b[43m(\u001b[49m\u001b[43m)\u001b[49m\u001b[43m,\u001b[49m\n\u001b[32m    459\u001b[39m \u001b[43m                                            \u001b[49m\u001b[38;5;28;43mself\u001b[39;49m\u001b[43m.\u001b[49m\u001b[43m_depth\u001b[49m\u001b[43m,\u001b[49m\u001b[43m \u001b[49m\u001b[43mlevel\u001b[49m\u001b[43m)\u001b[49m\n\u001b[32m    460\u001b[39m     \u001b[38;5;28;01mif\u001b[39;00m \u001b[38;5;129;01mnot\u001b[39;00m readable:\n\u001b[32m    461\u001b[39m         \u001b[38;5;28mself\u001b[39m._readable = \u001b[38;5;28;01mFalse\u001b[39;00m\n",
      "\u001b[36mFile \u001b[39m\u001b[32mc:\\Users\\benjf\\anaconda3\\envs\\gam\\Lib\\site-packages\\sklearn\\utils\\_pprint.py:191\u001b[39m, in \u001b[36m_EstimatorPrettyPrinter.format\u001b[39m\u001b[34m(self, object, context, maxlevels, level)\u001b[39m\n\u001b[32m    190\u001b[39m \u001b[38;5;28;01mdef\u001b[39;00m\u001b[38;5;250m \u001b[39m\u001b[34mformat\u001b[39m(\u001b[38;5;28mself\u001b[39m, \u001b[38;5;28mobject\u001b[39m, context, maxlevels, level):\n\u001b[32m--> \u001b[39m\u001b[32m191\u001b[39m     \u001b[38;5;28;01mreturn\u001b[39;00m \u001b[43m_safe_repr\u001b[49m\u001b[43m(\u001b[49m\n\u001b[32m    192\u001b[39m \u001b[43m        \u001b[49m\u001b[38;5;28;43mobject\u001b[39;49m\u001b[43m,\u001b[49m\u001b[43m \u001b[49m\u001b[43mcontext\u001b[49m\u001b[43m,\u001b[49m\u001b[43m \u001b[49m\u001b[43mmaxlevels\u001b[49m\u001b[43m,\u001b[49m\u001b[43m \u001b[49m\u001b[43mlevel\u001b[49m\u001b[43m,\u001b[49m\u001b[43m \u001b[49m\u001b[43mchanged_only\u001b[49m\u001b[43m=\u001b[49m\u001b[38;5;28;43mself\u001b[39;49m\u001b[43m.\u001b[49m\u001b[43m_changed_only\u001b[49m\n\u001b[32m    193\u001b[39m \u001b[43m    \u001b[49m\u001b[43m)\u001b[49m\n",
      "\u001b[36mFile \u001b[39m\u001b[32mc:\\Users\\benjf\\anaconda3\\envs\\gam\\Lib\\site-packages\\sklearn\\utils\\_pprint.py:452\u001b[39m, in \u001b[36m_safe_repr\u001b[39m\u001b[34m(object, context, maxlevels, level, changed_only)\u001b[39m\n\u001b[32m    448\u001b[39m \u001b[38;5;28;01mfor\u001b[39;00m k, v \u001b[38;5;129;01min\u001b[39;00m items:\n\u001b[32m    449\u001b[39m     krepr, kreadable, krecur = saferepr(\n\u001b[32m    450\u001b[39m         k, context, maxlevels, level, changed_only=changed_only\n\u001b[32m    451\u001b[39m     )\n\u001b[32m--> \u001b[39m\u001b[32m452\u001b[39m     vrepr, vreadable, vrecur = \u001b[43msaferepr\u001b[49m\u001b[43m(\u001b[49m\n\u001b[32m    453\u001b[39m \u001b[43m        \u001b[49m\u001b[43mv\u001b[49m\u001b[43m,\u001b[49m\u001b[43m \u001b[49m\u001b[43mcontext\u001b[49m\u001b[43m,\u001b[49m\u001b[43m \u001b[49m\u001b[43mmaxlevels\u001b[49m\u001b[43m,\u001b[49m\u001b[43m \u001b[49m\u001b[43mlevel\u001b[49m\u001b[43m,\u001b[49m\u001b[43m \u001b[49m\u001b[43mchanged_only\u001b[49m\u001b[43m=\u001b[49m\u001b[43mchanged_only\u001b[49m\n\u001b[32m    454\u001b[39m \u001b[43m    \u001b[49m\u001b[43m)\u001b[49m\n\u001b[32m    455\u001b[39m     append(\u001b[33m\"\u001b[39m\u001b[38;5;132;01m%s\u001b[39;00m\u001b[33m=\u001b[39m\u001b[38;5;132;01m%s\u001b[39;00m\u001b[33m\"\u001b[39m % (krepr.strip(\u001b[33m\"\u001b[39m\u001b[33m'\u001b[39m\u001b[33m\"\u001b[39m), vrepr))\n\u001b[32m    456\u001b[39m     readable = readable \u001b[38;5;129;01mand\u001b[39;00m kreadable \u001b[38;5;129;01mand\u001b[39;00m vreadable\n",
      "\u001b[36mFile \u001b[39m\u001b[32mc:\\Users\\benjf\\anaconda3\\envs\\gam\\Lib\\site-packages\\sklearn\\utils\\_pprint.py:440\u001b[39m, in \u001b[36m_safe_repr\u001b[39m\u001b[34m(object, context, maxlevels, level, changed_only)\u001b[39m\n\u001b[32m    438\u001b[39m recursive = \u001b[38;5;28;01mFalse\u001b[39;00m\n\u001b[32m    439\u001b[39m \u001b[38;5;28;01mif\u001b[39;00m changed_only:\n\u001b[32m--> \u001b[39m\u001b[32m440\u001b[39m     params = \u001b[43m_changed_params\u001b[49m\u001b[43m(\u001b[49m\u001b[38;5;28;43mobject\u001b[39;49m\u001b[43m)\u001b[49m\n\u001b[32m    441\u001b[39m \u001b[38;5;28;01melse\u001b[39;00m:\n\u001b[32m    442\u001b[39m     params = \u001b[38;5;28mobject\u001b[39m.get_params(deep=\u001b[38;5;28;01mFalse\u001b[39;00m)\n",
      "\u001b[36mFile \u001b[39m\u001b[32mc:\\Users\\benjf\\anaconda3\\envs\\gam\\Lib\\site-packages\\sklearn\\utils\\_pprint.py:95\u001b[39m, in \u001b[36m_changed_params\u001b[39m\u001b[34m(estimator)\u001b[39m\n\u001b[32m     91\u001b[39m \u001b[38;5;28;01mdef\u001b[39;00m\u001b[38;5;250m \u001b[39m\u001b[34m_changed_params\u001b[39m(estimator):\n\u001b[32m     92\u001b[39m \u001b[38;5;250m    \u001b[39m\u001b[33;03m\"\"\"Return dict (param_name: value) of parameters that were given to\u001b[39;00m\n\u001b[32m     93\u001b[39m \u001b[33;03m    estimator with non-default values.\"\"\"\u001b[39;00m\n\u001b[32m---> \u001b[39m\u001b[32m95\u001b[39m     params = \u001b[43mestimator\u001b[49m\u001b[43m.\u001b[49m\u001b[43mget_params\u001b[49m\u001b[43m(\u001b[49m\u001b[43mdeep\u001b[49m\u001b[43m=\u001b[49m\u001b[38;5;28;43;01mFalse\u001b[39;49;00m\u001b[43m)\u001b[49m\n\u001b[32m     96\u001b[39m     init_func = \u001b[38;5;28mgetattr\u001b[39m(estimator.\u001b[34m__init__\u001b[39m, \u001b[33m\"\u001b[39m\u001b[33mdeprecated_original\u001b[39m\u001b[33m\"\u001b[39m, estimator.\u001b[34m__init__\u001b[39m)\n\u001b[32m     97\u001b[39m     init_params = inspect.signature(init_func).parameters\n",
      "\u001b[36mFile \u001b[39m\u001b[32mc:\\Users\\benjf\\anaconda3\\envs\\gam\\Lib\\site-packages\\xgboost\\sklearn.py:982\u001b[39m, in \u001b[36mXGBModel.get_params\u001b[39m\u001b[34m(self, deep)\u001b[39m\n\u001b[32m    978\u001b[39m \u001b[38;5;66;03m# Otherwise, skip it and assume the next class will have it.\u001b[39;00m\n\u001b[32m    979\u001b[39m \u001b[38;5;66;03m# This is here primarily for cases where the first class in MRO is a scikit-learn mixin.\u001b[39;00m\n\u001b[32m    980\u001b[39m \u001b[38;5;28;01melse\u001b[39;00m:\n\u001b[32m    981\u001b[39m     cp.\u001b[34m__class__\u001b[39m = cp.\u001b[34m__class__\u001b[39m.\u001b[34m__bases__\u001b[39m[\u001b[32m1\u001b[39m]\n\u001b[32m--> \u001b[39m\u001b[32m982\u001b[39m params.update(\u001b[43mcp\u001b[49m\u001b[43m.\u001b[49m\u001b[34;43m__class__\u001b[39;49m\u001b[43m.\u001b[49m\u001b[43mget_params\u001b[49m\u001b[43m(\u001b[49m\u001b[43mcp\u001b[49m\u001b[43m,\u001b[49m\u001b[43m \u001b[49m\u001b[43mdeep\u001b[49m\u001b[43m)\u001b[49m)\n\u001b[32m    983\u001b[39m \u001b[38;5;66;03m# if kwargs is a dict, update params accordingly\u001b[39;00m\n\u001b[32m    984\u001b[39m \u001b[38;5;28;01mif\u001b[39;00m \u001b[38;5;28mhasattr\u001b[39m(\u001b[38;5;28mself\u001b[39m, \u001b[33m\"\u001b[39m\u001b[33mkwargs\u001b[39m\u001b[33m\"\u001b[39m) \u001b[38;5;129;01mand\u001b[39;00m \u001b[38;5;28misinstance\u001b[39m(\u001b[38;5;28mself\u001b[39m.kwargs, \u001b[38;5;28mdict\u001b[39m):\n",
      "\u001b[36mFile \u001b[39m\u001b[32mc:\\Users\\benjf\\anaconda3\\envs\\gam\\Lib\\site-packages\\xgboost\\sklearn.py:973\u001b[39m, in \u001b[36mXGBModel.get_params\u001b[39m\u001b[34m(self, deep)\u001b[39m\n\u001b[32m    958\u001b[39m \u001b[38;5;250m\u001b[39m\u001b[33;03m\"\"\"Get parameters.\"\"\"\u001b[39;00m\n\u001b[32m    959\u001b[39m \u001b[38;5;66;03m# Based on: https://stackoverflow.com/questions/59248211\u001b[39;00m\n\u001b[32m    960\u001b[39m \u001b[38;5;66;03m# The basic flow in `get_params` is:\u001b[39;00m\n\u001b[32m    961\u001b[39m \u001b[38;5;66;03m# 0. Return parameters in subclass (self.__class__) first, by using inspect.\u001b[39;00m\n\u001b[32m   (...)\u001b[39m\u001b[32m    971\u001b[39m \u001b[38;5;66;03m#                                     XGBModel -> BaseEstimator\u001b[39;00m\n\u001b[32m    972\u001b[39m \u001b[38;5;66;03m#\u001b[39;00m\n\u001b[32m--> \u001b[39m\u001b[32m973\u001b[39m params = \u001b[38;5;28;43msuper\u001b[39;49m\u001b[43m(\u001b[49m\u001b[43m)\u001b[49m\u001b[43m.\u001b[49m\u001b[43mget_params\u001b[49m\u001b[43m(\u001b[49m\u001b[43mdeep\u001b[49m\u001b[43m)\u001b[49m\n\u001b[32m    974\u001b[39m cp = copy.copy(\u001b[38;5;28mself\u001b[39m)\n\u001b[32m    975\u001b[39m \u001b[38;5;66;03m# If the immediate parent defines get_params(), use that.\u001b[39;00m\n",
      "\u001b[36mFile \u001b[39m\u001b[32mc:\\Users\\benjf\\anaconda3\\envs\\gam\\Lib\\site-packages\\sklearn\\base.py:250\u001b[39m, in \u001b[36mBaseEstimator.get_params\u001b[39m\u001b[34m(self, deep)\u001b[39m\n\u001b[32m    248\u001b[39m out = \u001b[38;5;28mdict\u001b[39m()\n\u001b[32m    249\u001b[39m \u001b[38;5;28;01mfor\u001b[39;00m key \u001b[38;5;129;01min\u001b[39;00m \u001b[38;5;28mself\u001b[39m._get_param_names():\n\u001b[32m--> \u001b[39m\u001b[32m250\u001b[39m     value = \u001b[38;5;28;43mgetattr\u001b[39;49m\u001b[43m(\u001b[49m\u001b[38;5;28;43mself\u001b[39;49m\u001b[43m,\u001b[49m\u001b[43m \u001b[49m\u001b[43mkey\u001b[49m\u001b[43m)\u001b[49m\n\u001b[32m    251\u001b[39m     \u001b[38;5;28;01mif\u001b[39;00m deep \u001b[38;5;129;01mand\u001b[39;00m \u001b[38;5;28mhasattr\u001b[39m(value, \u001b[33m\"\u001b[39m\u001b[33mget_params\u001b[39m\u001b[33m\"\u001b[39m) \u001b[38;5;129;01mand\u001b[39;00m \u001b[38;5;129;01mnot\u001b[39;00m \u001b[38;5;28misinstance\u001b[39m(value, \u001b[38;5;28mtype\u001b[39m):\n\u001b[32m    252\u001b[39m         deep_items = value.get_params().items()\n",
      "\u001b[31mAttributeError\u001b[39m: 'XGBModel' object has no attribute 'feature_weights'"
     ]
    },
    {
     "ename": "AttributeError",
     "evalue": "'XGBModel' object has no attribute 'feature_weights'",
     "output_type": "error",
     "traceback": [
      "\u001b[31m---------------------------------------------------------------------------\u001b[39m",
      "\u001b[31mAttributeError\u001b[39m                            Traceback (most recent call last)",
      "\u001b[36mFile \u001b[39m\u001b[32mc:\\Users\\benjf\\anaconda3\\envs\\gam\\Lib\\site-packages\\IPython\\core\\formatters.py:406\u001b[39m, in \u001b[36mBaseFormatter.__call__\u001b[39m\u001b[34m(self, obj)\u001b[39m\n\u001b[32m    404\u001b[39m     method = get_real_method(obj, \u001b[38;5;28mself\u001b[39m.print_method)\n\u001b[32m    405\u001b[39m     \u001b[38;5;28;01mif\u001b[39;00m method \u001b[38;5;129;01mis\u001b[39;00m \u001b[38;5;129;01mnot\u001b[39;00m \u001b[38;5;28;01mNone\u001b[39;00m:\n\u001b[32m--> \u001b[39m\u001b[32m406\u001b[39m         \u001b[38;5;28;01mreturn\u001b[39;00m \u001b[43mmethod\u001b[49m\u001b[43m(\u001b[49m\u001b[43m)\u001b[49m\n\u001b[32m    407\u001b[39m     \u001b[38;5;28;01mreturn\u001b[39;00m \u001b[38;5;28;01mNone\u001b[39;00m\n\u001b[32m    408\u001b[39m \u001b[38;5;28;01melse\u001b[39;00m:\n",
      "\u001b[36mFile \u001b[39m\u001b[32mc:\\Users\\benjf\\anaconda3\\envs\\gam\\Lib\\site-packages\\sklearn\\utils\\_repr_html\\base.py:145\u001b[39m, in \u001b[36mReprHTMLMixin._repr_html_inner\u001b[39m\u001b[34m(self)\u001b[39m\n\u001b[32m    140\u001b[39m \u001b[38;5;28;01mdef\u001b[39;00m\u001b[38;5;250m \u001b[39m\u001b[34m_repr_html_inner\u001b[39m(\u001b[38;5;28mself\u001b[39m):\n\u001b[32m    141\u001b[39m \u001b[38;5;250m    \u001b[39m\u001b[33;03m\"\"\"This function is returned by the @property `_repr_html_` to make\u001b[39;00m\n\u001b[32m    142\u001b[39m \u001b[33;03m    `hasattr(estimator, \"_repr_html_\") return `True` or `False` depending\u001b[39;00m\n\u001b[32m    143\u001b[39m \u001b[33;03m    on `get_config()[\"display\"]`.\u001b[39;00m\n\u001b[32m    144\u001b[39m \u001b[33;03m    \"\"\"\u001b[39;00m\n\u001b[32m--> \u001b[39m\u001b[32m145\u001b[39m     \u001b[38;5;28;01mreturn\u001b[39;00m \u001b[38;5;28;43mself\u001b[39;49m\u001b[43m.\u001b[49m\u001b[43m_html_repr\u001b[49m\u001b[43m(\u001b[49m\u001b[43m)\u001b[49m\n",
      "\u001b[36mFile \u001b[39m\u001b[32mc:\\Users\\benjf\\anaconda3\\envs\\gam\\Lib\\site-packages\\sklearn\\utils\\_repr_html\\estimator.py:452\u001b[39m, in \u001b[36mestimator_html_repr\u001b[39m\u001b[34m(estimator)\u001b[39m\n\u001b[32m    450\u001b[39m style_template = Template(_CSS_STYLE)\n\u001b[32m    451\u001b[39m style_with_id = style_template.substitute(\u001b[38;5;28mid\u001b[39m=container_id)\n\u001b[32m--> \u001b[39m\u001b[32m452\u001b[39m estimator_str = \u001b[38;5;28;43mstr\u001b[39;49m\u001b[43m(\u001b[49m\u001b[43mestimator\u001b[49m\u001b[43m)\u001b[49m\n\u001b[32m    454\u001b[39m \u001b[38;5;66;03m# The fallback message is shown by default and loading the CSS sets\u001b[39;00m\n\u001b[32m    455\u001b[39m \u001b[38;5;66;03m# div.sk-text-repr-fallback to display: none to hide the fallback message.\u001b[39;00m\n\u001b[32m    456\u001b[39m \u001b[38;5;66;03m#\u001b[39;00m\n\u001b[32m   (...)\u001b[39m\u001b[32m    461\u001b[39m \u001b[38;5;66;03m# The reverse logic applies to HTML repr div.sk-container.\u001b[39;00m\n\u001b[32m    462\u001b[39m \u001b[38;5;66;03m# div.sk-container is hidden by default and the loading the CSS displays it.\u001b[39;00m\n\u001b[32m    463\u001b[39m fallback_msg = (\n\u001b[32m    464\u001b[39m     \u001b[33m\"\u001b[39m\u001b[33mIn a Jupyter environment, please rerun this cell to show the HTML\u001b[39m\u001b[33m\"\u001b[39m\n\u001b[32m    465\u001b[39m     \u001b[33m\"\u001b[39m\u001b[33m representation or trust the notebook. <br />On GitHub, the\u001b[39m\u001b[33m\"\u001b[39m\n\u001b[32m    466\u001b[39m     \u001b[33m\"\u001b[39m\u001b[33m HTML representation is unable to render, please try loading this page\u001b[39m\u001b[33m\"\u001b[39m\n\u001b[32m    467\u001b[39m     \u001b[33m\"\u001b[39m\u001b[33m with nbviewer.org.\u001b[39m\u001b[33m\"\u001b[39m\n\u001b[32m    468\u001b[39m )\n",
      "\u001b[36mFile \u001b[39m\u001b[32mc:\\Users\\benjf\\anaconda3\\envs\\gam\\Lib\\site-packages\\sklearn\\base.py:379\u001b[39m, in \u001b[36mBaseEstimator.__repr__\u001b[39m\u001b[34m(self, N_CHAR_MAX)\u001b[39m\n\u001b[32m    371\u001b[39m \u001b[38;5;66;03m# use ellipsis for sequences with a lot of elements\u001b[39;00m\n\u001b[32m    372\u001b[39m pp = _EstimatorPrettyPrinter(\n\u001b[32m    373\u001b[39m     compact=\u001b[38;5;28;01mTrue\u001b[39;00m,\n\u001b[32m    374\u001b[39m     indent=\u001b[32m1\u001b[39m,\n\u001b[32m    375\u001b[39m     indent_at_name=\u001b[38;5;28;01mTrue\u001b[39;00m,\n\u001b[32m    376\u001b[39m     n_max_elements_to_show=N_MAX_ELEMENTS_TO_SHOW,\n\u001b[32m    377\u001b[39m )\n\u001b[32m--> \u001b[39m\u001b[32m379\u001b[39m repr_ = \u001b[43mpp\u001b[49m\u001b[43m.\u001b[49m\u001b[43mpformat\u001b[49m\u001b[43m(\u001b[49m\u001b[38;5;28;43mself\u001b[39;49m\u001b[43m)\u001b[49m\n\u001b[32m    381\u001b[39m \u001b[38;5;66;03m# Use bruteforce ellipsis when there are a lot of non-blank characters\u001b[39;00m\n\u001b[32m    382\u001b[39m n_nonblank = \u001b[38;5;28mlen\u001b[39m(\u001b[33m\"\u001b[39m\u001b[33m\"\u001b[39m.join(repr_.split()))\n",
      "\u001b[36mFile \u001b[39m\u001b[32mc:\\Users\\benjf\\anaconda3\\envs\\gam\\Lib\\pprint.py:161\u001b[39m, in \u001b[36mPrettyPrinter.pformat\u001b[39m\u001b[34m(self, object)\u001b[39m\n\u001b[32m    159\u001b[39m \u001b[38;5;28;01mdef\u001b[39;00m\u001b[38;5;250m \u001b[39m\u001b[34mpformat\u001b[39m(\u001b[38;5;28mself\u001b[39m, \u001b[38;5;28mobject\u001b[39m):\n\u001b[32m    160\u001b[39m     sio = _StringIO()\n\u001b[32m--> \u001b[39m\u001b[32m161\u001b[39m     \u001b[38;5;28;43mself\u001b[39;49m\u001b[43m.\u001b[49m\u001b[43m_format\u001b[49m\u001b[43m(\u001b[49m\u001b[38;5;28;43mobject\u001b[39;49m\u001b[43m,\u001b[49m\u001b[43m \u001b[49m\u001b[43msio\u001b[49m\u001b[43m,\u001b[49m\u001b[43m \u001b[49m\u001b[32;43m0\u001b[39;49m\u001b[43m,\u001b[49m\u001b[43m \u001b[49m\u001b[32;43m0\u001b[39;49m\u001b[43m,\u001b[49m\u001b[43m \u001b[49m\u001b[43m{\u001b[49m\u001b[43m}\u001b[49m\u001b[43m,\u001b[49m\u001b[43m \u001b[49m\u001b[32;43m0\u001b[39;49m\u001b[43m)\u001b[49m\n\u001b[32m    162\u001b[39m     \u001b[38;5;28;01mreturn\u001b[39;00m sio.getvalue()\n",
      "\u001b[36mFile \u001b[39m\u001b[32mc:\\Users\\benjf\\anaconda3\\envs\\gam\\Lib\\pprint.py:178\u001b[39m, in \u001b[36mPrettyPrinter._format\u001b[39m\u001b[34m(self, object, stream, indent, allowance, context, level)\u001b[39m\n\u001b[32m    176\u001b[39m     \u001b[38;5;28mself\u001b[39m._readable = \u001b[38;5;28;01mFalse\u001b[39;00m\n\u001b[32m    177\u001b[39m     \u001b[38;5;28;01mreturn\u001b[39;00m\n\u001b[32m--> \u001b[39m\u001b[32m178\u001b[39m rep = \u001b[38;5;28;43mself\u001b[39;49m\u001b[43m.\u001b[49m\u001b[43m_repr\u001b[49m\u001b[43m(\u001b[49m\u001b[38;5;28;43mobject\u001b[39;49m\u001b[43m,\u001b[49m\u001b[43m \u001b[49m\u001b[43mcontext\u001b[49m\u001b[43m,\u001b[49m\u001b[43m \u001b[49m\u001b[43mlevel\u001b[49m\u001b[43m)\u001b[49m\n\u001b[32m    179\u001b[39m max_width = \u001b[38;5;28mself\u001b[39m._width - indent - allowance\n\u001b[32m    180\u001b[39m \u001b[38;5;28;01mif\u001b[39;00m \u001b[38;5;28mlen\u001b[39m(rep) > max_width:\n",
      "\u001b[36mFile \u001b[39m\u001b[32mc:\\Users\\benjf\\anaconda3\\envs\\gam\\Lib\\pprint.py:458\u001b[39m, in \u001b[36mPrettyPrinter._repr\u001b[39m\u001b[34m(self, object, context, level)\u001b[39m\n\u001b[32m    457\u001b[39m \u001b[38;5;28;01mdef\u001b[39;00m\u001b[38;5;250m \u001b[39m\u001b[34m_repr\u001b[39m(\u001b[38;5;28mself\u001b[39m, \u001b[38;5;28mobject\u001b[39m, context, level):\n\u001b[32m--> \u001b[39m\u001b[32m458\u001b[39m     \u001b[38;5;28mrepr\u001b[39m, readable, recursive = \u001b[38;5;28;43mself\u001b[39;49m\u001b[43m.\u001b[49m\u001b[43mformat\u001b[49m\u001b[43m(\u001b[49m\u001b[38;5;28;43mobject\u001b[39;49m\u001b[43m,\u001b[49m\u001b[43m \u001b[49m\u001b[43mcontext\u001b[49m\u001b[43m.\u001b[49m\u001b[43mcopy\u001b[49m\u001b[43m(\u001b[49m\u001b[43m)\u001b[49m\u001b[43m,\u001b[49m\n\u001b[32m    459\u001b[39m \u001b[43m                                            \u001b[49m\u001b[38;5;28;43mself\u001b[39;49m\u001b[43m.\u001b[49m\u001b[43m_depth\u001b[49m\u001b[43m,\u001b[49m\u001b[43m \u001b[49m\u001b[43mlevel\u001b[49m\u001b[43m)\u001b[49m\n\u001b[32m    460\u001b[39m     \u001b[38;5;28;01mif\u001b[39;00m \u001b[38;5;129;01mnot\u001b[39;00m readable:\n\u001b[32m    461\u001b[39m         \u001b[38;5;28mself\u001b[39m._readable = \u001b[38;5;28;01mFalse\u001b[39;00m\n",
      "\u001b[36mFile \u001b[39m\u001b[32mc:\\Users\\benjf\\anaconda3\\envs\\gam\\Lib\\site-packages\\sklearn\\utils\\_pprint.py:191\u001b[39m, in \u001b[36m_EstimatorPrettyPrinter.format\u001b[39m\u001b[34m(self, object, context, maxlevels, level)\u001b[39m\n\u001b[32m    190\u001b[39m \u001b[38;5;28;01mdef\u001b[39;00m\u001b[38;5;250m \u001b[39m\u001b[34mformat\u001b[39m(\u001b[38;5;28mself\u001b[39m, \u001b[38;5;28mobject\u001b[39m, context, maxlevels, level):\n\u001b[32m--> \u001b[39m\u001b[32m191\u001b[39m     \u001b[38;5;28;01mreturn\u001b[39;00m \u001b[43m_safe_repr\u001b[49m\u001b[43m(\u001b[49m\n\u001b[32m    192\u001b[39m \u001b[43m        \u001b[49m\u001b[38;5;28;43mobject\u001b[39;49m\u001b[43m,\u001b[49m\u001b[43m \u001b[49m\u001b[43mcontext\u001b[49m\u001b[43m,\u001b[49m\u001b[43m \u001b[49m\u001b[43mmaxlevels\u001b[49m\u001b[43m,\u001b[49m\u001b[43m \u001b[49m\u001b[43mlevel\u001b[49m\u001b[43m,\u001b[49m\u001b[43m \u001b[49m\u001b[43mchanged_only\u001b[49m\u001b[43m=\u001b[49m\u001b[38;5;28;43mself\u001b[39;49m\u001b[43m.\u001b[49m\u001b[43m_changed_only\u001b[49m\n\u001b[32m    193\u001b[39m \u001b[43m    \u001b[49m\u001b[43m)\u001b[49m\n",
      "\u001b[36mFile \u001b[39m\u001b[32mc:\\Users\\benjf\\anaconda3\\envs\\gam\\Lib\\site-packages\\sklearn\\utils\\_pprint.py:452\u001b[39m, in \u001b[36m_safe_repr\u001b[39m\u001b[34m(object, context, maxlevels, level, changed_only)\u001b[39m\n\u001b[32m    448\u001b[39m \u001b[38;5;28;01mfor\u001b[39;00m k, v \u001b[38;5;129;01min\u001b[39;00m items:\n\u001b[32m    449\u001b[39m     krepr, kreadable, krecur = saferepr(\n\u001b[32m    450\u001b[39m         k, context, maxlevels, level, changed_only=changed_only\n\u001b[32m    451\u001b[39m     )\n\u001b[32m--> \u001b[39m\u001b[32m452\u001b[39m     vrepr, vreadable, vrecur = \u001b[43msaferepr\u001b[49m\u001b[43m(\u001b[49m\n\u001b[32m    453\u001b[39m \u001b[43m        \u001b[49m\u001b[43mv\u001b[49m\u001b[43m,\u001b[49m\u001b[43m \u001b[49m\u001b[43mcontext\u001b[49m\u001b[43m,\u001b[49m\u001b[43m \u001b[49m\u001b[43mmaxlevels\u001b[49m\u001b[43m,\u001b[49m\u001b[43m \u001b[49m\u001b[43mlevel\u001b[49m\u001b[43m,\u001b[49m\u001b[43m \u001b[49m\u001b[43mchanged_only\u001b[49m\u001b[43m=\u001b[49m\u001b[43mchanged_only\u001b[49m\n\u001b[32m    454\u001b[39m \u001b[43m    \u001b[49m\u001b[43m)\u001b[49m\n\u001b[32m    455\u001b[39m     append(\u001b[33m\"\u001b[39m\u001b[38;5;132;01m%s\u001b[39;00m\u001b[33m=\u001b[39m\u001b[38;5;132;01m%s\u001b[39;00m\u001b[33m\"\u001b[39m % (krepr.strip(\u001b[33m\"\u001b[39m\u001b[33m'\u001b[39m\u001b[33m\"\u001b[39m), vrepr))\n\u001b[32m    456\u001b[39m     readable = readable \u001b[38;5;129;01mand\u001b[39;00m kreadable \u001b[38;5;129;01mand\u001b[39;00m vreadable\n",
      "\u001b[36mFile \u001b[39m\u001b[32mc:\\Users\\benjf\\anaconda3\\envs\\gam\\Lib\\site-packages\\sklearn\\utils\\_pprint.py:440\u001b[39m, in \u001b[36m_safe_repr\u001b[39m\u001b[34m(object, context, maxlevels, level, changed_only)\u001b[39m\n\u001b[32m    438\u001b[39m recursive = \u001b[38;5;28;01mFalse\u001b[39;00m\n\u001b[32m    439\u001b[39m \u001b[38;5;28;01mif\u001b[39;00m changed_only:\n\u001b[32m--> \u001b[39m\u001b[32m440\u001b[39m     params = \u001b[43m_changed_params\u001b[49m\u001b[43m(\u001b[49m\u001b[38;5;28;43mobject\u001b[39;49m\u001b[43m)\u001b[49m\n\u001b[32m    441\u001b[39m \u001b[38;5;28;01melse\u001b[39;00m:\n\u001b[32m    442\u001b[39m     params = \u001b[38;5;28mobject\u001b[39m.get_params(deep=\u001b[38;5;28;01mFalse\u001b[39;00m)\n",
      "\u001b[36mFile \u001b[39m\u001b[32mc:\\Users\\benjf\\anaconda3\\envs\\gam\\Lib\\site-packages\\sklearn\\utils\\_pprint.py:95\u001b[39m, in \u001b[36m_changed_params\u001b[39m\u001b[34m(estimator)\u001b[39m\n\u001b[32m     91\u001b[39m \u001b[38;5;28;01mdef\u001b[39;00m\u001b[38;5;250m \u001b[39m\u001b[34m_changed_params\u001b[39m(estimator):\n\u001b[32m     92\u001b[39m \u001b[38;5;250m    \u001b[39m\u001b[33;03m\"\"\"Return dict (param_name: value) of parameters that were given to\u001b[39;00m\n\u001b[32m     93\u001b[39m \u001b[33;03m    estimator with non-default values.\"\"\"\u001b[39;00m\n\u001b[32m---> \u001b[39m\u001b[32m95\u001b[39m     params = \u001b[43mestimator\u001b[49m\u001b[43m.\u001b[49m\u001b[43mget_params\u001b[49m\u001b[43m(\u001b[49m\u001b[43mdeep\u001b[49m\u001b[43m=\u001b[49m\u001b[38;5;28;43;01mFalse\u001b[39;49;00m\u001b[43m)\u001b[49m\n\u001b[32m     96\u001b[39m     init_func = \u001b[38;5;28mgetattr\u001b[39m(estimator.\u001b[34m__init__\u001b[39m, \u001b[33m\"\u001b[39m\u001b[33mdeprecated_original\u001b[39m\u001b[33m\"\u001b[39m, estimator.\u001b[34m__init__\u001b[39m)\n\u001b[32m     97\u001b[39m     init_params = inspect.signature(init_func).parameters\n",
      "\u001b[36mFile \u001b[39m\u001b[32mc:\\Users\\benjf\\anaconda3\\envs\\gam\\Lib\\site-packages\\xgboost\\sklearn.py:982\u001b[39m, in \u001b[36mXGBModel.get_params\u001b[39m\u001b[34m(self, deep)\u001b[39m\n\u001b[32m    978\u001b[39m \u001b[38;5;66;03m# Otherwise, skip it and assume the next class will have it.\u001b[39;00m\n\u001b[32m    979\u001b[39m \u001b[38;5;66;03m# This is here primarily for cases where the first class in MRO is a scikit-learn mixin.\u001b[39;00m\n\u001b[32m    980\u001b[39m \u001b[38;5;28;01melse\u001b[39;00m:\n\u001b[32m    981\u001b[39m     cp.\u001b[34m__class__\u001b[39m = cp.\u001b[34m__class__\u001b[39m.\u001b[34m__bases__\u001b[39m[\u001b[32m1\u001b[39m]\n\u001b[32m--> \u001b[39m\u001b[32m982\u001b[39m params.update(\u001b[43mcp\u001b[49m\u001b[43m.\u001b[49m\u001b[34;43m__class__\u001b[39;49m\u001b[43m.\u001b[49m\u001b[43mget_params\u001b[49m\u001b[43m(\u001b[49m\u001b[43mcp\u001b[49m\u001b[43m,\u001b[49m\u001b[43m \u001b[49m\u001b[43mdeep\u001b[49m\u001b[43m)\u001b[49m)\n\u001b[32m    983\u001b[39m \u001b[38;5;66;03m# if kwargs is a dict, update params accordingly\u001b[39;00m\n\u001b[32m    984\u001b[39m \u001b[38;5;28;01mif\u001b[39;00m \u001b[38;5;28mhasattr\u001b[39m(\u001b[38;5;28mself\u001b[39m, \u001b[33m\"\u001b[39m\u001b[33mkwargs\u001b[39m\u001b[33m\"\u001b[39m) \u001b[38;5;129;01mand\u001b[39;00m \u001b[38;5;28misinstance\u001b[39m(\u001b[38;5;28mself\u001b[39m.kwargs, \u001b[38;5;28mdict\u001b[39m):\n",
      "\u001b[36mFile \u001b[39m\u001b[32mc:\\Users\\benjf\\anaconda3\\envs\\gam\\Lib\\site-packages\\xgboost\\sklearn.py:973\u001b[39m, in \u001b[36mXGBModel.get_params\u001b[39m\u001b[34m(self, deep)\u001b[39m\n\u001b[32m    958\u001b[39m \u001b[38;5;250m\u001b[39m\u001b[33;03m\"\"\"Get parameters.\"\"\"\u001b[39;00m\n\u001b[32m    959\u001b[39m \u001b[38;5;66;03m# Based on: https://stackoverflow.com/questions/59248211\u001b[39;00m\n\u001b[32m    960\u001b[39m \u001b[38;5;66;03m# The basic flow in `get_params` is:\u001b[39;00m\n\u001b[32m    961\u001b[39m \u001b[38;5;66;03m# 0. Return parameters in subclass (self.__class__) first, by using inspect.\u001b[39;00m\n\u001b[32m   (...)\u001b[39m\u001b[32m    971\u001b[39m \u001b[38;5;66;03m#                                     XGBModel -> BaseEstimator\u001b[39;00m\n\u001b[32m    972\u001b[39m \u001b[38;5;66;03m#\u001b[39;00m\n\u001b[32m--> \u001b[39m\u001b[32m973\u001b[39m params = \u001b[38;5;28;43msuper\u001b[39;49m\u001b[43m(\u001b[49m\u001b[43m)\u001b[49m\u001b[43m.\u001b[49m\u001b[43mget_params\u001b[49m\u001b[43m(\u001b[49m\u001b[43mdeep\u001b[49m\u001b[43m)\u001b[49m\n\u001b[32m    974\u001b[39m cp = copy.copy(\u001b[38;5;28mself\u001b[39m)\n\u001b[32m    975\u001b[39m \u001b[38;5;66;03m# If the immediate parent defines get_params(), use that.\u001b[39;00m\n",
      "\u001b[36mFile \u001b[39m\u001b[32mc:\\Users\\benjf\\anaconda3\\envs\\gam\\Lib\\site-packages\\sklearn\\base.py:250\u001b[39m, in \u001b[36mBaseEstimator.get_params\u001b[39m\u001b[34m(self, deep)\u001b[39m\n\u001b[32m    248\u001b[39m out = \u001b[38;5;28mdict\u001b[39m()\n\u001b[32m    249\u001b[39m \u001b[38;5;28;01mfor\u001b[39;00m key \u001b[38;5;129;01min\u001b[39;00m \u001b[38;5;28mself\u001b[39m._get_param_names():\n\u001b[32m--> \u001b[39m\u001b[32m250\u001b[39m     value = \u001b[38;5;28;43mgetattr\u001b[39;49m\u001b[43m(\u001b[49m\u001b[38;5;28;43mself\u001b[39;49m\u001b[43m,\u001b[49m\u001b[43m \u001b[49m\u001b[43mkey\u001b[49m\u001b[43m)\u001b[49m\n\u001b[32m    251\u001b[39m     \u001b[38;5;28;01mif\u001b[39;00m deep \u001b[38;5;129;01mand\u001b[39;00m \u001b[38;5;28mhasattr\u001b[39m(value, \u001b[33m\"\u001b[39m\u001b[33mget_params\u001b[39m\u001b[33m\"\u001b[39m) \u001b[38;5;129;01mand\u001b[39;00m \u001b[38;5;129;01mnot\u001b[39;00m \u001b[38;5;28misinstance\u001b[39m(value, \u001b[38;5;28mtype\u001b[39m):\n\u001b[32m    252\u001b[39m         deep_items = value.get_params().items()\n",
      "\u001b[31mAttributeError\u001b[39m: 'XGBModel' object has no attribute 'feature_weights'"
     ]
    }
   ],
   "source": [
    "results_dict['xgbc0']['classifier']"
   ]
  },
  {
   "cell_type": "markdown",
   "id": "ee6e1bb1",
   "metadata": {},
   "source": [
    "# 2) Create Model prediction functions"
   ]
  },
  {
   "cell_type": "markdown",
   "id": "68e2cdce",
   "metadata": {},
   "source": [
    "## 2.1) Split dataset into train/testing while excluding demographic features"
   ]
  },
  {
   "cell_type": "code",
   "execution_count": 11,
   "id": "485d78d4",
   "metadata": {},
   "outputs": [],
   "source": [
    "def split_data_4(df, key_featsubgroups=key_featsubgroups, target=target, test_size=0.2, random_state=42):\n",
    "    \"\"\"\n",
    "    Splits the dataset into training and testing sets while excluding demographic features.\n",
    "\n",
    "    Parameters:\n",
    "    df (DataFrame): The dataset containing features and target variable.\n",
    "    key_featsubgroups (DataFrame): A mapping of feature subgroups.\n",
    "    target (str): The name of the target variable.\n",
    "    test_size (float, optional): The proportion of the dataset to allocate for testing. Default is 0.2.\n",
    "    random_state (int, optional): Random seed for reproducibility. Default is 42.\n",
    "\n",
    "    Returns:\n",
    "    tuple: X_train, X_test, y_train, y_test (training and testing datasets)\n",
    "    \"\"\"\n",
    "\n",
    "    # Extract demographic features\n",
    "    demo_feat = key_featsubgroups.loc[key_featsubgroups['subgroup'] == 'demo', 'list_features'].values[0]\n",
    "    print(\"Demographic Features:\", demo_feat)\n",
    "\n",
    "    # Separate features (X) and target variable (y), excluding demographic features\n",
    "    X = df.drop(columns=[target] + demo_feat)\n",
    "    y = df[target]\n",
    "\n",
    "    # Split the dataset into training (80%) and testing (20%) sets\n",
    "    X_train, X_test, y_train, y_test = train_test_split(\n",
    "        X, y, test_size=test_size, random_state=random_state\n",
    "    )\n",
    "\n",
    "    # Print dataset shapes\n",
    "    print(f\"Training Features Shape: {X_train.shape}\")\n",
    "    print(f\"Training Labels Shape: {y_train.shape}\")\n",
    "    print(f\"Testing Features Shape: {X_test.shape}\")\n",
    "    print(f\"Testing Labels Shape: {y_test.shape}\")\n",
    "\n",
    "    return X_train, X_test, y_train, y_test"
   ]
  },
  {
   "cell_type": "markdown",
   "id": "daded45c",
   "metadata": {},
   "source": [
    "## 2.2) Model Training and prediction"
   ]
  },
  {
   "cell_type": "code",
   "execution_count": 33,
   "id": "ec8e16b4",
   "metadata": {},
   "outputs": [],
   "source": [
    "from functools import reduce"
   ]
  },
  {
   "cell_type": "code",
   "execution_count": 34,
   "id": "bfe58de6",
   "metadata": {},
   "outputs": [],
   "source": [
    "# -------------------------------------------------------------------------\n",
    "# 2. helper: detect regression vs. binary classification\n",
    "# -------------------------------------------------------------------------\n",
    "def _problem_type(y):\n",
    "    u = np.unique(y)\n",
    "    return \"binary\" if len(u) == 2 and u.dtype.kind in \"ifu\" else \"regression\"\n",
    "\n",
    "# -------------------------------------------------------------------------\n",
    "# 3. MAIN FUNCTION\n",
    "# -------------------------------------------------------------------------\n",
    "def gam(param_grid: dict, df, results_dict):\n",
    "    \"\"\"\n",
    "    Exhaustive grid-search over GAM variants.\n",
    "    `cv` and `verbose` are treated like any other hyper-parameter and\n",
    "    must live in `param_grid`.\n",
    "    Returns\n",
    "    -------\n",
    "    best_params : dict\n",
    "    results_dict : dict   (updated in place)\n",
    "    \"\"\"\n",
    "    X_train, X_test, y_train, y_test = split_data_4(df)   # your own splitter\n",
    "    task = _problem_type(y_train)\n",
    "    n_features = X_train.shape[1]\n",
    "\n",
    "    # cache the 406-spline term list once\n",
    "    term_cache = {}\n",
    "    for n_spl in param_grid[\"n_splines\"]:\n",
    "        tl = [s(i, n_splines=n_spl) for i in range(n_features)]\n",
    "        term_cache[n_spl] = reduce(lambda a, b: a + b, tl[1:], tl[0])\n",
    "    best_score  = -np.inf if task == \"binary\" else np.inf\n",
    "    best_params = None\n",
    "    best_model  = None\n",
    "    t0 = time.time()\n",
    "\n",
    "    for params in ParameterGrid(param_grid):\n",
    "        model_cls = params[\"model_cls\"]\n",
    "        cv        = params[\"cv\"]\n",
    "        verbose   = params[\"verbose\"]\n",
    "\n",
    "        # skip incompatible combos\n",
    "        if task == \"binary\" and model_cls is not LogisticGAM:\n",
    "            continue\n",
    "        if task == \"regression\" and model_cls is LogisticGAM:\n",
    "            continue\n",
    "\n",
    "        model = model_cls(\n",
    "            term_cache[params[\"n_splines\"]],\n",
    "            lam=params[\"lam\"],\n",
    "            max_iter=params[\"max_iter\"]\n",
    "        )\n",
    "\n",
    "        if verbose:\n",
    "            print(f\"[GAM] {model_cls.__name__} | lam={params['lam']} \"\n",
    "                  f\"| max_iter={params['max_iter']} | cv={cv}\")\n",
    "\n",
    "        model.fit(X_train, y_train)\n",
    "        y_pred_cv   = cross_val_predict(model, X_train, y_train, cv=cv)\n",
    "        y_pred_test = model.predict(X_test)\n",
    "\n",
    "        if task == \"binary\":\n",
    "            score = roc_auc_score(y_test, model.predict_mu(X_test))\n",
    "        else:\n",
    "            score = mean_squared_error(y_test, y_pred_test, squared=False)\n",
    "\n",
    "        is_better = score > best_score if task == \"binary\" else score < best_score\n",
    "        if is_better:\n",
    "            best_score, best_params = score, deepcopy(params)\n",
    "            best_model = deepcopy(model)\n",
    "            if verbose:\n",
    "                tag = \"ROC-AUC\" if task == \"binary\" else \"RMSE\"\n",
    "                print(f\" → new best ({tag}={score:.4f})\")\n",
    "\n",
    "    # ----------------- final evaluation & logging -----------------\n",
    "    best_model.fit(X_train, y_train)\n",
    "    y_train_pred = cross_val_predict(best_model, X_train, y_train,\n",
    "                                     cv=best_params[\"cv\"])\n",
    "    y_test_pred  = best_model.predict(X_test)\n",
    "\n",
    "    entry_key = f\"gam_best_{best_model.__class__.__name__}\"\n",
    "    log = {\n",
    "        \"estimator\": deepcopy(best_model),\n",
    "        \"best_params\": best_params,\n",
    "        \"fit_time_s\": round(time.time() - t0, 2),\n",
    "    }\n",
    "\n",
    "    if task == \"binary\":\n",
    "        log.update({\n",
    "            \"cfm_train\": confusion_matrix(y_train, y_train_pred),\n",
    "            \"cfm_test\":  confusion_matrix(y_test,  y_test_pred),\n",
    "            \"train_accuracy\": accuracy_score(y_train, y_train_pred),\n",
    "            \"test_accuracy\":  accuracy_score(y_test,  y_test_pred),\n",
    "            \"test_roc_auc\":   roc_auc_score(y_test, best_model.predict_mu(X_test)),\n",
    "        })\n",
    "    else:\n",
    "        log.update({\n",
    "            \"rmse_test\": mean_squared_error(y_test, y_test_pred, squared=False),\n",
    "            \"mae_test\":  mean_absolute_error(y_test, y_test_pred),\n",
    "            \"r2_test\":   r2_score(y_test, y_test_pred),\n",
    "        })\n",
    "\n",
    "    results_dict[entry_key] = log\n",
    "\n",
    "    if best_params[\"verbose\"]:\n",
    "        metric = \"ROC-AUC\" if task == \"binary\" else \"RMSE\"\n",
    "        print(f\"\\n✓ Stored best GAM under '{entry_key}' \"\n",
    "              f\"({metric}={best_score:.4f}, \"\n",
    "              f\"time={log['fit_time_s']:.1f}s)\")\n",
    "\n",
    "    return best_params, results_dict"
   ]
  },
  {
   "cell_type": "markdown",
   "id": "069ce1d3",
   "metadata": {},
   "source": [
    "# 6) GAM"
   ]
  },
  {
   "cell_type": "markdown",
   "id": "727aa173",
   "metadata": {},
   "source": [
    "## 6.1) Grid"
   ]
  },
  {
   "cell_type": "code",
   "execution_count": null,
   "id": "e9c2bd52",
   "metadata": {},
   "outputs": [
    {
     "name": "stdout",
     "output_type": "stream",
     "text": [
      "Demographic Features: ['clientdata.demo.gender', 'clientdata.demo.age_year', 'clientdata.demo.age_month', 'clientdata.demo.children', 'clientdata.demo.children_singleparent', 'clientdata.demo.maritalstatus_expand_SINGLE', 'clientdata.demo.maritalstatus_expand_MARRIED', 'clientdata.demo.maritalstatus_expand_DIVORCED', 'clientdata.demo.maritalstatus_expand_WIDOWED', 'clientdata.demo.maritalstatus_expand_newvalue', 'clientdata.demo.maritalstatus_woe']\n",
      "Training Features Shape: (103565, 406)\n",
      "Training Labels Shape: (103565,)\n",
      "Testing Features Shape: (25892, 406)\n",
      "Testing Labels Shape: (25892,)\n",
      "[GAM] LogisticGAM | lam=1 | max_iter=50 | cv=5\n"
     ]
    },
    {
     "ename": "KeyboardInterrupt",
     "evalue": "",
     "output_type": "error",
     "traceback": [
      "\u001b[31m---------------------------------------------------------------------------\u001b[39m",
      "\u001b[31mKeyboardInterrupt\u001b[39m                         Traceback (most recent call last)",
      "\u001b[36mCell\u001b[39m\u001b[36m \u001b[39m\u001b[32mIn[35]\u001b[39m\u001b[32m, line 1\u001b[39m\n\u001b[32m----> \u001b[39m\u001b[32m1\u001b[39m best_params, results_dict = \u001b[43mgam\u001b[49m\u001b[43m(\u001b[49m\u001b[43mparam_grid\u001b[49m\u001b[43m,\u001b[49m\u001b[43m \u001b[49m\u001b[43mdf\u001b[49m\u001b[43m,\u001b[49m\u001b[43m \u001b[49m\u001b[43m{\u001b[49m\u001b[43m}\u001b[49m\u001b[43m)\u001b[49m\n",
      "\u001b[36mCell\u001b[39m\u001b[36m \u001b[39m\u001b[32mIn[34]\u001b[39m\u001b[32m, line 56\u001b[39m, in \u001b[36mgam\u001b[39m\u001b[34m(param_grid, df, results_dict)\u001b[39m\n\u001b[32m     52\u001b[39m \u001b[38;5;28;01mif\u001b[39;00m verbose:\n\u001b[32m     53\u001b[39m     \u001b[38;5;28mprint\u001b[39m(\u001b[33mf\u001b[39m\u001b[33m\"\u001b[39m\u001b[33m[GAM] \u001b[39m\u001b[38;5;132;01m{\u001b[39;00mmodel_cls.\u001b[34m__name__\u001b[39m\u001b[38;5;132;01m}\u001b[39;00m\u001b[33m | lam=\u001b[39m\u001b[38;5;132;01m{\u001b[39;00mparams[\u001b[33m'\u001b[39m\u001b[33mlam\u001b[39m\u001b[33m'\u001b[39m]\u001b[38;5;132;01m}\u001b[39;00m\u001b[33m \u001b[39m\u001b[33m\"\u001b[39m\n\u001b[32m     54\u001b[39m           \u001b[33mf\u001b[39m\u001b[33m\"\u001b[39m\u001b[33m| max_iter=\u001b[39m\u001b[38;5;132;01m{\u001b[39;00mparams[\u001b[33m'\u001b[39m\u001b[33mmax_iter\u001b[39m\u001b[33m'\u001b[39m]\u001b[38;5;132;01m}\u001b[39;00m\u001b[33m | cv=\u001b[39m\u001b[38;5;132;01m{\u001b[39;00mcv\u001b[38;5;132;01m}\u001b[39;00m\u001b[33m\"\u001b[39m)\n\u001b[32m---> \u001b[39m\u001b[32m56\u001b[39m \u001b[43mmodel\u001b[49m\u001b[43m.\u001b[49m\u001b[43mfit\u001b[49m\u001b[43m(\u001b[49m\u001b[43mX_train\u001b[49m\u001b[43m,\u001b[49m\u001b[43m \u001b[49m\u001b[43my_train\u001b[49m\u001b[43m)\u001b[49m\n\u001b[32m     57\u001b[39m y_pred_cv   = cross_val_predict(model, X_train, y_train, cv=cv)\n\u001b[32m     58\u001b[39m y_pred_test = model.predict(X_test)\n",
      "\u001b[36mFile \u001b[39m\u001b[32mc:\\Users\\benjf\\anaconda3\\envs\\gam\\Lib\\site-packages\\pygam\\pygam.py:913\u001b[39m, in \u001b[36mGAM.fit\u001b[39m\u001b[34m(self, X, y, weights)\u001b[39m\n\u001b[32m    910\u001b[39m \u001b[38;5;28mself\u001b[39m.statistics_[\u001b[33m'\u001b[39m\u001b[33mm_features\u001b[39m\u001b[33m'\u001b[39m] = X.shape[\u001b[32m1\u001b[39m]\n\u001b[32m    912\u001b[39m \u001b[38;5;66;03m# optimize\u001b[39;00m\n\u001b[32m--> \u001b[39m\u001b[32m913\u001b[39m \u001b[38;5;28;43mself\u001b[39;49m\u001b[43m.\u001b[49m\u001b[43m_pirls\u001b[49m\u001b[43m(\u001b[49m\u001b[43mX\u001b[49m\u001b[43m,\u001b[49m\u001b[43m \u001b[49m\u001b[43my\u001b[49m\u001b[43m,\u001b[49m\u001b[43m \u001b[49m\u001b[43mweights\u001b[49m\u001b[43m)\u001b[49m\n\u001b[32m    914\u001b[39m \u001b[38;5;66;03m# if self._opt == 0:\u001b[39;00m\n\u001b[32m    915\u001b[39m \u001b[38;5;66;03m#     self._pirls(X, y, weights)\u001b[39;00m\n\u001b[32m    916\u001b[39m \u001b[38;5;66;03m# if self._opt == 1:\u001b[39;00m\n\u001b[32m    917\u001b[39m \u001b[38;5;66;03m#     self._pirls_naive(X, y)\u001b[39;00m\n\u001b[32m    918\u001b[39m \u001b[38;5;28;01mreturn\u001b[39;00m \u001b[38;5;28mself\u001b[39m\n",
      "\u001b[36mFile \u001b[39m\u001b[32mc:\\Users\\benjf\\anaconda3\\envs\\gam\\Lib\\site-packages\\pygam\\pygam.py:729\u001b[39m, in \u001b[36mGAM._pirls\u001b[39m\u001b[34m(self, X, Y, weights)\u001b[39m\n\u001b[32m    712\u001b[39m \u001b[38;5;28;01mdef\u001b[39;00m\u001b[38;5;250m \u001b[39m\u001b[34m_pirls\u001b[39m(\u001b[38;5;28mself\u001b[39m, X, Y, weights):\n\u001b[32m    713\u001b[39m \u001b[38;5;250m    \u001b[39m\u001b[33;03m\"\"\"\u001b[39;00m\n\u001b[32m    714\u001b[39m \u001b[33;03m    Performs stable PIRLS iterations to estimate GAM coefficients\u001b[39;00m\n\u001b[32m    715\u001b[39m \n\u001b[32m   (...)\u001b[39m\u001b[32m    727\u001b[39m \u001b[33;03m    None\u001b[39;00m\n\u001b[32m    728\u001b[39m \u001b[33;03m    \"\"\"\u001b[39;00m\n\u001b[32m--> \u001b[39m\u001b[32m729\u001b[39m     modelmat = \u001b[38;5;28;43mself\u001b[39;49m\u001b[43m.\u001b[49m\u001b[43m_modelmat\u001b[49m\u001b[43m(\u001b[49m\u001b[43mX\u001b[49m\u001b[43m)\u001b[49m  \u001b[38;5;66;03m# build a basis matrix for the GLM\u001b[39;00m\n\u001b[32m    730\u001b[39m     n, m = modelmat.shape\n\u001b[32m    732\u001b[39m     \u001b[38;5;66;03m# initialize GLM coefficients if model is not yet fitted\u001b[39;00m\n",
      "\u001b[36mFile \u001b[39m\u001b[32mc:\\Users\\benjf\\anaconda3\\envs\\gam\\Lib\\site-packages\\pygam\\pygam.py:492\u001b[39m, in \u001b[36mGAM._modelmat\u001b[39m\u001b[34m(self, X, term)\u001b[39m\n\u001b[32m    465\u001b[39m \u001b[38;5;250m\u001b[39m\u001b[33;03m\"\"\"\u001b[39;00m\n\u001b[32m    466\u001b[39m \u001b[33;03mBuilds a model matrix, B, out of the spline basis for each feature\u001b[39;00m\n\u001b[32m    467\u001b[39m \n\u001b[32m   (...)\u001b[39m\u001b[32m    481\u001b[39m \u001b[33;03m    containing model matrix of the spline basis for selected features\u001b[39;00m\n\u001b[32m    482\u001b[39m \u001b[33;03m\"\"\"\u001b[39;00m\n\u001b[32m    483\u001b[39m X = check_X(\n\u001b[32m    484\u001b[39m     X,\n\u001b[32m    485\u001b[39m     n_feats=\u001b[38;5;28mself\u001b[39m.statistics_[\u001b[33m'\u001b[39m\u001b[33mm_features\u001b[39m\u001b[33m'\u001b[39m],\n\u001b[32m   (...)\u001b[39m\u001b[32m    489\u001b[39m     verbose=\u001b[38;5;28mself\u001b[39m.verbose,\n\u001b[32m    490\u001b[39m )\n\u001b[32m--> \u001b[39m\u001b[32m492\u001b[39m \u001b[38;5;28;01mreturn\u001b[39;00m \u001b[38;5;28;43mself\u001b[39;49m\u001b[43m.\u001b[49m\u001b[43mterms\u001b[49m\u001b[43m.\u001b[49m\u001b[43mbuild_columns\u001b[49m\u001b[43m(\u001b[49m\u001b[43mX\u001b[49m\u001b[43m,\u001b[49m\u001b[43m \u001b[49m\u001b[43mterm\u001b[49m\u001b[43m=\u001b[49m\u001b[43mterm\u001b[49m\u001b[43m)\u001b[49m\n",
      "\u001b[36mFile \u001b[39m\u001b[32mc:\\Users\\benjf\\anaconda3\\envs\\gam\\Lib\\site-packages\\pygam\\terms.py:1821\u001b[39m, in \u001b[36mTermList.build_columns\u001b[39m\u001b[34m(self, X, term, verbose)\u001b[39m\n\u001b[32m   1819\u001b[39m columns = []\n\u001b[32m   1820\u001b[39m \u001b[38;5;28;01mfor\u001b[39;00m term_id \u001b[38;5;129;01min\u001b[39;00m term:\n\u001b[32m-> \u001b[39m\u001b[32m1821\u001b[39m     columns.append(\u001b[38;5;28;43mself\u001b[39;49m\u001b[43m.\u001b[49m\u001b[43m_terms\u001b[49m\u001b[43m[\u001b[49m\u001b[43mterm_id\u001b[49m\u001b[43m]\u001b[49m\u001b[43m.\u001b[49m\u001b[43mbuild_columns\u001b[49m\u001b[43m(\u001b[49m\u001b[43mX\u001b[49m\u001b[43m,\u001b[49m\u001b[43m \u001b[49m\u001b[43mverbose\u001b[49m\u001b[43m=\u001b[49m\u001b[43mverbose\u001b[49m\u001b[43m)\u001b[49m)\n\u001b[32m   1822\u001b[39m \u001b[38;5;28;01mreturn\u001b[39;00m sp.sparse.hstack(columns, \u001b[38;5;28mformat\u001b[39m=\u001b[33m'\u001b[39m\u001b[33mcsc\u001b[39m\u001b[33m'\u001b[39m)\n",
      "\u001b[36mFile \u001b[39m\u001b[32mc:\\Users\\benjf\\anaconda3\\envs\\gam\\Lib\\site-packages\\pygam\\terms.py:851\u001b[39m, in \u001b[36mSplineTerm.build_columns\u001b[39m\u001b[34m(self, X, verbose)\u001b[39m\n\u001b[32m    835\u001b[39m \u001b[38;5;250m\u001b[39m\u001b[33;03m\"\"\"construct the model matrix columns for the term\u001b[39;00m\n\u001b[32m    836\u001b[39m \n\u001b[32m    837\u001b[39m \u001b[33;03mParameters\u001b[39;00m\n\u001b[32m   (...)\u001b[39m\u001b[32m    847\u001b[39m \u001b[33;03mscipy sparse array with n rows\u001b[39;00m\n\u001b[32m    848\u001b[39m \u001b[33;03m\"\"\"\u001b[39;00m\n\u001b[32m    849\u001b[39m X[:, \u001b[38;5;28mself\u001b[39m.feature][:, np.newaxis]\n\u001b[32m--> \u001b[39m\u001b[32m851\u001b[39m splines = \u001b[43mb_spline_basis\u001b[49m\u001b[43m(\u001b[49m\n\u001b[32m    852\u001b[39m \u001b[43m    \u001b[49m\u001b[43mX\u001b[49m\u001b[43m[\u001b[49m\u001b[43m:\u001b[49m\u001b[43m,\u001b[49m\u001b[43m \u001b[49m\u001b[38;5;28;43mself\u001b[39;49m\u001b[43m.\u001b[49m\u001b[43mfeature\u001b[49m\u001b[43m]\u001b[49m\u001b[43m,\u001b[49m\n\u001b[32m    853\u001b[39m \u001b[43m    \u001b[49m\u001b[43medge_knots\u001b[49m\u001b[43m=\u001b[49m\u001b[38;5;28;43mself\u001b[39;49m\u001b[43m.\u001b[49m\u001b[43medge_knots_\u001b[49m\u001b[43m,\u001b[49m\n\u001b[32m    854\u001b[39m \u001b[43m    \u001b[49m\u001b[43mspline_order\u001b[49m\u001b[43m=\u001b[49m\u001b[38;5;28;43mself\u001b[39;49m\u001b[43m.\u001b[49m\u001b[43mspline_order\u001b[49m\u001b[43m,\u001b[49m\n\u001b[32m    855\u001b[39m \u001b[43m    \u001b[49m\u001b[43mn_splines\u001b[49m\u001b[43m=\u001b[49m\u001b[38;5;28;43mself\u001b[39;49m\u001b[43m.\u001b[49m\u001b[43mn_splines\u001b[49m\u001b[43m,\u001b[49m\n\u001b[32m    856\u001b[39m \u001b[43m    \u001b[49m\u001b[43msparse\u001b[49m\u001b[43m=\u001b[49m\u001b[38;5;28;43;01mTrue\u001b[39;49;00m\u001b[43m,\u001b[49m\n\u001b[32m    857\u001b[39m \u001b[43m    \u001b[49m\u001b[43mperiodic\u001b[49m\u001b[43m=\u001b[49m\u001b[38;5;28;43mself\u001b[39;49m\u001b[43m.\u001b[49m\u001b[43mbasis\u001b[49m\u001b[43m \u001b[49m\u001b[38;5;129;43;01min\u001b[39;49;00m\u001b[43m \u001b[49m\u001b[43m[\u001b[49m\u001b[33;43m'\u001b[39;49m\u001b[33;43mcp\u001b[39;49m\u001b[33;43m'\u001b[39;49m\u001b[43m]\u001b[49m\u001b[43m,\u001b[49m\n\u001b[32m    858\u001b[39m \u001b[43m    \u001b[49m\u001b[43mverbose\u001b[49m\u001b[43m=\u001b[49m\u001b[43mverbose\u001b[49m\u001b[43m,\u001b[49m\n\u001b[32m    859\u001b[39m \u001b[43m\u001b[49m\u001b[43m)\u001b[49m\n\u001b[32m    861\u001b[39m \u001b[38;5;28;01mif\u001b[39;00m \u001b[38;5;28mself\u001b[39m.by \u001b[38;5;129;01mis\u001b[39;00m \u001b[38;5;129;01mnot\u001b[39;00m \u001b[38;5;28;01mNone\u001b[39;00m:\n\u001b[32m    862\u001b[39m     splines = splines.multiply(X[:, \u001b[38;5;28mself\u001b[39m.by][:, np.newaxis])\n",
      "\u001b[36mFile \u001b[39m\u001b[32mc:\\Users\\benjf\\anaconda3\\envs\\gam\\Lib\\site-packages\\pygam\\utils.py:779\u001b[39m, in \u001b[36mb_spline_basis\u001b[39m\u001b[34m(x, edge_knots, n_splines, spline_order, sparse, periodic, verbose)\u001b[39m\n\u001b[32m    776\u001b[39m bases = bases[:-\u001b[32m2\u001b[39m]\n\u001b[32m    778\u001b[39m \u001b[38;5;28;01mif\u001b[39;00m sparse:\n\u001b[32m--> \u001b[39m\u001b[32m779\u001b[39m     \u001b[38;5;28;01mreturn\u001b[39;00m \u001b[43msp\u001b[49m\u001b[43m.\u001b[49m\u001b[43msparse\u001b[49m\u001b[43m.\u001b[49m\u001b[43mcsc_matrix\u001b[49m\u001b[43m(\u001b[49m\u001b[43mbases\u001b[49m\u001b[43m)\u001b[49m\n\u001b[32m    781\u001b[39m \u001b[38;5;28;01mreturn\u001b[39;00m bases\n",
      "\u001b[36mFile \u001b[39m\u001b[32mc:\\Users\\benjf\\anaconda3\\envs\\gam\\Lib\\site-packages\\scipy\\sparse\\_compressed.py:84\u001b[39m, in \u001b[36m_cs_matrix.__init__\u001b[39m\u001b[34m(self, arg1, shape, dtype, copy)\u001b[39m\n\u001b[32m     80\u001b[39m     \u001b[38;5;28;01mexcept\u001b[39;00m \u001b[38;5;167;01mException\u001b[39;00m \u001b[38;5;28;01mas\u001b[39;00m e:\n\u001b[32m     81\u001b[39m         \u001b[38;5;28;01mraise\u001b[39;00m \u001b[38;5;167;01mValueError\u001b[39;00m(\u001b[33m\"\u001b[39m\u001b[33munrecognized \u001b[39m\u001b[38;5;132;01m{}\u001b[39;00m\u001b[33m_matrix constructor usage\u001b[39m\u001b[33m\"\u001b[39m\n\u001b[32m     82\u001b[39m                          \u001b[33m\"\u001b[39m\u001b[33m\"\u001b[39m.format(\u001b[38;5;28mself\u001b[39m.format)) \u001b[38;5;28;01mfrom\u001b[39;00m\u001b[38;5;250m \u001b[39m\u001b[34;01me\u001b[39;00m\n\u001b[32m     83\u001b[39m     \u001b[38;5;28mself\u001b[39m._set_self(\u001b[38;5;28mself\u001b[39m.\u001b[34m__class__\u001b[39m(\n\u001b[32m---> \u001b[39m\u001b[32m84\u001b[39m         \u001b[38;5;28;43mself\u001b[39;49m\u001b[43m.\u001b[49m\u001b[43m_coo_container\u001b[49m\u001b[43m(\u001b[49m\u001b[43marg1\u001b[49m\u001b[43m,\u001b[49m\u001b[43m \u001b[49m\u001b[43mdtype\u001b[49m\u001b[43m=\u001b[49m\u001b[43mdtype\u001b[49m\u001b[43m)\u001b[49m\n\u001b[32m     85\u001b[39m     ))\n\u001b[32m     87\u001b[39m \u001b[38;5;66;03m# Read matrix dimensions given, if any\u001b[39;00m\n\u001b[32m     88\u001b[39m \u001b[38;5;28;01mif\u001b[39;00m shape \u001b[38;5;129;01mis\u001b[39;00m \u001b[38;5;129;01mnot\u001b[39;00m \u001b[38;5;28;01mNone\u001b[39;00m:\n",
      "\u001b[36mFile \u001b[39m\u001b[32mc:\\Users\\benjf\\anaconda3\\envs\\gam\\Lib\\site-packages\\scipy\\sparse\\_coo.py:195\u001b[39m, in \u001b[36m_coo_base.__init__\u001b[39m\u001b[34m(self, arg1, shape, dtype, copy)\u001b[39m\n\u001b[32m    192\u001b[39m         \u001b[38;5;28;01mraise\u001b[39;00m \u001b[38;5;167;01mValueError\u001b[39;00m(\u001b[33m'\u001b[39m\u001b[33minconsistent shapes: \u001b[39m\u001b[38;5;132;01m%s\u001b[39;00m\u001b[33m != \u001b[39m\u001b[38;5;132;01m%s\u001b[39;00m\u001b[33m'\u001b[39m %\n\u001b[32m    193\u001b[39m                          (shape, \u001b[38;5;28mself\u001b[39m._shape))\n\u001b[32m    194\u001b[39m index_dtype = \u001b[38;5;28mself\u001b[39m._get_index_dtype(maxval=\u001b[38;5;28mmax\u001b[39m(\u001b[38;5;28mself\u001b[39m._shape))\n\u001b[32m--> \u001b[39m\u001b[32m195\u001b[39m row, col = \u001b[43mM\u001b[49m\u001b[43m.\u001b[49m\u001b[43mnonzero\u001b[49m\u001b[43m(\u001b[49m\u001b[43m)\u001b[49m\n\u001b[32m    196\u001b[39m \u001b[38;5;28mself\u001b[39m.row = row.astype(index_dtype, copy=\u001b[38;5;28;01mFalse\u001b[39;00m)\n\u001b[32m    197\u001b[39m \u001b[38;5;28mself\u001b[39m.col = col.astype(index_dtype, copy=\u001b[38;5;28;01mFalse\u001b[39;00m)\n",
      "\u001b[31mKeyboardInterrupt\u001b[39m: "
     ]
    }
   ],
   "source": [
    "best_params, results_dict = gam(param_grid, df, results_dict)"
   ]
  },
  {
   "cell_type": "markdown",
   "id": "e27b04f2",
   "metadata": {},
   "source": [
    "## 6.2) Optuna "
   ]
  },
  {
   "cell_type": "code",
   "execution_count": null,
   "id": "7124c3e8",
   "metadata": {},
   "outputs": [],
   "source": [
    "def gam_optuna(param_grid: dict, df, results_dict):\n",
    "    \"\"\"\n",
    "    Optuna‐tunes a pygam model (LinearGAM or LogisticGAM),\n",
    "    evaluates performance, and stores results in results_dict.\n",
    "\n",
    "    Parameters:\n",
    "    -----------\n",
    "    param_grid : dict\n",
    "        Search space with keys:\n",
    "          - \"model_cls\": [LinearGAM, LogisticGAM]\n",
    "          - \"n_splines\": list of ints\n",
    "          - \"lam\": list of floats\n",
    "          - \"max_iter\": list of ints\n",
    "          - \"cv\": list of ints\n",
    "          - \"verbose\": [True, False]\n",
    "    df : DataFrame\n",
    "        Input data.\n",
    "    results_dict : dict\n",
    "        Dictionary to log results.\n",
    "\n",
    "    Returns:\n",
    "    --------\n",
    "    best_params : dict\n",
    "        Best parameters found by Optuna.\n",
    "    results_dict : dict\n",
    "        Updated with evaluation metrics.\n",
    "    \"\"\"\n",
    "    start_time = time.time()\n",
    "    print(\"\\nStarting Optuna hyperparameter search for GAM...\")\n",
    "\n",
    "    X_train, X_test, y_train, y_test = split_data_4(df)\n",
    "    task = _problem_type(y_train)\n",
    "    n_features = X_train.shape[1]\n",
    "\n",
    "    # precompute term for given n_splines\n",
    "    term_cache = {}\n",
    "\n",
    "    def get_terms(n_splines):\n",
    "        if n_splines not in term_cache:\n",
    "            term_cache[n_splines] = sum(s(i, n_splines=n_splines) for i in range(n_features))\n",
    "        return term_cache[n_splines]\n",
    "\n",
    "    # choose study direction\n",
    "    direction = \"maximize\" if task == \"binary\" else \"minimize\"\n",
    "    study = optuna.create_study(direction=direction)\n",
    "\n",
    "    def objective(trial):\n",
    "        # sample from provided lists\n",
    "        params = {k: trial.suggest_categorical(k, v) for k, v in param_grid.items()}\n",
    "        Model = params[\"model_cls\"]\n",
    "        terms = get_terms(params[\"n_splines\"])\n",
    "        gam = Model(terms, lam=params[\"lam\"], max_iter=params[\"max_iter\"])\n",
    "        if params[\"verbose\"]:\n",
    "            print(f\"[GAM] Trial: {trial.number} | {Model.__name__} | lam={params['lam']} \"\n",
    "                  f\"| max_iter={params['max_iter']} | cv={params['cv']}\")\n",
    "\n",
    "        gam.fit(X_train, y_train)\n",
    "        # for classification use ROC-AUC on test\n",
    "        if task == \"binary\":\n",
    "            score = roc_auc_score(y_test, gam.predict_mu(X_test))\n",
    "        else:\n",
    "            y_pred = gam.predict(X_test)\n",
    "            score = mean_squared_error(y_test, y_pred, squared=False)  # RMSE\n",
    "\n",
    "        return score\n",
    "\n",
    "    # estimate total trials\n",
    "    total = np.prod([len(v) for v in param_grid.values()])\n",
    "    print(f\"No. of trials scheduled: {total}\")\n",
    "    study.optimize(objective, n_trials=int(total))\n",
    "\n",
    "    best_params = study.best_params\n",
    "    print(\"Best parameters:\", best_params)\n",
    "\n",
    "    # train best model\n",
    "    Model = best_params[\"model_cls\"]\n",
    "    terms = get_terms(best_params[\"n_splines\"])\n",
    "    best_gam = Model(terms,\n",
    "                     lam=best_params[\"lam\"],\n",
    "                     max_iter=best_params[\"max_iter\"])\n",
    "    best_gam.fit(X_train, y_train)\n",
    "\n",
    "    # final predictions\n",
    "    y_train_pred = cross_val_predict(best_gam, X_train, y_train, cv=best_params[\"cv\"])\n",
    "    y_test_pred  = best_gam.predict(X_test)\n",
    "\n",
    "    # assemble log\n",
    "    entry = f\"gam_optuna_{Model.__name__}\"\n",
    "    log = {\n",
    "        \"estimator\":   deepcopy(best_gam),\n",
    "        \"best_params\": best_params,\n",
    "        \"fit_time_s\":  round(time.time() - start_time, 2)\n",
    "    }\n",
    "\n",
    "    if task == \"binary\":\n",
    "        log.update({\n",
    "            \"cfm_train\":    confusion_matrix(y_train, y_train_pred),\n",
    "            \"cfm_test\":     confusion_matrix(y_test,  y_test_pred),\n",
    "            \"train_accuracy\": accuracy_score(y_train, y_train_pred),\n",
    "            \"test_accuracy\":  accuracy_score(y_test,  y_test_pred),\n",
    "            \"test_roc_auc\":   roc_auc_score(y_test, best_gam.predict_mu(X_test))\n",
    "        })\n",
    "    else:\n",
    "        log.update({\n",
    "            \"rmse_test\": mean_squared_error(y_test, y_test_pred, squared=False),\n",
    "            \"mae_test\":  mean_absolute_error(y_test, y_test_pred),\n",
    "            \"r2_test\":   r2_score(y_test, y_test_pred)\n",
    "        })\n",
    "\n",
    "    results_dict[entry] = log\n",
    "    print(f\"\\n✓ Stored best GAM under '{entry}'\")\n",
    "\n",
    "    return best_params, results_dict"
   ]
  },
  {
   "cell_type": "code",
   "execution_count": null,
   "id": "ad054679",
   "metadata": {},
   "outputs": [],
   "source": [
    "best_params, results_dict = gam_optuna(param_grid, df, results_dict)"
   ]
  },
  {
   "cell_type": "code",
   "execution_count": null,
   "id": "eb3b2a19",
   "metadata": {},
   "outputs": [],
   "source": []
  }
 ],
 "metadata": {
  "kernelspec": {
   "display_name": "Python 3",
   "language": "python",
   "name": "python3"
  },
  "language_info": {
   "codemirror_mode": {
    "name": "ipython",
    "version": 3
   },
   "file_extension": ".py",
   "mimetype": "text/x-python",
   "name": "python",
   "nbconvert_exporter": "python",
   "pygments_lexer": "ipython3",
   "version": "3.12.11"
  }
 },
 "nbformat": 4,
 "nbformat_minor": 5
}
