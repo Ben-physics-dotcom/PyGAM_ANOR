{
 "cells": [
  {
   "cell_type": "code",
   "execution_count": 9,
   "id": "f7da0d81",
   "metadata": {},
   "outputs": [],
   "source": [
    "%run Imports.ipynb\n",
    "name = 'Kred'"
   ]
  },
  {
   "cell_type": "code",
   "execution_count": 10,
   "id": "23285593",
   "metadata": {},
   "outputs": [],
   "source": [
    "from pygam import LinearGAM, LogisticGAM, PoissonGAM, GammaGAM, s"
   ]
  },
  {
   "cell_type": "code",
   "execution_count": 11,
   "id": "dce73e26",
   "metadata": {},
   "outputs": [],
   "source": [
    "import time\n",
    "from copy import deepcopy\n",
    "from itertools import product\n",
    "\n",
    "from sklearn.model_selection import ParameterGrid, cross_val_predict\n",
    "from sklearn.metrics import (\n",
    "    confusion_matrix, accuracy_score, f1_score, roc_auc_score,\n",
    "    mean_squared_error, mean_absolute_error, r2_score\n",
    ")\n"
   ]
  },
  {
   "cell_type": "code",
   "execution_count": 12,
   "id": "36690586",
   "metadata": {},
   "outputs": [],
   "source": [
    "# -------------------------------------------------------------------------\n",
    "# 1. PARAM GRID  –  now also hosts `cv` and `verbose`\n",
    "# -------------------------------------------------------------------------\n",
    "param_grid = {\n",
    "    \"model_cls\": [LinearGAM, LogisticGAM, PoissonGAM, GammaGAM],\n",
    "    \"n_splines\": [406],          # constant but explicit\n",
    "    \"lam\":       [1, 10, 50, 60, 75, 85, 90, 100],\n",
    "    \"max_iter\":  [50, 100, 150, 200, 300, 400, 500],\n",
    "    \"cv\":        [5],            # ← here\n",
    "    \"verbose\":   [True],         # ← and here\n",
    "}"
   ]
  },
  {
   "cell_type": "markdown",
   "id": "50e7dbc4",
   "metadata": {},
   "source": [
    "# 1) Read in Files"
   ]
  },
  {
   "cell_type": "code",
   "execution_count": 13,
   "id": "ff639ca0",
   "metadata": {},
   "outputs": [
    {
     "ename": "KeyboardInterrupt",
     "evalue": "",
     "output_type": "error",
     "traceback": [
      "\u001b[31m---------------------------------------------------------------------------\u001b[39m",
      "\u001b[31mKeyboardInterrupt\u001b[39m                         Traceback (most recent call last)",
      "\u001b[36mCell\u001b[39m\u001b[36m \u001b[39m\u001b[32mIn[13]\u001b[39m\u001b[32m, line 2\u001b[39m\n\u001b[32m      1\u001b[39m key_featsubgroups = pd.read_json(\u001b[33m'\u001b[39m\u001b[33m../pickle/2_FS/\u001b[39m\u001b[33m'\u001b[39m + name + \u001b[33m'\u001b[39m\u001b[33m/key_featsubgroups.json\u001b[39m\u001b[33m'\u001b[39m, orient=\u001b[33m'\u001b[39m\u001b[33mrecords\u001b[39m\u001b[33m'\u001b[39m, lines=\u001b[38;5;28;01mTrue\u001b[39;00m)\n\u001b[32m----> \u001b[39m\u001b[32m2\u001b[39m df = \u001b[43mpd\u001b[49m\u001b[43m.\u001b[49m\u001b[43mread_json\u001b[49m\u001b[43m(\u001b[49m\u001b[33;43m'\u001b[39;49m\u001b[33;43m../pickle/2_FS/\u001b[39;49m\u001b[33;43m'\u001b[39;49m\u001b[43m \u001b[49m\u001b[43m+\u001b[49m\u001b[43m \u001b[49m\u001b[43mname\u001b[49m\u001b[43m \u001b[49m\u001b[43m+\u001b[49m\u001b[43m \u001b[49m\u001b[33;43m'\u001b[39;49m\u001b[33;43m/2_df_new_.json\u001b[39;49m\u001b[33;43m'\u001b[39;49m\u001b[43m,\u001b[49m\u001b[43m \u001b[49m\u001b[43morient\u001b[49m\u001b[43m=\u001b[49m\u001b[33;43m'\u001b[39;49m\u001b[33;43mrecords\u001b[39;49m\u001b[33;43m'\u001b[39;49m\u001b[43m,\u001b[49m\u001b[43m \u001b[49m\u001b[43mlines\u001b[49m\u001b[43m=\u001b[49m\u001b[38;5;28;43;01mTrue\u001b[39;49;00m\u001b[43m)\u001b[49m\n",
      "\u001b[36mFile \u001b[39m\u001b[32mc:\\Users\\benjf\\anaconda3\\envs\\gam\\Lib\\site-packages\\pandas\\io\\json\\_json.py:791\u001b[39m, in \u001b[36mread_json\u001b[39m\u001b[34m(path_or_buf, orient, typ, dtype, convert_axes, convert_dates, keep_default_dates, precise_float, date_unit, encoding, encoding_errors, lines, chunksize, compression, nrows, storage_options, dtype_backend, engine)\u001b[39m\n\u001b[32m    788\u001b[39m \u001b[38;5;28;01mif\u001b[39;00m convert_axes \u001b[38;5;129;01mis\u001b[39;00m \u001b[38;5;28;01mNone\u001b[39;00m \u001b[38;5;129;01mand\u001b[39;00m orient != \u001b[33m\"\u001b[39m\u001b[33mtable\u001b[39m\u001b[33m\"\u001b[39m:\n\u001b[32m    789\u001b[39m     convert_axes = \u001b[38;5;28;01mTrue\u001b[39;00m\n\u001b[32m--> \u001b[39m\u001b[32m791\u001b[39m json_reader = \u001b[43mJsonReader\u001b[49m\u001b[43m(\u001b[49m\n\u001b[32m    792\u001b[39m \u001b[43m    \u001b[49m\u001b[43mpath_or_buf\u001b[49m\u001b[43m,\u001b[49m\n\u001b[32m    793\u001b[39m \u001b[43m    \u001b[49m\u001b[43morient\u001b[49m\u001b[43m=\u001b[49m\u001b[43morient\u001b[49m\u001b[43m,\u001b[49m\n\u001b[32m    794\u001b[39m \u001b[43m    \u001b[49m\u001b[43mtyp\u001b[49m\u001b[43m=\u001b[49m\u001b[43mtyp\u001b[49m\u001b[43m,\u001b[49m\n\u001b[32m    795\u001b[39m \u001b[43m    \u001b[49m\u001b[43mdtype\u001b[49m\u001b[43m=\u001b[49m\u001b[43mdtype\u001b[49m\u001b[43m,\u001b[49m\n\u001b[32m    796\u001b[39m \u001b[43m    \u001b[49m\u001b[43mconvert_axes\u001b[49m\u001b[43m=\u001b[49m\u001b[43mconvert_axes\u001b[49m\u001b[43m,\u001b[49m\n\u001b[32m    797\u001b[39m \u001b[43m    \u001b[49m\u001b[43mconvert_dates\u001b[49m\u001b[43m=\u001b[49m\u001b[43mconvert_dates\u001b[49m\u001b[43m,\u001b[49m\n\u001b[32m    798\u001b[39m \u001b[43m    \u001b[49m\u001b[43mkeep_default_dates\u001b[49m\u001b[43m=\u001b[49m\u001b[43mkeep_default_dates\u001b[49m\u001b[43m,\u001b[49m\n\u001b[32m    799\u001b[39m \u001b[43m    \u001b[49m\u001b[43mprecise_float\u001b[49m\u001b[43m=\u001b[49m\u001b[43mprecise_float\u001b[49m\u001b[43m,\u001b[49m\n\u001b[32m    800\u001b[39m \u001b[43m    \u001b[49m\u001b[43mdate_unit\u001b[49m\u001b[43m=\u001b[49m\u001b[43mdate_unit\u001b[49m\u001b[43m,\u001b[49m\n\u001b[32m    801\u001b[39m \u001b[43m    \u001b[49m\u001b[43mencoding\u001b[49m\u001b[43m=\u001b[49m\u001b[43mencoding\u001b[49m\u001b[43m,\u001b[49m\n\u001b[32m    802\u001b[39m \u001b[43m    \u001b[49m\u001b[43mlines\u001b[49m\u001b[43m=\u001b[49m\u001b[43mlines\u001b[49m\u001b[43m,\u001b[49m\n\u001b[32m    803\u001b[39m \u001b[43m    \u001b[49m\u001b[43mchunksize\u001b[49m\u001b[43m=\u001b[49m\u001b[43mchunksize\u001b[49m\u001b[43m,\u001b[49m\n\u001b[32m    804\u001b[39m \u001b[43m    \u001b[49m\u001b[43mcompression\u001b[49m\u001b[43m=\u001b[49m\u001b[43mcompression\u001b[49m\u001b[43m,\u001b[49m\n\u001b[32m    805\u001b[39m \u001b[43m    \u001b[49m\u001b[43mnrows\u001b[49m\u001b[43m=\u001b[49m\u001b[43mnrows\u001b[49m\u001b[43m,\u001b[49m\n\u001b[32m    806\u001b[39m \u001b[43m    \u001b[49m\u001b[43mstorage_options\u001b[49m\u001b[43m=\u001b[49m\u001b[43mstorage_options\u001b[49m\u001b[43m,\u001b[49m\n\u001b[32m    807\u001b[39m \u001b[43m    \u001b[49m\u001b[43mencoding_errors\u001b[49m\u001b[43m=\u001b[49m\u001b[43mencoding_errors\u001b[49m\u001b[43m,\u001b[49m\n\u001b[32m    808\u001b[39m \u001b[43m    \u001b[49m\u001b[43mdtype_backend\u001b[49m\u001b[43m=\u001b[49m\u001b[43mdtype_backend\u001b[49m\u001b[43m,\u001b[49m\n\u001b[32m    809\u001b[39m \u001b[43m    \u001b[49m\u001b[43mengine\u001b[49m\u001b[43m=\u001b[49m\u001b[43mengine\u001b[49m\u001b[43m,\u001b[49m\n\u001b[32m    810\u001b[39m \u001b[43m\u001b[49m\u001b[43m)\u001b[49m\n\u001b[32m    812\u001b[39m \u001b[38;5;28;01mif\u001b[39;00m chunksize:\n\u001b[32m    813\u001b[39m     \u001b[38;5;28;01mreturn\u001b[39;00m json_reader\n",
      "\u001b[36mFile \u001b[39m\u001b[32mc:\\Users\\benjf\\anaconda3\\envs\\gam\\Lib\\site-packages\\pandas\\io\\json\\_json.py:905\u001b[39m, in \u001b[36mJsonReader.__init__\u001b[39m\u001b[34m(self, filepath_or_buffer, orient, typ, dtype, convert_axes, convert_dates, keep_default_dates, precise_float, date_unit, encoding, lines, chunksize, compression, nrows, storage_options, encoding_errors, dtype_backend, engine)\u001b[39m\n\u001b[32m    903\u001b[39m \u001b[38;5;28;01melif\u001b[39;00m \u001b[38;5;28mself\u001b[39m.engine == \u001b[33m\"\u001b[39m\u001b[33mujson\u001b[39m\u001b[33m\"\u001b[39m:\n\u001b[32m    904\u001b[39m     data = \u001b[38;5;28mself\u001b[39m._get_data_from_filepath(filepath_or_buffer)\n\u001b[32m--> \u001b[39m\u001b[32m905\u001b[39m     \u001b[38;5;28mself\u001b[39m.data = \u001b[38;5;28;43mself\u001b[39;49m\u001b[43m.\u001b[49m\u001b[43m_preprocess_data\u001b[49m\u001b[43m(\u001b[49m\u001b[43mdata\u001b[49m\u001b[43m)\u001b[49m\n",
      "\u001b[36mFile \u001b[39m\u001b[32mc:\\Users\\benjf\\anaconda3\\envs\\gam\\Lib\\site-packages\\pandas\\io\\json\\_json.py:916\u001b[39m, in \u001b[36mJsonReader._preprocess_data\u001b[39m\u001b[34m(self, data)\u001b[39m\n\u001b[32m    908\u001b[39m \u001b[38;5;250m\u001b[39m\u001b[33;03m\"\"\"\u001b[39;00m\n\u001b[32m    909\u001b[39m \u001b[33;03mAt this point, the data either has a `read` attribute (e.g. a file\u001b[39;00m\n\u001b[32m    910\u001b[39m \u001b[33;03mobject or a StringIO) or is a string that is a JSON document.\u001b[39;00m\n\u001b[32m   (...)\u001b[39m\u001b[32m    913\u001b[39m \u001b[33;03mOtherwise, we read it into memory for the `read` method.\u001b[39;00m\n\u001b[32m    914\u001b[39m \u001b[33;03m\"\"\"\u001b[39;00m\n\u001b[32m    915\u001b[39m \u001b[38;5;28;01mif\u001b[39;00m \u001b[38;5;28mhasattr\u001b[39m(data, \u001b[33m\"\u001b[39m\u001b[33mread\u001b[39m\u001b[33m\"\u001b[39m) \u001b[38;5;129;01mand\u001b[39;00m \u001b[38;5;129;01mnot\u001b[39;00m (\u001b[38;5;28mself\u001b[39m.chunksize \u001b[38;5;129;01mor\u001b[39;00m \u001b[38;5;28mself\u001b[39m.nrows):\n\u001b[32m--> \u001b[39m\u001b[32m916\u001b[39m \u001b[43m    \u001b[49m\u001b[38;5;28;43;01mwith\u001b[39;49;00m\u001b[43m \u001b[49m\u001b[38;5;28;43mself\u001b[39;49m\u001b[43m:\u001b[49m\n\u001b[32m    917\u001b[39m \u001b[43m        \u001b[49m\u001b[43mdata\u001b[49m\u001b[43m \u001b[49m\u001b[43m=\u001b[49m\u001b[43m \u001b[49m\u001b[43mdata\u001b[49m\u001b[43m.\u001b[49m\u001b[43mread\u001b[49m\u001b[43m(\u001b[49m\u001b[43m)\u001b[49m\n\u001b[32m    918\u001b[39m \u001b[38;5;28;01mif\u001b[39;00m \u001b[38;5;129;01mnot\u001b[39;00m \u001b[38;5;28mhasattr\u001b[39m(data, \u001b[33m\"\u001b[39m\u001b[33mread\u001b[39m\u001b[33m\"\u001b[39m) \u001b[38;5;129;01mand\u001b[39;00m (\u001b[38;5;28mself\u001b[39m.chunksize \u001b[38;5;129;01mor\u001b[39;00m \u001b[38;5;28mself\u001b[39m.nrows):\n",
      "\u001b[36mFile \u001b[39m\u001b[32mc:\\Users\\benjf\\anaconda3\\envs\\gam\\Lib\\site-packages\\pandas\\io\\json\\_json.py:1105\u001b[39m, in \u001b[36mJsonReader.__exit__\u001b[39m\u001b[34m(self, exc_type, exc_value, traceback)\u001b[39m\n\u001b[32m   1102\u001b[39m \u001b[38;5;28;01mdef\u001b[39;00m\u001b[38;5;250m \u001b[39m\u001b[34m__enter__\u001b[39m(\u001b[38;5;28mself\u001b[39m) -> Self:\n\u001b[32m   1103\u001b[39m     \u001b[38;5;28;01mreturn\u001b[39;00m \u001b[38;5;28mself\u001b[39m\n\u001b[32m-> \u001b[39m\u001b[32m1105\u001b[39m \u001b[38;5;28;01mdef\u001b[39;00m\u001b[38;5;250m \u001b[39m\u001b[34m__exit__\u001b[39m(\n\u001b[32m   1106\u001b[39m     \u001b[38;5;28mself\u001b[39m,\n\u001b[32m   1107\u001b[39m     exc_type: \u001b[38;5;28mtype\u001b[39m[\u001b[38;5;167;01mBaseException\u001b[39;00m] | \u001b[38;5;28;01mNone\u001b[39;00m,\n\u001b[32m   1108\u001b[39m     exc_value: \u001b[38;5;167;01mBaseException\u001b[39;00m | \u001b[38;5;28;01mNone\u001b[39;00m,\n\u001b[32m   1109\u001b[39m     traceback: TracebackType | \u001b[38;5;28;01mNone\u001b[39;00m,\n\u001b[32m   1110\u001b[39m ) -> \u001b[38;5;28;01mNone\u001b[39;00m:\n\u001b[32m   1111\u001b[39m     \u001b[38;5;28mself\u001b[39m.close()\n",
      "\u001b[31mKeyboardInterrupt\u001b[39m: "
     ]
    }
   ],
   "source": [
    "key_featsubgroups = pd.read_json('../pickle/2_FS/' + name + '/key_featsubgroups.json', orient='records', lines=True)\n",
    "df = pd.read_json('../pickle/2_FS/' + name + '/2_df_new_.json', orient='records', lines=True)"
   ]
  },
  {
   "cell_type": "code",
   "execution_count": 5,
   "id": "313b717e",
   "metadata": {},
   "outputs": [
    {
     "name": "stdout",
     "output_type": "stream",
     "text": [
      "arrears\n",
      "1   0.646\n",
      "0   0.354\n",
      "Name: count, dtype: float64\n",
      "df_shape:  (129457, 418)\n"
     ]
    }
   ],
   "source": [
    "print(df[target].value_counts()/df.shape[0])\n",
    "print('df_shape: ', df.shape)"
   ]
  },
  {
   "cell_type": "code",
   "execution_count": 14,
   "id": "fb8bebd7",
   "metadata": {},
   "outputs": [],
   "source": [
    "# 1️⃣  read the archive\n",
    "#     ─────────────────\n",
    "# * `allow_pickle=True` is **required** if any value in the original\n",
    "#   dictionary was not a pure NumPy array (e.g. a list, a Python object,\n",
    "#   a scalar, a scikit-learn model wrapped in an object array, …).\n",
    "npz = np.load(\"../pickle/4_Model_Optuna/results_dict_updated.npz\",\n",
    "              allow_pickle=True)\n",
    "\n",
    "# 2️⃣  turn it back into an ordinary Python dict\n",
    "#     ──────────────────────────────────────────\n",
    "# * Each entry in an .npz file is a NumPy array.\n",
    "# * If the array is 0-D (`shape == ()`) and has dtype=object,\n",
    "#   call `.item()` to extract the original Python object / scalar.\n",
    "results_dict = {\n",
    "    key: (arr.item()        # unwrap 0-D object array\n",
    "          if arr.shape == () and arr.dtype == object\n",
    "          else arr)         # leave normal arrays as-is\n",
    "    for key, arr in npz.items()\n",
    "}"
   ]
  },
  {
   "cell_type": "code",
   "execution_count": 15,
   "id": "999ee737",
   "metadata": {},
   "outputs": [
    {
     "data": {
      "text/plain": [
       "dict"
      ]
     },
     "execution_count": 15,
     "metadata": {},
     "output_type": "execute_result"
    }
   ],
   "source": [
    "type(results_dict)"
   ]
  },
  {
   "cell_type": "code",
   "execution_count": 16,
   "id": "cd3b003e",
   "metadata": {},
   "outputs": [
    {
     "ename": "AttributeError",
     "evalue": "'XGBModel' object has no attribute 'feature_weights'",
     "output_type": "error",
     "traceback": [
      "\u001b[31m---------------------------------------------------------------------------\u001b[39m",
      "\u001b[31mAttributeError\u001b[39m                            Traceback (most recent call last)",
      "\u001b[36mFile \u001b[39m\u001b[32mc:\\Users\\benjf\\anaconda3\\envs\\gam\\Lib\\site-packages\\IPython\\core\\formatters.py:770\u001b[39m, in \u001b[36mPlainTextFormatter.__call__\u001b[39m\u001b[34m(self, obj)\u001b[39m\n\u001b[32m    763\u001b[39m stream = StringIO()\n\u001b[32m    764\u001b[39m printer = pretty.RepresentationPrinter(stream, \u001b[38;5;28mself\u001b[39m.verbose,\n\u001b[32m    765\u001b[39m     \u001b[38;5;28mself\u001b[39m.max_width, \u001b[38;5;28mself\u001b[39m.newline,\n\u001b[32m    766\u001b[39m     max_seq_length=\u001b[38;5;28mself\u001b[39m.max_seq_length,\n\u001b[32m    767\u001b[39m     singleton_pprinters=\u001b[38;5;28mself\u001b[39m.singleton_printers,\n\u001b[32m    768\u001b[39m     type_pprinters=\u001b[38;5;28mself\u001b[39m.type_printers,\n\u001b[32m    769\u001b[39m     deferred_pprinters=\u001b[38;5;28mself\u001b[39m.deferred_printers)\n\u001b[32m--> \u001b[39m\u001b[32m770\u001b[39m \u001b[43mprinter\u001b[49m\u001b[43m.\u001b[49m\u001b[43mpretty\u001b[49m\u001b[43m(\u001b[49m\u001b[43mobj\u001b[49m\u001b[43m)\u001b[49m\n\u001b[32m    771\u001b[39m printer.flush()\n\u001b[32m    772\u001b[39m \u001b[38;5;28;01mreturn\u001b[39;00m stream.getvalue()\n",
      "\u001b[36mFile \u001b[39m\u001b[32mc:\\Users\\benjf\\anaconda3\\envs\\gam\\Lib\\site-packages\\IPython\\lib\\pretty.py:386\u001b[39m, in \u001b[36mRepresentationPrinter.pretty\u001b[39m\u001b[34m(self, obj)\u001b[39m\n\u001b[32m    383\u001b[39m \u001b[38;5;28;01mfor\u001b[39;00m \u001b[38;5;28mcls\u001b[39m \u001b[38;5;129;01min\u001b[39;00m _get_mro(obj_class):\n\u001b[32m    384\u001b[39m     \u001b[38;5;28;01mif\u001b[39;00m \u001b[38;5;28mcls\u001b[39m \u001b[38;5;129;01min\u001b[39;00m \u001b[38;5;28mself\u001b[39m.type_pprinters:\n\u001b[32m    385\u001b[39m         \u001b[38;5;66;03m# printer registered in self.type_pprinters\u001b[39;00m\n\u001b[32m--> \u001b[39m\u001b[32m386\u001b[39m         \u001b[38;5;28;01mreturn\u001b[39;00m \u001b[38;5;28;43mself\u001b[39;49m\u001b[43m.\u001b[49m\u001b[43mtype_pprinters\u001b[49m\u001b[43m[\u001b[49m\u001b[38;5;28;43mcls\u001b[39;49m\u001b[43m]\u001b[49m\u001b[43m(\u001b[49m\u001b[43mobj\u001b[49m\u001b[43m,\u001b[49m\u001b[43m \u001b[49m\u001b[38;5;28;43mself\u001b[39;49m\u001b[43m,\u001b[49m\u001b[43m \u001b[49m\u001b[43mcycle\u001b[49m\u001b[43m)\u001b[49m\n\u001b[32m    387\u001b[39m     \u001b[38;5;28;01melse\u001b[39;00m:\n\u001b[32m    388\u001b[39m         \u001b[38;5;66;03m# deferred printer\u001b[39;00m\n\u001b[32m    389\u001b[39m         printer = \u001b[38;5;28mself\u001b[39m._in_deferred_types(\u001b[38;5;28mcls\u001b[39m)\n",
      "\u001b[36mFile \u001b[39m\u001b[32mc:\\Users\\benjf\\anaconda3\\envs\\gam\\Lib\\site-packages\\IPython\\lib\\pretty.py:693\u001b[39m, in \u001b[36m_dict_pprinter_factory.<locals>.inner\u001b[39m\u001b[34m(obj, p, cycle)\u001b[39m\n\u001b[32m    691\u001b[39m     p.pretty(key)\n\u001b[32m    692\u001b[39m     p.text(\u001b[33m'\u001b[39m\u001b[33m: \u001b[39m\u001b[33m'\u001b[39m)\n\u001b[32m--> \u001b[39m\u001b[32m693\u001b[39m     \u001b[43mp\u001b[49m\u001b[43m.\u001b[49m\u001b[43mpretty\u001b[49m\u001b[43m(\u001b[49m\u001b[43mobj\u001b[49m\u001b[43m[\u001b[49m\u001b[43mkey\u001b[49m\u001b[43m]\u001b[49m\u001b[43m)\u001b[49m\n\u001b[32m    694\u001b[39m p.end_group(step, end)\n",
      "\u001b[36mFile \u001b[39m\u001b[32mc:\\Users\\benjf\\anaconda3\\envs\\gam\\Lib\\site-packages\\IPython\\lib\\pretty.py:386\u001b[39m, in \u001b[36mRepresentationPrinter.pretty\u001b[39m\u001b[34m(self, obj)\u001b[39m\n\u001b[32m    383\u001b[39m \u001b[38;5;28;01mfor\u001b[39;00m \u001b[38;5;28mcls\u001b[39m \u001b[38;5;129;01min\u001b[39;00m _get_mro(obj_class):\n\u001b[32m    384\u001b[39m     \u001b[38;5;28;01mif\u001b[39;00m \u001b[38;5;28mcls\u001b[39m \u001b[38;5;129;01min\u001b[39;00m \u001b[38;5;28mself\u001b[39m.type_pprinters:\n\u001b[32m    385\u001b[39m         \u001b[38;5;66;03m# printer registered in self.type_pprinters\u001b[39;00m\n\u001b[32m--> \u001b[39m\u001b[32m386\u001b[39m         \u001b[38;5;28;01mreturn\u001b[39;00m \u001b[38;5;28;43mself\u001b[39;49m\u001b[43m.\u001b[49m\u001b[43mtype_pprinters\u001b[49m\u001b[43m[\u001b[49m\u001b[38;5;28;43mcls\u001b[39;49m\u001b[43m]\u001b[49m\u001b[43m(\u001b[49m\u001b[43mobj\u001b[49m\u001b[43m,\u001b[49m\u001b[43m \u001b[49m\u001b[38;5;28;43mself\u001b[39;49m\u001b[43m,\u001b[49m\u001b[43m \u001b[49m\u001b[43mcycle\u001b[49m\u001b[43m)\u001b[49m\n\u001b[32m    387\u001b[39m     \u001b[38;5;28;01melse\u001b[39;00m:\n\u001b[32m    388\u001b[39m         \u001b[38;5;66;03m# deferred printer\u001b[39;00m\n\u001b[32m    389\u001b[39m         printer = \u001b[38;5;28mself\u001b[39m._in_deferred_types(\u001b[38;5;28mcls\u001b[39m)\n",
      "\u001b[36mFile \u001b[39m\u001b[32mc:\\Users\\benjf\\anaconda3\\envs\\gam\\Lib\\site-packages\\IPython\\lib\\pretty.py:693\u001b[39m, in \u001b[36m_dict_pprinter_factory.<locals>.inner\u001b[39m\u001b[34m(obj, p, cycle)\u001b[39m\n\u001b[32m    691\u001b[39m     p.pretty(key)\n\u001b[32m    692\u001b[39m     p.text(\u001b[33m'\u001b[39m\u001b[33m: \u001b[39m\u001b[33m'\u001b[39m)\n\u001b[32m--> \u001b[39m\u001b[32m693\u001b[39m     \u001b[43mp\u001b[49m\u001b[43m.\u001b[49m\u001b[43mpretty\u001b[49m\u001b[43m(\u001b[49m\u001b[43mobj\u001b[49m\u001b[43m[\u001b[49m\u001b[43mkey\u001b[49m\u001b[43m]\u001b[49m\u001b[43m)\u001b[49m\n\u001b[32m    694\u001b[39m p.end_group(step, end)\n",
      "\u001b[36mFile \u001b[39m\u001b[32mc:\\Users\\benjf\\anaconda3\\envs\\gam\\Lib\\site-packages\\IPython\\lib\\pretty.py:411\u001b[39m, in \u001b[36mRepresentationPrinter.pretty\u001b[39m\u001b[34m(self, obj)\u001b[39m\n\u001b[32m    400\u001b[39m                         \u001b[38;5;28;01mreturn\u001b[39;00m meth(obj, \u001b[38;5;28mself\u001b[39m, cycle)\n\u001b[32m    401\u001b[39m                 \u001b[38;5;28;01mif\u001b[39;00m (\n\u001b[32m    402\u001b[39m                     \u001b[38;5;28mcls\u001b[39m \u001b[38;5;129;01mis\u001b[39;00m \u001b[38;5;129;01mnot\u001b[39;00m \u001b[38;5;28mobject\u001b[39m\n\u001b[32m    403\u001b[39m                     \u001b[38;5;66;03m# check if cls defines __repr__\u001b[39;00m\n\u001b[32m   (...)\u001b[39m\u001b[32m    409\u001b[39m                     \u001b[38;5;129;01mand\u001b[39;00m \u001b[38;5;28mcallable\u001b[39m(_safe_getattr(\u001b[38;5;28mcls\u001b[39m, \u001b[33m\"\u001b[39m\u001b[33m__repr__\u001b[39m\u001b[33m\"\u001b[39m, \u001b[38;5;28;01mNone\u001b[39;00m))\n\u001b[32m    410\u001b[39m                 ):\n\u001b[32m--> \u001b[39m\u001b[32m411\u001b[39m                     \u001b[38;5;28;01mreturn\u001b[39;00m \u001b[43m_repr_pprint\u001b[49m\u001b[43m(\u001b[49m\u001b[43mobj\u001b[49m\u001b[43m,\u001b[49m\u001b[43m \u001b[49m\u001b[38;5;28;43mself\u001b[39;49m\u001b[43m,\u001b[49m\u001b[43m \u001b[49m\u001b[43mcycle\u001b[49m\u001b[43m)\u001b[49m\n\u001b[32m    413\u001b[39m     \u001b[38;5;28;01mreturn\u001b[39;00m _default_pprint(obj, \u001b[38;5;28mself\u001b[39m, cycle)\n\u001b[32m    414\u001b[39m \u001b[38;5;28;01mfinally\u001b[39;00m:\n",
      "\u001b[36mFile \u001b[39m\u001b[32mc:\\Users\\benjf\\anaconda3\\envs\\gam\\Lib\\site-packages\\IPython\\lib\\pretty.py:786\u001b[39m, in \u001b[36m_repr_pprint\u001b[39m\u001b[34m(obj, p, cycle)\u001b[39m\n\u001b[32m    784\u001b[39m \u001b[38;5;250m\u001b[39m\u001b[33;03m\"\"\"A pprint that just redirects to the normal repr function.\"\"\"\u001b[39;00m\n\u001b[32m    785\u001b[39m \u001b[38;5;66;03m# Find newlines and replace them with p.break_()\u001b[39;00m\n\u001b[32m--> \u001b[39m\u001b[32m786\u001b[39m output = \u001b[38;5;28;43mrepr\u001b[39;49m\u001b[43m(\u001b[49m\u001b[43mobj\u001b[49m\u001b[43m)\u001b[49m\n\u001b[32m    787\u001b[39m lines = output.splitlines()\n\u001b[32m    788\u001b[39m \u001b[38;5;28;01mwith\u001b[39;00m p.group():\n",
      "\u001b[36mFile \u001b[39m\u001b[32mc:\\Users\\benjf\\anaconda3\\envs\\gam\\Lib\\site-packages\\sklearn\\base.py:379\u001b[39m, in \u001b[36mBaseEstimator.__repr__\u001b[39m\u001b[34m(self, N_CHAR_MAX)\u001b[39m\n\u001b[32m    371\u001b[39m \u001b[38;5;66;03m# use ellipsis for sequences with a lot of elements\u001b[39;00m\n\u001b[32m    372\u001b[39m pp = _EstimatorPrettyPrinter(\n\u001b[32m    373\u001b[39m     compact=\u001b[38;5;28;01mTrue\u001b[39;00m,\n\u001b[32m    374\u001b[39m     indent=\u001b[32m1\u001b[39m,\n\u001b[32m    375\u001b[39m     indent_at_name=\u001b[38;5;28;01mTrue\u001b[39;00m,\n\u001b[32m    376\u001b[39m     n_max_elements_to_show=N_MAX_ELEMENTS_TO_SHOW,\n\u001b[32m    377\u001b[39m )\n\u001b[32m--> \u001b[39m\u001b[32m379\u001b[39m repr_ = \u001b[43mpp\u001b[49m\u001b[43m.\u001b[49m\u001b[43mpformat\u001b[49m\u001b[43m(\u001b[49m\u001b[38;5;28;43mself\u001b[39;49m\u001b[43m)\u001b[49m\n\u001b[32m    381\u001b[39m \u001b[38;5;66;03m# Use bruteforce ellipsis when there are a lot of non-blank characters\u001b[39;00m\n\u001b[32m    382\u001b[39m n_nonblank = \u001b[38;5;28mlen\u001b[39m(\u001b[33m\"\u001b[39m\u001b[33m\"\u001b[39m.join(repr_.split()))\n",
      "\u001b[36mFile \u001b[39m\u001b[32mc:\\Users\\benjf\\anaconda3\\envs\\gam\\Lib\\pprint.py:161\u001b[39m, in \u001b[36mPrettyPrinter.pformat\u001b[39m\u001b[34m(self, object)\u001b[39m\n\u001b[32m    159\u001b[39m \u001b[38;5;28;01mdef\u001b[39;00m\u001b[38;5;250m \u001b[39m\u001b[34mpformat\u001b[39m(\u001b[38;5;28mself\u001b[39m, \u001b[38;5;28mobject\u001b[39m):\n\u001b[32m    160\u001b[39m     sio = _StringIO()\n\u001b[32m--> \u001b[39m\u001b[32m161\u001b[39m     \u001b[38;5;28;43mself\u001b[39;49m\u001b[43m.\u001b[49m\u001b[43m_format\u001b[49m\u001b[43m(\u001b[49m\u001b[38;5;28;43mobject\u001b[39;49m\u001b[43m,\u001b[49m\u001b[43m \u001b[49m\u001b[43msio\u001b[49m\u001b[43m,\u001b[49m\u001b[43m \u001b[49m\u001b[32;43m0\u001b[39;49m\u001b[43m,\u001b[49m\u001b[43m \u001b[49m\u001b[32;43m0\u001b[39;49m\u001b[43m,\u001b[49m\u001b[43m \u001b[49m\u001b[43m{\u001b[49m\u001b[43m}\u001b[49m\u001b[43m,\u001b[49m\u001b[43m \u001b[49m\u001b[32;43m0\u001b[39;49m\u001b[43m)\u001b[49m\n\u001b[32m    162\u001b[39m     \u001b[38;5;28;01mreturn\u001b[39;00m sio.getvalue()\n",
      "\u001b[36mFile \u001b[39m\u001b[32mc:\\Users\\benjf\\anaconda3\\envs\\gam\\Lib\\pprint.py:178\u001b[39m, in \u001b[36mPrettyPrinter._format\u001b[39m\u001b[34m(self, object, stream, indent, allowance, context, level)\u001b[39m\n\u001b[32m    176\u001b[39m     \u001b[38;5;28mself\u001b[39m._readable = \u001b[38;5;28;01mFalse\u001b[39;00m\n\u001b[32m    177\u001b[39m     \u001b[38;5;28;01mreturn\u001b[39;00m\n\u001b[32m--> \u001b[39m\u001b[32m178\u001b[39m rep = \u001b[38;5;28;43mself\u001b[39;49m\u001b[43m.\u001b[49m\u001b[43m_repr\u001b[49m\u001b[43m(\u001b[49m\u001b[38;5;28;43mobject\u001b[39;49m\u001b[43m,\u001b[49m\u001b[43m \u001b[49m\u001b[43mcontext\u001b[49m\u001b[43m,\u001b[49m\u001b[43m \u001b[49m\u001b[43mlevel\u001b[49m\u001b[43m)\u001b[49m\n\u001b[32m    179\u001b[39m max_width = \u001b[38;5;28mself\u001b[39m._width - indent - allowance\n\u001b[32m    180\u001b[39m \u001b[38;5;28;01mif\u001b[39;00m \u001b[38;5;28mlen\u001b[39m(rep) > max_width:\n",
      "\u001b[36mFile \u001b[39m\u001b[32mc:\\Users\\benjf\\anaconda3\\envs\\gam\\Lib\\pprint.py:458\u001b[39m, in \u001b[36mPrettyPrinter._repr\u001b[39m\u001b[34m(self, object, context, level)\u001b[39m\n\u001b[32m    457\u001b[39m \u001b[38;5;28;01mdef\u001b[39;00m\u001b[38;5;250m \u001b[39m\u001b[34m_repr\u001b[39m(\u001b[38;5;28mself\u001b[39m, \u001b[38;5;28mobject\u001b[39m, context, level):\n\u001b[32m--> \u001b[39m\u001b[32m458\u001b[39m     \u001b[38;5;28mrepr\u001b[39m, readable, recursive = \u001b[38;5;28;43mself\u001b[39;49m\u001b[43m.\u001b[49m\u001b[43mformat\u001b[49m\u001b[43m(\u001b[49m\u001b[38;5;28;43mobject\u001b[39;49m\u001b[43m,\u001b[49m\u001b[43m \u001b[49m\u001b[43mcontext\u001b[49m\u001b[43m.\u001b[49m\u001b[43mcopy\u001b[49m\u001b[43m(\u001b[49m\u001b[43m)\u001b[49m\u001b[43m,\u001b[49m\n\u001b[32m    459\u001b[39m \u001b[43m                                            \u001b[49m\u001b[38;5;28;43mself\u001b[39;49m\u001b[43m.\u001b[49m\u001b[43m_depth\u001b[49m\u001b[43m,\u001b[49m\u001b[43m \u001b[49m\u001b[43mlevel\u001b[49m\u001b[43m)\u001b[49m\n\u001b[32m    460\u001b[39m     \u001b[38;5;28;01mif\u001b[39;00m \u001b[38;5;129;01mnot\u001b[39;00m readable:\n\u001b[32m    461\u001b[39m         \u001b[38;5;28mself\u001b[39m._readable = \u001b[38;5;28;01mFalse\u001b[39;00m\n",
      "\u001b[36mFile \u001b[39m\u001b[32mc:\\Users\\benjf\\anaconda3\\envs\\gam\\Lib\\site-packages\\sklearn\\utils\\_pprint.py:191\u001b[39m, in \u001b[36m_EstimatorPrettyPrinter.format\u001b[39m\u001b[34m(self, object, context, maxlevels, level)\u001b[39m\n\u001b[32m    190\u001b[39m \u001b[38;5;28;01mdef\u001b[39;00m\u001b[38;5;250m \u001b[39m\u001b[34mformat\u001b[39m(\u001b[38;5;28mself\u001b[39m, \u001b[38;5;28mobject\u001b[39m, context, maxlevels, level):\n\u001b[32m--> \u001b[39m\u001b[32m191\u001b[39m     \u001b[38;5;28;01mreturn\u001b[39;00m \u001b[43m_safe_repr\u001b[49m\u001b[43m(\u001b[49m\n\u001b[32m    192\u001b[39m \u001b[43m        \u001b[49m\u001b[38;5;28;43mobject\u001b[39;49m\u001b[43m,\u001b[49m\u001b[43m \u001b[49m\u001b[43mcontext\u001b[49m\u001b[43m,\u001b[49m\u001b[43m \u001b[49m\u001b[43mmaxlevels\u001b[49m\u001b[43m,\u001b[49m\u001b[43m \u001b[49m\u001b[43mlevel\u001b[49m\u001b[43m,\u001b[49m\u001b[43m \u001b[49m\u001b[43mchanged_only\u001b[49m\u001b[43m=\u001b[49m\u001b[38;5;28;43mself\u001b[39;49m\u001b[43m.\u001b[49m\u001b[43m_changed_only\u001b[49m\n\u001b[32m    193\u001b[39m \u001b[43m    \u001b[49m\u001b[43m)\u001b[49m\n",
      "\u001b[36mFile \u001b[39m\u001b[32mc:\\Users\\benjf\\anaconda3\\envs\\gam\\Lib\\site-packages\\sklearn\\utils\\_pprint.py:452\u001b[39m, in \u001b[36m_safe_repr\u001b[39m\u001b[34m(object, context, maxlevels, level, changed_only)\u001b[39m\n\u001b[32m    448\u001b[39m \u001b[38;5;28;01mfor\u001b[39;00m k, v \u001b[38;5;129;01min\u001b[39;00m items:\n\u001b[32m    449\u001b[39m     krepr, kreadable, krecur = saferepr(\n\u001b[32m    450\u001b[39m         k, context, maxlevels, level, changed_only=changed_only\n\u001b[32m    451\u001b[39m     )\n\u001b[32m--> \u001b[39m\u001b[32m452\u001b[39m     vrepr, vreadable, vrecur = \u001b[43msaferepr\u001b[49m\u001b[43m(\u001b[49m\n\u001b[32m    453\u001b[39m \u001b[43m        \u001b[49m\u001b[43mv\u001b[49m\u001b[43m,\u001b[49m\u001b[43m \u001b[49m\u001b[43mcontext\u001b[49m\u001b[43m,\u001b[49m\u001b[43m \u001b[49m\u001b[43mmaxlevels\u001b[49m\u001b[43m,\u001b[49m\u001b[43m \u001b[49m\u001b[43mlevel\u001b[49m\u001b[43m,\u001b[49m\u001b[43m \u001b[49m\u001b[43mchanged_only\u001b[49m\u001b[43m=\u001b[49m\u001b[43mchanged_only\u001b[49m\n\u001b[32m    454\u001b[39m \u001b[43m    \u001b[49m\u001b[43m)\u001b[49m\n\u001b[32m    455\u001b[39m     append(\u001b[33m\"\u001b[39m\u001b[38;5;132;01m%s\u001b[39;00m\u001b[33m=\u001b[39m\u001b[38;5;132;01m%s\u001b[39;00m\u001b[33m\"\u001b[39m % (krepr.strip(\u001b[33m\"\u001b[39m\u001b[33m'\u001b[39m\u001b[33m\"\u001b[39m), vrepr))\n\u001b[32m    456\u001b[39m     readable = readable \u001b[38;5;129;01mand\u001b[39;00m kreadable \u001b[38;5;129;01mand\u001b[39;00m vreadable\n",
      "\u001b[36mFile \u001b[39m\u001b[32mc:\\Users\\benjf\\anaconda3\\envs\\gam\\Lib\\site-packages\\sklearn\\utils\\_pprint.py:440\u001b[39m, in \u001b[36m_safe_repr\u001b[39m\u001b[34m(object, context, maxlevels, level, changed_only)\u001b[39m\n\u001b[32m    438\u001b[39m recursive = \u001b[38;5;28;01mFalse\u001b[39;00m\n\u001b[32m    439\u001b[39m \u001b[38;5;28;01mif\u001b[39;00m changed_only:\n\u001b[32m--> \u001b[39m\u001b[32m440\u001b[39m     params = \u001b[43m_changed_params\u001b[49m\u001b[43m(\u001b[49m\u001b[38;5;28;43mobject\u001b[39;49m\u001b[43m)\u001b[49m\n\u001b[32m    441\u001b[39m \u001b[38;5;28;01melse\u001b[39;00m:\n\u001b[32m    442\u001b[39m     params = \u001b[38;5;28mobject\u001b[39m.get_params(deep=\u001b[38;5;28;01mFalse\u001b[39;00m)\n",
      "\u001b[36mFile \u001b[39m\u001b[32mc:\\Users\\benjf\\anaconda3\\envs\\gam\\Lib\\site-packages\\sklearn\\utils\\_pprint.py:95\u001b[39m, in \u001b[36m_changed_params\u001b[39m\u001b[34m(estimator)\u001b[39m\n\u001b[32m     91\u001b[39m \u001b[38;5;28;01mdef\u001b[39;00m\u001b[38;5;250m \u001b[39m\u001b[34m_changed_params\u001b[39m(estimator):\n\u001b[32m     92\u001b[39m \u001b[38;5;250m    \u001b[39m\u001b[33;03m\"\"\"Return dict (param_name: value) of parameters that were given to\u001b[39;00m\n\u001b[32m     93\u001b[39m \u001b[33;03m    estimator with non-default values.\"\"\"\u001b[39;00m\n\u001b[32m---> \u001b[39m\u001b[32m95\u001b[39m     params = \u001b[43mestimator\u001b[49m\u001b[43m.\u001b[49m\u001b[43mget_params\u001b[49m\u001b[43m(\u001b[49m\u001b[43mdeep\u001b[49m\u001b[43m=\u001b[49m\u001b[38;5;28;43;01mFalse\u001b[39;49;00m\u001b[43m)\u001b[49m\n\u001b[32m     96\u001b[39m     init_func = \u001b[38;5;28mgetattr\u001b[39m(estimator.\u001b[34m__init__\u001b[39m, \u001b[33m\"\u001b[39m\u001b[33mdeprecated_original\u001b[39m\u001b[33m\"\u001b[39m, estimator.\u001b[34m__init__\u001b[39m)\n\u001b[32m     97\u001b[39m     init_params = inspect.signature(init_func).parameters\n",
      "\u001b[36mFile \u001b[39m\u001b[32mc:\\Users\\benjf\\anaconda3\\envs\\gam\\Lib\\site-packages\\xgboost\\sklearn.py:982\u001b[39m, in \u001b[36mXGBModel.get_params\u001b[39m\u001b[34m(self, deep)\u001b[39m\n\u001b[32m    978\u001b[39m \u001b[38;5;66;03m# Otherwise, skip it and assume the next class will have it.\u001b[39;00m\n\u001b[32m    979\u001b[39m \u001b[38;5;66;03m# This is here primarily for cases where the first class in MRO is a scikit-learn mixin.\u001b[39;00m\n\u001b[32m    980\u001b[39m \u001b[38;5;28;01melse\u001b[39;00m:\n\u001b[32m    981\u001b[39m     cp.\u001b[34m__class__\u001b[39m = cp.\u001b[34m__class__\u001b[39m.\u001b[34m__bases__\u001b[39m[\u001b[32m1\u001b[39m]\n\u001b[32m--> \u001b[39m\u001b[32m982\u001b[39m params.update(\u001b[43mcp\u001b[49m\u001b[43m.\u001b[49m\u001b[34;43m__class__\u001b[39;49m\u001b[43m.\u001b[49m\u001b[43mget_params\u001b[49m\u001b[43m(\u001b[49m\u001b[43mcp\u001b[49m\u001b[43m,\u001b[49m\u001b[43m \u001b[49m\u001b[43mdeep\u001b[49m\u001b[43m)\u001b[49m)\n\u001b[32m    983\u001b[39m \u001b[38;5;66;03m# if kwargs is a dict, update params accordingly\u001b[39;00m\n\u001b[32m    984\u001b[39m \u001b[38;5;28;01mif\u001b[39;00m \u001b[38;5;28mhasattr\u001b[39m(\u001b[38;5;28mself\u001b[39m, \u001b[33m\"\u001b[39m\u001b[33mkwargs\u001b[39m\u001b[33m\"\u001b[39m) \u001b[38;5;129;01mand\u001b[39;00m \u001b[38;5;28misinstance\u001b[39m(\u001b[38;5;28mself\u001b[39m.kwargs, \u001b[38;5;28mdict\u001b[39m):\n",
      "\u001b[36mFile \u001b[39m\u001b[32mc:\\Users\\benjf\\anaconda3\\envs\\gam\\Lib\\site-packages\\xgboost\\sklearn.py:973\u001b[39m, in \u001b[36mXGBModel.get_params\u001b[39m\u001b[34m(self, deep)\u001b[39m\n\u001b[32m    958\u001b[39m \u001b[38;5;250m\u001b[39m\u001b[33;03m\"\"\"Get parameters.\"\"\"\u001b[39;00m\n\u001b[32m    959\u001b[39m \u001b[38;5;66;03m# Based on: https://stackoverflow.com/questions/59248211\u001b[39;00m\n\u001b[32m    960\u001b[39m \u001b[38;5;66;03m# The basic flow in `get_params` is:\u001b[39;00m\n\u001b[32m    961\u001b[39m \u001b[38;5;66;03m# 0. Return parameters in subclass (self.__class__) first, by using inspect.\u001b[39;00m\n\u001b[32m   (...)\u001b[39m\u001b[32m    971\u001b[39m \u001b[38;5;66;03m#                                     XGBModel -> BaseEstimator\u001b[39;00m\n\u001b[32m    972\u001b[39m \u001b[38;5;66;03m#\u001b[39;00m\n\u001b[32m--> \u001b[39m\u001b[32m973\u001b[39m params = \u001b[38;5;28;43msuper\u001b[39;49m\u001b[43m(\u001b[49m\u001b[43m)\u001b[49m\u001b[43m.\u001b[49m\u001b[43mget_params\u001b[49m\u001b[43m(\u001b[49m\u001b[43mdeep\u001b[49m\u001b[43m)\u001b[49m\n\u001b[32m    974\u001b[39m cp = copy.copy(\u001b[38;5;28mself\u001b[39m)\n\u001b[32m    975\u001b[39m \u001b[38;5;66;03m# If the immediate parent defines get_params(), use that.\u001b[39;00m\n",
      "\u001b[36mFile \u001b[39m\u001b[32mc:\\Users\\benjf\\anaconda3\\envs\\gam\\Lib\\site-packages\\sklearn\\base.py:250\u001b[39m, in \u001b[36mBaseEstimator.get_params\u001b[39m\u001b[34m(self, deep)\u001b[39m\n\u001b[32m    248\u001b[39m out = \u001b[38;5;28mdict\u001b[39m()\n\u001b[32m    249\u001b[39m \u001b[38;5;28;01mfor\u001b[39;00m key \u001b[38;5;129;01min\u001b[39;00m \u001b[38;5;28mself\u001b[39m._get_param_names():\n\u001b[32m--> \u001b[39m\u001b[32m250\u001b[39m     value = \u001b[38;5;28;43mgetattr\u001b[39;49m\u001b[43m(\u001b[49m\u001b[38;5;28;43mself\u001b[39;49m\u001b[43m,\u001b[49m\u001b[43m \u001b[49m\u001b[43mkey\u001b[49m\u001b[43m)\u001b[49m\n\u001b[32m    251\u001b[39m     \u001b[38;5;28;01mif\u001b[39;00m deep \u001b[38;5;129;01mand\u001b[39;00m \u001b[38;5;28mhasattr\u001b[39m(value, \u001b[33m\"\u001b[39m\u001b[33mget_params\u001b[39m\u001b[33m\"\u001b[39m) \u001b[38;5;129;01mand\u001b[39;00m \u001b[38;5;129;01mnot\u001b[39;00m \u001b[38;5;28misinstance\u001b[39m(value, \u001b[38;5;28mtype\u001b[39m):\n\u001b[32m    252\u001b[39m         deep_items = value.get_params().items()\n",
      "\u001b[31mAttributeError\u001b[39m: 'XGBModel' object has no attribute 'feature_weights'"
     ]
    }
   ],
   "source": [
    "results_dict"
   ]
  },
  {
   "cell_type": "markdown",
   "id": "ee6e1bb1",
   "metadata": {},
   "source": [
    "# 2) Create Model prediction functions"
   ]
  },
  {
   "cell_type": "markdown",
   "id": "68e2cdce",
   "metadata": {},
   "source": [
    "## 2.1) Split dataset into train/testing while excluding demographic features"
   ]
  },
  {
   "cell_type": "code",
   "execution_count": null,
   "id": "485d78d4",
   "metadata": {},
   "outputs": [],
   "source": [
    "def split_data_4(df, key_featsubgroups=key_featsubgroups, target=target, test_size=0.2, random_state=42):\n",
    "    \"\"\"\n",
    "    Splits the dataset into training and testing sets while excluding demographic features.\n",
    "\n",
    "    Parameters:\n",
    "    df (DataFrame): The dataset containing features and target variable.\n",
    "    key_featsubgroups (DataFrame): A mapping of feature subgroups.\n",
    "    target (str): The name of the target variable.\n",
    "    test_size (float, optional): The proportion of the dataset to allocate for testing. Default is 0.2.\n",
    "    random_state (int, optional): Random seed for reproducibility. Default is 42.\n",
    "\n",
    "    Returns:\n",
    "    tuple: X_train, X_test, y_train, y_test (training and testing datasets)\n",
    "    \"\"\"\n",
    "\n",
    "    # Extract demographic features\n",
    "    demo_feat = key_featsubgroups.loc[key_featsubgroups['subgroup'] == 'demo', 'list_features'].values[0]\n",
    "    print(\"Demographic Features:\", demo_feat)\n",
    "\n",
    "    # Separate features (X) and target variable (y), excluding demographic features\n",
    "    X = df.drop(columns=[target] + demo_feat)\n",
    "    y = df[target]\n",
    "\n",
    "    # Split the dataset into training (80%) and testing (20%) sets\n",
    "    X_train, X_test, y_train, y_test = train_test_split(\n",
    "        X, y, test_size=test_size, random_state=random_state\n",
    "    )\n",
    "\n",
    "    # Print dataset shapes\n",
    "    print(f\"Training Features Shape: {X_train.shape}\")\n",
    "    print(f\"Training Labels Shape: {y_train.shape}\")\n",
    "    print(f\"Testing Features Shape: {X_test.shape}\")\n",
    "    print(f\"Testing Labels Shape: {y_test.shape}\")\n",
    "\n",
    "    return X_train, X_test, y_train, y_test"
   ]
  },
  {
   "cell_type": "markdown",
   "id": "daded45c",
   "metadata": {},
   "source": [
    "## 2.2) Model Training and prediction"
   ]
  },
  {
   "cell_type": "code",
   "execution_count": null,
   "id": "bfe58de6",
   "metadata": {},
   "outputs": [],
   "source": [
    "# -------------------------------------------------------------------------\n",
    "# 2. helper: detect regression vs. binary classification\n",
    "# -------------------------------------------------------------------------\n",
    "def _problem_type(y):\n",
    "    u = np.unique(y)\n",
    "    return \"binary\" if len(u) == 2 and u.dtype.kind in \"ifu\" else \"regression\"\n",
    "\n",
    "# -------------------------------------------------------------------------\n",
    "# 3. MAIN FUNCTION\n",
    "# -------------------------------------------------------------------------\n",
    "def gam(param_grid: dict, df, results_dict):\n",
    "    \"\"\"\n",
    "    Exhaustive grid-search over GAM variants.\n",
    "    `cv` and `verbose` are treated like any other hyper-parameter and\n",
    "    must live in `param_grid`.\n",
    "    Returns\n",
    "    -------\n",
    "    best_params : dict\n",
    "    results_dict : dict   (updated in place)\n",
    "    \"\"\"\n",
    "    X_train, X_test, y_train, y_test = split_data_4(df)   # your own splitter\n",
    "    task = _problem_type(y_train)\n",
    "    n_features = X_train.shape[1]\n",
    "\n",
    "    # cache the 406-spline term list once\n",
    "    term_cache = {406: sum(s(i, n_splines=406) for i in range(n_features))}\n",
    "\n",
    "    best_score  = -np.inf if task == \"binary\" else np.inf\n",
    "    best_params = None\n",
    "    best_model  = None\n",
    "    t0 = time.time()\n",
    "\n",
    "    for params in ParameterGrid(param_grid):\n",
    "        model_cls = params[\"model_cls\"]\n",
    "        cv        = params[\"cv\"]\n",
    "        verbose   = params[\"verbose\"]\n",
    "\n",
    "        # skip incompatible combos\n",
    "        if task == \"binary\" and model_cls is not LogisticGAM:\n",
    "            continue\n",
    "        if task == \"regression\" and model_cls is LogisticGAM:\n",
    "            continue\n",
    "\n",
    "        model = model_cls(\n",
    "            term_cache[params[\"n_splines\"]],\n",
    "            lam=params[\"lam\"],\n",
    "            max_iter=params[\"max_iter\"]\n",
    "        )\n",
    "\n",
    "        if verbose:\n",
    "            print(f\"[GAM] {model_cls.__name__} | lam={params['lam']} \"\n",
    "                  f\"| max_iter={params['max_iter']} | cv={cv}\")\n",
    "\n",
    "        model.fit(X_train, y_train)\n",
    "        y_pred_cv   = cross_val_predict(model, X_train, y_train, cv=cv)\n",
    "        y_pred_test = model.predict(X_test)\n",
    "\n",
    "        if task == \"binary\":\n",
    "            score = roc_auc_score(y_test, model.predict_mu(X_test))\n",
    "        else:\n",
    "            score = mean_squared_error(y_test, y_pred_test, squared=False)\n",
    "\n",
    "        is_better = score > best_score if task == \"binary\" else score < best_score\n",
    "        if is_better:\n",
    "            best_score, best_params = score, deepcopy(params)\n",
    "            best_model = deepcopy(model)\n",
    "            if verbose:\n",
    "                tag = \"ROC-AUC\" if task == \"binary\" else \"RMSE\"\n",
    "                print(f\" → new best ({tag}={score:.4f})\")\n",
    "\n",
    "    # ----------------- final evaluation & logging -----------------\n",
    "    best_model.fit(X_train, y_train)\n",
    "    y_train_pred = cross_val_predict(best_model, X_train, y_train,\n",
    "                                     cv=best_params[\"cv\"])\n",
    "    y_test_pred  = best_model.predict(X_test)\n",
    "\n",
    "    entry_key = f\"gam_best_{best_model.__class__.__name__}\"\n",
    "    log = {\n",
    "        \"estimator\": deepcopy(best_model),\n",
    "        \"best_params\": best_params,\n",
    "        \"fit_time_s\": round(time.time() - t0, 2),\n",
    "    }\n",
    "\n",
    "    if task == \"binary\":\n",
    "        log.update({\n",
    "            \"cfm_train\": confusion_matrix(y_train, y_train_pred),\n",
    "            \"cfm_test\":  confusion_matrix(y_test,  y_test_pred),\n",
    "            \"train_accuracy\": accuracy_score(y_train, y_train_pred),\n",
    "            \"test_accuracy\":  accuracy_score(y_test,  y_test_pred),\n",
    "            \"test_roc_auc\":   roc_auc_score(y_test, best_model.predict_mu(X_test)),\n",
    "        })\n",
    "    else:\n",
    "        log.update({\n",
    "            \"rmse_test\": mean_squared_error(y_test, y_test_pred, squared=False),\n",
    "            \"mae_test\":  mean_absolute_error(y_test, y_test_pred),\n",
    "            \"r2_test\":   r2_score(y_test, y_test_pred),\n",
    "        })\n",
    "\n",
    "    results_dict[entry_key] = log\n",
    "\n",
    "    if best_params[\"verbose\"]:\n",
    "        metric = \"ROC-AUC\" if task == \"binary\" else \"RMSE\"\n",
    "        print(f\"\\n✓ Stored best GAM under '{entry_key}' \"\n",
    "              f\"({metric}={best_score:.4f}, \"\n",
    "              f\"time={log['fit_time_s']:.1f}s)\")\n",
    "\n",
    "    return best_params, results_dict"
   ]
  },
  {
   "cell_type": "markdown",
   "id": "069ce1d3",
   "metadata": {},
   "source": [
    "# 6) Run GAM"
   ]
  },
  {
   "cell_type": "code",
   "execution_count": null,
   "id": "e9c2bd52",
   "metadata": {},
   "outputs": [],
   "source": [
    "best_params, results_dict = gam(param_grid, df, {})"
   ]
  }
 ],
 "metadata": {
  "kernelspec": {
   "display_name": "gam",
   "language": "python",
   "name": "python3"
  },
  "language_info": {
   "codemirror_mode": {
    "name": "ipython",
    "version": 3
   },
   "file_extension": ".py",
   "mimetype": "text/x-python",
   "name": "python",
   "nbconvert_exporter": "python",
   "pygments_lexer": "ipython3",
   "version": "3.12.11"
  }
 },
 "nbformat": 4,
 "nbformat_minor": 5
}
