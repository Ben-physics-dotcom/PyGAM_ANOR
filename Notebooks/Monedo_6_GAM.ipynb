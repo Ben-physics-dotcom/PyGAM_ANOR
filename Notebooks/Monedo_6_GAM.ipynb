{
 "cells": [
  {
   "cell_type": "code",
   "execution_count": 19,
   "id": "f7da0d81",
   "metadata": {},
   "outputs": [],
   "source": [
    "%run Imports.ipynb\n",
    "name = 'Kred'"
   ]
  },
  {
   "cell_type": "code",
   "execution_count": 20,
   "id": "23285593",
   "metadata": {},
   "outputs": [],
   "source": [
    "from pygam import LinearGAM, LogisticGAM, PoissonGAM, GammaGAM, s"
   ]
  },
  {
   "cell_type": "code",
   "execution_count": 21,
   "id": "dce73e26",
   "metadata": {},
   "outputs": [],
   "source": [
    "import time\n",
    "from copy import deepcopy\n",
    "from sklearn.model_selection import cross_val_predict\n",
    "from sklearn.metrics import confusion_matrix, accuracy_score, f1_score, roc_auc_score\n"
   ]
  },
  {
   "cell_type": "markdown",
   "id": "50e7dbc4",
   "metadata": {},
   "source": [
    "# 1) Read in Files"
   ]
  },
  {
   "cell_type": "code",
   "execution_count": 22,
   "id": "e16387be",
   "metadata": {},
   "outputs": [],
   "source": [
    "string = '../pickl'"
   ]
  },
  {
   "cell_type": "code",
   "execution_count": 23,
   "id": "ab27d4c9",
   "metadata": {},
   "outputs": [
    {
     "data": {
      "text/plain": [
       "str"
      ]
     },
     "execution_count": 23,
     "metadata": {},
     "output_type": "execute_result"
    }
   ],
   "source": [
    "type(name)"
   ]
  },
  {
   "cell_type": "code",
   "execution_count": 24,
   "id": "ee18b1f0",
   "metadata": {},
   "outputs": [],
   "source": [
    "key_featsubgroups = pd.read_pickle('../pickle/2_FS/' + name + '/key_featsubgroups.pkl')\n",
    "df = pd.read_pickle('../pickle/2_FS/' + name + '/2_df_new_.pkl')"
   ]
  },
  {
   "cell_type": "code",
   "execution_count": 25,
   "id": "313b717e",
   "metadata": {},
   "outputs": [
    {
     "name": "stdout",
     "output_type": "stream",
     "text": [
      "arrears\n",
      "1   0.646\n",
      "0   0.354\n",
      "Name: count, dtype: float64\n",
      "df_shape:  (129457, 418)\n"
     ]
    }
   ],
   "source": [
    "print(df[target].value_counts()/df.shape[0])\n",
    "print('df_shape: ', df.shape)"
   ]
  },
  {
   "cell_type": "code",
   "execution_count": 26,
   "id": "aca7609d",
   "metadata": {},
   "outputs": [
    {
     "ename": "ModuleNotFoundError",
     "evalue": "No module named 'numpy._core.numeric'",
     "output_type": "error",
     "traceback": [
      "\u001b[0;31m---------------------------------------------------------------------------\u001b[0m",
      "\u001b[0;31mModuleNotFoundError\u001b[0m                       Traceback (most recent call last)",
      "Cell \u001b[0;32mIn[26], line 2\u001b[0m\n\u001b[1;32m      1\u001b[0m \u001b[38;5;28;01mwith\u001b[39;00m \u001b[38;5;28mopen\u001b[39m(\u001b[38;5;124m'\u001b[39m\u001b[38;5;124m../pickle/4_Model_Optuna/results_dict_updated.pkl\u001b[39m\u001b[38;5;124m'\u001b[39m, \u001b[38;5;124m'\u001b[39m\u001b[38;5;124mrb\u001b[39m\u001b[38;5;124m'\u001b[39m) \u001b[38;5;28;01mas\u001b[39;00m f:\n\u001b[0;32m----> 2\u001b[0m     results_dict \u001b[38;5;241m=\u001b[39m \u001b[43mpickle\u001b[49m\u001b[38;5;241;43m.\u001b[39;49m\u001b[43mload\u001b[49m\u001b[43m(\u001b[49m\u001b[43mf\u001b[49m\u001b[43m)\u001b[49m\n",
      "\u001b[0;31mModuleNotFoundError\u001b[0m: No module named 'numpy._core.numeric'"
     ]
    }
   ],
   "source": [
    "with open('../pickle/4_Model_Optuna/results_dict_updated.pkl', 'rb') as f:\n",
    "    results_dict = pickle.load(f)"
   ]
  },
  {
   "cell_type": "markdown",
   "id": "ee6e1bb1",
   "metadata": {},
   "source": [
    "# 2) Create Model prediction functions"
   ]
  },
  {
   "cell_type": "markdown",
   "id": "68e2cdce",
   "metadata": {},
   "source": [
    "## 2.1) Split dataset into train/testing while excluding demographic features"
   ]
  },
  {
   "cell_type": "code",
   "execution_count": null,
   "id": "485d78d4",
   "metadata": {},
   "outputs": [],
   "source": [
    "def split_data_4(df, key_featsubgroups=key_featsubgroups, target=target, test_size=0.2, random_state=42):\n",
    "    \"\"\"\n",
    "    Splits the dataset into training and testing sets while excluding demographic features.\n",
    "\n",
    "    Parameters:\n",
    "    df (DataFrame): The dataset containing features and target variable.\n",
    "    key_featsubgroups (DataFrame): A mapping of feature subgroups.\n",
    "    target (str): The name of the target variable.\n",
    "    test_size (float, optional): The proportion of the dataset to allocate for testing. Default is 0.2.\n",
    "    random_state (int, optional): Random seed for reproducibility. Default is 42.\n",
    "\n",
    "    Returns:\n",
    "    tuple: X_train, X_test, y_train, y_test (training and testing datasets)\n",
    "    \"\"\"\n",
    "\n",
    "    # Extract demographic features\n",
    "    demo_feat = key_featsubgroups.loc[key_featsubgroups['subgroup'] == 'demo', 'list_features'].values[0]\n",
    "    print(\"Demographic Features:\", demo_feat)\n",
    "\n",
    "    # Separate features (X) and target variable (y), excluding demographic features\n",
    "    X = df.drop(columns=[target] + demo_feat)\n",
    "    y = df[target]\n",
    "\n",
    "    # Split the dataset into training (80%) and testing (20%) sets\n",
    "    X_train, X_test, y_train, y_test = train_test_split(\n",
    "        X, y, test_size=test_size, random_state=random_state\n",
    "    )\n",
    "\n",
    "    # Print dataset shapes\n",
    "    print(f\"Training Features Shape: {X_train.shape}\")\n",
    "    print(f\"Training Labels Shape: {y_train.shape}\")\n",
    "    print(f\"Testing Features Shape: {X_test.shape}\")\n",
    "    print(f\"Testing Labels Shape: {y_test.shape}\")\n",
    "\n",
    "    return X_train, X_test, y_train, y_test"
   ]
  },
  {
   "cell_type": "markdown",
   "id": "daded45c",
   "metadata": {},
   "source": [
    "## 2.2) Model Training and prediction"
   ]
  },
  {
   "cell_type": "code",
   "execution_count": null,
   "id": "54135124",
   "metadata": {},
   "outputs": [],
   "source": [
    "model_gam = {\n",
    "        1: LinearGAM,\n",
    "        2: LogisticGAM,\n",
    "        3: PoissonGAM,\n",
    "        4: GammaGAM\n",
    "    }"
   ]
  },
  {
   "cell_type": "code",
   "execution_count": null,
   "id": "cca9e4ea",
   "metadata": {},
   "outputs": [],
   "source": [
    "def gam(df: pd.DataFrame, model_numb: int, results_dict) -> dict:\n",
    "    \"\"\"\n",
    "    Description:\n",
    "    -----------\n",
    "        This function trains a Generalized Additive Model (GAM) on the provided DataFrame.\n",
    "        It supports different types of GAMs based on the model_numb parameter.\n",
    "        It splits the data into training and testing sets, fits the model, and evaluates its performance.\n",
    "\n",
    "    Parameters:\n",
    "    -----------\n",
    "        df (pd.DataFrame):      The input DataFrame containing features and target variable.\n",
    "        model_numb (int):       An integer indicating the type of GAM to use:\n",
    "                                1 for LinearGAM, 2 for LogisticGAM, 3 for PoissonGAM, 4 for GammaGAM.\n",
    "        results_dict (dict):    A dictionary to store the results of the model training and evaluation.\n",
    "\n",
    "    Returns:\n",
    "    --------\n",
    "        dict: A dictionary containing the trained GAM model and its evaluation metrics.\n",
    "\n",
    "    \"\"\"\n",
    "\n",
    "    start_time = time.time()\n",
    "    # choosing model based on model_numb\n",
    "    model_gam = {\n",
    "        1: LinearGAM,\n",
    "        2: LogisticGAM,\n",
    "        3: PoissonGAM,\n",
    "        4: GammaGAM\n",
    "    }\n",
    "\n",
    "    # Split the data into training and testing sets\n",
    "    X_train, X_test, y_train, y_test = split_data_4(df)\n",
    "    _, n = X_train.shape\n",
    "\n",
    "    # Initialize and train the GAM model\n",
    "    gam = model_gam[model_numb](s(0))\n",
    "    for i in range(1, n-1):\n",
    "        gam += s(i)\n",
    "    gam.fit(X_train, y_train)\n",
    "\n",
    "    # Perform cross-validation with CV=5 on training data\n",
    "    y_train_pred = cross_val_predict(gam, X_train, y_train, cv=5)\n",
    "\n",
    "    # Make predictions on the test set\n",
    "    y_test_pred = gam.predict(X_test)\n",
    "\n",
    "    # Compute confusion matrices\n",
    "    cfm_train = confusion_matrix(y_train, y_train_pred)\n",
    "    cfm_test = confusion_matrix(y_test, y_test_pred)\n",
    "\n",
    "    # Compute accuracy scores\n",
    "    accs_train = accuracy_score(y_train, y_train_pred)\n",
    "    accs_test = accuracy_score(y_test, y_test_pred)\n",
    "\n",
    "    # Compute F1-scores for both classes (0 and 1)\n",
    "    f1s_train_p1 = f1_score(y_train, y_train_pred, pos_label=1)\n",
    "    f1s_train_p0 = f1_score(y_train, y_train_pred, pos_label=0)\n",
    "    f1s_test_p1 = f1_score(y_test, y_test_pred, pos_label=1)\n",
    "    f1s_test_p0 = f1_score(y_test, y_test_pred, pos_label=0)\n",
    "\n",
    "    # Compute ROC-AUC score for the test data\n",
    "    test_ras = roc_auc_score(y_test, gam.predict_proba(X_test)[:, 1])\n",
    "\n",
    "    # Extract feature importances\n",
    "    global_importance = gam.explain_global().data()\n",
    "    local_importance = gam.explain_local(X_test, y_test).data()\n",
    "\n",
    "    total_time = (time.time() - start_time) / 60\n",
    "    print(f\"EBM Model training completed in {total_time:.2f} minutes\")\n",
    "\n",
    "    # Store the computed metrics in the results dictionary\n",
    "    results_dict[\"GAM\"] = {\n",
    "        \"classifier\": deepcopy(gam),\n",
    "        \"cfm_train\": cfm_train,\n",
    "        \"cfm_test\": cfm_test,\n",
    "        \"train_accuracy\": accs_train,\n",
    "        \"test_accuracy\": accs_test,\n",
    "        \"train F1-score label 1\": f1s_train_p1,\n",
    "        \"train F1-score label 0\": f1s_train_p0,\n",
    "        \"test F1-score label 1\": f1s_test_p1,\n",
    "        \"test F1-score label 0\": f1s_test_p0,\n",
    "        \"test roc auc score\": test_ras,\n",
    "        \"default_params\": gam.get_params(),  # Save the default parameters used\n",
    "        \"global_importance\": global_importance,\n",
    "        \"local_importance\": local_importance,\n",
    "        \"time_m\": total_time\n",
    "    }\n",
    "\n",
    "    return results_dict"
   ]
  },
  {
   "cell_type": "code",
   "execution_count": null,
   "id": "bfe58de6",
   "metadata": {},
   "outputs": [],
   "source": [
    "def gam_tuning(df: pd.DataFrame, model_numb: int, results_dict, best_params) -> dict:\n",
    "    \"\"\"\n",
    "    Description:\n",
    "    -----------\n",
    "        This function trains a Generalized Additive Model (GAM) on the provided DataFrame.\n",
    "        It supports different types of GAMs based on the model_numb parameter.\n",
    "        It splits the data into training and testing sets, fits the model, and evaluates its performance.\n",
    "\n",
    "    Parameters:\n",
    "    -----------\n",
    "        df (pd.DataFrame):      The input DataFrame containing features and target variable.\n",
    "        model_numb (int):       An integer indicating the type of GAM to use:\n",
    "                                1 for LinearGAM, 2 for LogisticGAM, 3 for PoissonGAM, 4 for GammaGAM.\n",
    "        results_dict (dict):    A dictionary to store the results of the model training and evaluation.\n",
    "\n",
    "    Returns:\n",
    "    --------\n",
    "        dict: A dictionary containing the trained GAM model and its evaluation metrics.\n",
    "\n",
    "    \"\"\"\n",
    "\n",
    "    start_time = time.time()\n",
    "    # choosing model based on model_numb\n",
    "    model_gam = {\n",
    "        1: LinearGAM,\n",
    "        2: LogisticGAM,\n",
    "        3: PoissonGAM,\n",
    "        4: GammaGAM\n",
    "    }\n",
    "\n",
    "    # Split the data into training and testing sets\n",
    "    X_train, X_test, y_train, y_test = split_data_4(df)\n",
    "    _, n = X_train.shape\n",
    "\n",
    "    # Initialize and train the GAM model\n",
    "    gam = model_gam[model_numb](s(0),**best_params)\n",
    "    for i in range(1, n-1):\n",
    "        gam += s(i)\n",
    "    gam.fit(X_train, y_train)\n",
    "\n",
    "    # Perform cross-validation with CV=5 on training data\n",
    "    y_train_pred = cross_val_predict(gam, X_train, y_train, cv=5)\n",
    "\n",
    "    # Make predictions on the test set\n",
    "    y_test_pred = gam.predict(X_test)\n",
    "\n",
    "    # Compute confusion matrices\n",
    "    cfm_train = confusion_matrix(y_train, y_train_pred)\n",
    "    cfm_test = confusion_matrix(y_test, y_test_pred)\n",
    "\n",
    "    # Compute accuracy scores\n",
    "    accs_train = accuracy_score(y_train, y_train_pred)\n",
    "    accs_test = accuracy_score(y_test, y_test_pred)\n",
    "\n",
    "    # Compute F1-scores for both classes (0 and 1)\n",
    "    f1s_train_p1 = f1_score(y_train, y_train_pred, pos_label=1)\n",
    "    f1s_train_p0 = f1_score(y_train, y_train_pred, pos_label=0)\n",
    "    f1s_test_p1 = f1_score(y_test, y_test_pred, pos_label=1)\n",
    "    f1s_test_p0 = f1_score(y_test, y_test_pred, pos_label=0)\n",
    "\n",
    "    # Compute ROC-AUC score for the test data\n",
    "    test_ras = roc_auc_score(y_test, gam.predict_proba(X_test)[:, 1])\n",
    "\n",
    "    # Extract feature importances\n",
    "    global_importance = gam.explain_global().data()\n",
    "    local_importance = gam.explain_local(X_test, y_test).data()\n",
    "\n",
    "    total_time = (time.time() - start_time) / 60\n",
    "    print(f\"EBM Model training completed in {total_time:.2f} minutes\")\n",
    "\n",
    "    # Store the computed metrics in the results dictionary\n",
    "    results_dict[\"GAM\"] = {\n",
    "        \"classifier\": deepcopy(gam),\n",
    "        \"cfm_train\": cfm_train,\n",
    "        \"cfm_test\": cfm_test,\n",
    "        \"train_accuracy\": accs_train,\n",
    "        \"test_accuracy\": accs_test,\n",
    "        \"train F1-score label 1\": f1s_train_p1,\n",
    "        \"train F1-score label 0\": f1s_train_p0,\n",
    "        \"test F1-score label 1\": f1s_test_p1,\n",
    "        \"test F1-score label 0\": f1s_test_p0,\n",
    "        \"test roc auc score\": test_ras,\n",
    "        \"default_params\": gam.get_params(),  # Save the default parameters used\n",
    "        \"global_importance\": global_importance,\n",
    "        \"local_importance\": local_importance,\n",
    "        \"time_m\": total_time\n",
    "    }\n",
    "\n",
    "    return results_dict"
   ]
  },
  {
   "cell_type": "markdown",
   "id": "069ce1d3",
   "metadata": {},
   "source": [
    "# 6) Run GAM"
   ]
  },
  {
   "cell_type": "markdown",
   "id": "9c13d053",
   "metadata": {},
   "source": [
    "## 6.1) Without tuning"
   ]
  },
  {
   "cell_type": "code",
   "execution_count": null,
   "id": "e9c2bd52",
   "metadata": {},
   "outputs": [],
   "source": []
  }
 ],
 "metadata": {
  "kernelspec": {
   "display_name": "Work",
   "language": "python",
   "name": "python3"
  },
  "language_info": {
   "codemirror_mode": {
    "name": "ipython",
    "version": 3
   },
   "file_extension": ".py",
   "mimetype": "text/x-python",
   "name": "python",
   "nbconvert_exporter": "python",
   "pygments_lexer": "ipython3",
   "version": "3.10.16"
  }
 },
 "nbformat": 4,
 "nbformat_minor": 5
}
